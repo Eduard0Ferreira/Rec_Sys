{
 "cells": [
  {
   "metadata": {
    "ExecuteTime": {
     "end_time": "2024-04-17T01:23:43.439496Z",
     "start_time": "2024-04-17T01:23:41.728487Z"
    }
   },
   "cell_type": "code",
   "source": [
    "import matplotlib.pyplot as plt\n",
    "import matplotlib_inline.backend_inline\n",
    "import numpy as np\n",
    "import pandas as pd\n",
    "import torch\n",
    "from collections import defaultdict\n",
    "from sklearn.cluster import KMeans\n",
    "from sklearn.metrics import f1_score, precision_score, recall_score\n",
    "from sklearn.preprocessing import StandardScaler, LabelEncoder\n",
    "from torch import nn, optim\n",
    "from torch.utils.data import TensorDataset, DataLoader\n",
    "from sklearn.model_selection import train_test_split\n",
    "\n",
    "matplotlib_inline.backend_inline.set_matplotlib_formats('svg')\n",
    "\n",
    "device = torch.device('cuda' if torch.cuda.is_available() else 'cpu')"
   ],
   "id": "a5c319ca0fcfad60",
   "outputs": [],
   "execution_count": 1
  },
  {
   "metadata": {
    "ExecuteTime": {
     "end_time": "2024-04-17T01:23:43.442417Z",
     "start_time": "2024-04-17T01:23:43.440543Z"
    }
   },
   "cell_type": "code",
   "source": "# preprocessing code",
   "id": "50abf865117d8cb7",
   "outputs": [],
   "execution_count": 2
  },
  {
   "metadata": {
    "ExecuteTime": {
     "end_time": "2024-04-17T01:23:43.484022Z",
     "start_time": "2024-04-17T01:23:43.443174Z"
    }
   },
   "cell_type": "code",
   "source": [
    "df_ratings = pd.read_csv('../../../Dataset/ml-latest-small/ratings.csv')\n",
    "df_movies = pd.read_csv('../../../Dataset/ml-latest-small/movies.csv')"
   ],
   "id": "eee7b40899e459bc",
   "outputs": [],
   "execution_count": 3
  },
  {
   "metadata": {
    "ExecuteTime": {
     "end_time": "2024-04-17T01:23:43.496435Z",
     "start_time": "2024-04-17T01:23:43.485400Z"
    }
   },
   "cell_type": "code",
   "source": "df_user_item = pd.merge(df_ratings, df_movies, on='movieId', how='inner')",
   "id": "b7ea23c65ccef7a6",
   "outputs": [],
   "execution_count": 4
  },
  {
   "metadata": {
    "ExecuteTime": {
     "end_time": "2024-04-17T01:23:43.510578Z",
     "start_time": "2024-04-17T01:23:43.497460Z"
    }
   },
   "cell_type": "code",
   "source": [
    "d = defaultdict(LabelEncoder)\n",
    "cols_cat = ['userId', 'movieId']\n",
    "for c in cols_cat:\n",
    "    d[c].fit(df_user_item[c].unique())\n",
    "    df_user_item[c] = d[c].transform(df_user_item[c])"
   ],
   "id": "d718cb6e272db585",
   "outputs": [],
   "execution_count": 5
  },
  {
   "metadata": {
    "ExecuteTime": {
     "end_time": "2024-04-17T01:23:43.852304Z",
     "start_time": "2024-04-17T01:23:43.832243Z"
    }
   },
   "cell_type": "code",
   "source": [
    "df_train = df_user_item.groupby('userId').head(-5).reset_index(drop=True)\n",
    "df_val = df_user_item.groupby('userId').tail(5).reset_index(drop=True)"
   ],
   "id": "e93578664c5a65a9",
   "outputs": [],
   "execution_count": 6
  },
  {
   "metadata": {
    "ExecuteTime": {
     "end_time": "2024-04-17T01:24:13.557290Z",
     "start_time": "2024-04-17T01:24:13.554655Z"
    }
   },
   "cell_type": "code",
   "source": [
    "# class MovieDataset(Dataset):\n",
    "#     def __init__(self, df):\n",
    "#         super().__init__()\n",
    "#         self.df = df[['userId', 'movieId', 'rating']]\n",
    "#         self.x_user_movie = list(zip(df.userId.values, df.movieId.values))\n",
    "#         self.y_rating = self.df.rating.values\n",
    "# \n",
    "#     def __len__(self):\n",
    "#         return len(self.df)\n",
    "# \n",
    "#     def __getitem__(self, idx):\n",
    "#         return self.x_user_movie[idx], self.y_rating[idx]\n",
    "# \n",
    "# \n",
    "# BS = 8192\n",
    "# ds_train = MovieDataset(df_train)\n",
    "# ds_val = MovieDataset(df_val)\n",
    "# dl_train = DataLoader(ds_train, BS, shuffle=True, num_workers=4)\n",
    "# dl_val = DataLoader(ds_val, BS, shuffle=True, num_workers=4)\n",
    "# \n",
    "# xb, yb = next(iter(dl_train))\n",
    "# print(xb)\n",
    "# print(yb)"
   ],
   "id": "20f3201a5eebdd12",
   "outputs": [],
   "execution_count": 9
  },
  {
   "metadata": {
    "ExecuteTime": {
     "end_time": "2024-04-17T01:24:18.282513Z",
     "start_time": "2024-04-17T01:24:18.208193Z"
    }
   },
   "cell_type": "code",
   "source": [
    "matrix = df_user_item[['userId', 'movieId', 'rating']]\n",
    "X = list(zip(matrix.userId.values, matrix.movieId.values))\n",
    "y = matrix.rating.values\n",
    "data_t = torch.tensor(X)\n",
    "labels = torch.tensor(y)\n",
    "labels = labels[:, None]"
   ],
   "id": "b85d8c84abf2ee16",
   "outputs": [],
   "execution_count": 10
  },
  {
   "metadata": {
    "ExecuteTime": {
     "end_time": "2024-04-18T11:28:36.013537Z",
     "start_time": "2024-04-18T11:28:36.007544Z"
    }
   },
   "cell_type": "code",
   "source": [
    "batch_size = 32\n",
    "\n",
    "# split the data\n",
    "train_data, test_data, train_labels, test_labels = train_test_split(data_t, labels, test_size=.1)\n",
    "\n",
    "#convert to a pytorch \n",
    "train_dataDataset = TensorDataset(train_data, train_labels)\n",
    "test_dataDataset = TensorDataset(test_data, test_labels)\n",
    "\n",
    "# train and test dataloaders\n",
    "train_loader = DataLoader(train_dataDataset, batch_size=batch_size, shuffle=True, drop_last=True)\n",
    "test_loader = DataLoader(test_dataDataset, batch_size=test_dataDataset.tensors[0].shape[0])"
   ],
   "id": "f0492d847c3b234c",
   "outputs": [],
   "execution_count": 59
  },
  {
   "metadata": {
    "ExecuteTime": {
     "end_time": "2024-04-18T11:28:36.294335Z",
     "start_time": "2024-04-18T11:28:36.291906Z"
    }
   },
   "cell_type": "code",
   "source": [
    "def sigmoid_range(x, low, high):\n",
    "    return torch.sigmoid(x) * (high - low) + low"
   ],
   "id": "e19de422b31a4336",
   "outputs": [],
   "execution_count": 60
  },
  {
   "metadata": {
    "ExecuteTime": {
     "end_time": "2024-04-18T11:36:13.088269Z",
     "start_time": "2024-04-18T11:36:13.077906Z"
    }
   },
   "cell_type": "code",
   "source": [
    "class MF(nn.Module):\n",
    "\n",
    "    def __init__(self, num_users, num_items, emb_dim, init, bias, sigmoid):\n",
    "        super().__init__()\n",
    "        self.bias = bias\n",
    "        self.sigmoid = sigmoid\n",
    "        self.user_emb = nn.Embedding(num_embeddings=num_users, embedding_dim=emb_dim)\n",
    "        self.item_emb = nn.Embedding(num_embeddings=num_items, embedding_dim=emb_dim)\n",
    "\n",
    "\n",
    "        # add bias\n",
    "        if bias:\n",
    "            self.user_bias = nn.Parameter(torch.zeros(num_users))\n",
    "            self.item_bias = nn.Parameter(torch.zeros(num_items))\n",
    "            self.offset = nn.Parameter(torch.zeros(1))\n",
    "        if init:\n",
    "            self.user_emb.weight.data.uniform_(0., 0.5)\n",
    "            self.item_emb.weight.data.uniform_(0., 0.5)\n",
    "    \n",
    "    \n",
    "    def forward(self, x):\n",
    "        user, item = X\n",
    "        user_emb = self.user_emb(user)\n",
    "        item_emb = self.item_emb(item)\n",
    "        element_product = (user_emb * item_emb).sum(1)\n",
    "        if self.bias:\n",
    "            user_b = self.user_bias[user]\n",
    "            item_b = self.item_bias[item]\n",
    "            element_product += user_b + item_b + self.offset\n",
    "        if self.sigmoid:\n",
    "            return sigmoid_range(element_product, 0, 5.5)\n",
    "        return (user_emb * item_emb).sum(1)\n",
    "\n",
    "\n",
    "n_users = len(df_user_item.userId.unique())\n",
    "n_items = len(df_user_item.movieId.unique())\n",
    "mf_model = MF(n_users, n_items, emb_dim=32, init=True, bias=True, sigmoid=True)\n",
    "mf_model.to(device)\n",
    "print(mf_model)"
   ],
   "id": "8317fb9c10429f26",
   "outputs": [
    {
     "name": "stdout",
     "output_type": "stream",
     "text": [
      "MF(\n",
      "  (user_emb): Embedding(610, 32)\n",
      "  (item_emb): Embedding(9724, 32)\n",
      ")\n"
     ]
    }
   ],
   "execution_count": 76
  },
  {
   "metadata": {
    "ExecuteTime": {
     "end_time": "2024-04-18T11:36:14.652786Z",
     "start_time": "2024-04-18T11:36:14.650061Z"
    }
   },
   "cell_type": "code",
   "source": [
    "def rout_to_0p5(list_nums):\n",
    "    return np.round(np.array(list_nums) * 2) / 2"
   ],
   "id": "af738f05251d6766",
   "outputs": [],
   "execution_count": 77
  },
  {
   "metadata": {
    "ExecuteTime": {
     "end_time": "2024-04-18T11:36:15.331142Z",
     "start_time": "2024-04-18T11:36:15.327254Z"
    }
   },
   "cell_type": "code",
   "source": [
    "# train the model\n",
    "\n",
    "def trainTheModel(MF, num_epochs):\n",
    "    loss_fun = nn.MSELoss()\n",
    "    optimizer = optim.SGD(MF.parameters(), lr=.01)\n",
    "    # initialize accuracies as empties\n",
    "    train_losses = []\n",
    "    val_losses = []\n",
    "\n",
    "    # loop over epochs\n",
    "    for epoch in range(num_epochs):\n",
    "\n",
    "        # activate training mode\n",
    "        mf_model.train()\n",
    "\n",
    "        # loop over training data batches\n",
    "        batchAcc = []\n",
    "        batchLoss = []\n",
    "        for X, y in train_loader:\n",
    "            # forward pass and loss\n",
    "            y_hat = mf_model(X)\n",
    "            loss = lossfun(y_hat, y)\n",
    "\n",
    "            # backproptestAcc\n",
    "            optimizer.zero_grad()\n",
    "            loss.backward()\n",
    "            optimizer.step()\n",
    "\n",
    "            batchLoss.append(loss.item())\n",
    "\n",
    "        # now that we've trained through the batches, get their average training accuracy\n",
    "        train_losses.append(np.mean(batchLoss))\n",
    "\n",
    "\n",
    "        # extract X,y from test dataloader\n",
    "        X, y = next(iter(test_loader))\n",
    "\n",
    "        # activate testing mode\n",
    "        mf_model.eval()\n",
    "        with torch.no_grad():\n",
    "            y_hat = mf_model(X)\n",
    "            loss = lossfun(y_hat, y)\n",
    "        val_losses.append(loss)\n",
    "\n",
    "    # function output\n",
    "    return train_losses, val_losses\n"
   ],
   "id": "2880a41e8abfd723",
   "outputs": [],
   "execution_count": 78
  },
  {
   "metadata": {
    "ExecuteTime": {
     "end_time": "2024-04-18T11:37:32.400988Z",
     "start_time": "2024-04-18T11:37:32.348277Z"
    }
   },
   "cell_type": "code",
   "source": [
    "X, y = next(iter(test_loader))\n",
    "y.shape"
   ],
   "id": "5d28e7bc8913a9b",
   "outputs": [
    {
     "data": {
      "text/plain": [
       "torch.Size([10084, 1])"
      ]
     },
     "execution_count": 84,
     "metadata": {},
     "output_type": "execute_result"
    }
   ],
   "execution_count": 84
  },
  {
   "metadata": {
    "ExecuteTime": {
     "end_time": "2024-04-18T11:36:16.501407Z",
     "start_time": "2024-04-18T11:36:16.446707Z"
    }
   },
   "cell_type": "code",
   "source": [
    "# MF = MF()\n",
    "\n",
    "train_losses, val_losses = trainTheModel(mf_model, num_epochs=1)"
   ],
   "id": "bc7bf88441af8a93",
   "outputs": [
    {
     "ename": "ValueError",
     "evalue": "too many values to unpack (expected 2)",
     "output_type": "error",
     "traceback": [
      "\u001B[0;31m---------------------------------------------------------------------------\u001B[0m",
      "\u001B[0;31mValueError\u001B[0m                                Traceback (most recent call last)",
      "Cell \u001B[0;32mIn[79], line 2\u001B[0m\n\u001B[1;32m      1\u001B[0m \u001B[38;5;66;03m# MF = MF()\u001B[39;00m\n\u001B[0;32m----> 2\u001B[0m train_losses, val_losses \u001B[38;5;241m=\u001B[39m \u001B[43mtrainTheModel\u001B[49m\u001B[43m(\u001B[49m\u001B[43mmf_model\u001B[49m\u001B[43m,\u001B[49m\u001B[43m \u001B[49m\u001B[43mnum_epochs\u001B[49m\u001B[38;5;241;43m=\u001B[39;49m\u001B[38;5;241;43m1\u001B[39;49m\u001B[43m)\u001B[49m\n",
      "Cell \u001B[0;32mIn[78], line 21\u001B[0m, in \u001B[0;36mtrainTheModel\u001B[0;34m(MF, num_epochs)\u001B[0m\n\u001B[1;32m     18\u001B[0m batchLoss \u001B[38;5;241m=\u001B[39m []\n\u001B[1;32m     19\u001B[0m \u001B[38;5;28;01mfor\u001B[39;00m X, y \u001B[38;5;129;01min\u001B[39;00m train_loader:\n\u001B[1;32m     20\u001B[0m     \u001B[38;5;66;03m# forward pass and loss\u001B[39;00m\n\u001B[0;32m---> 21\u001B[0m     y_hat \u001B[38;5;241m=\u001B[39m \u001B[43mmf_model\u001B[49m\u001B[43m(\u001B[49m\u001B[43mX\u001B[49m\u001B[43m)\u001B[49m\n\u001B[1;32m     22\u001B[0m     loss \u001B[38;5;241m=\u001B[39m lossfun(y_hat, y)\n\u001B[1;32m     24\u001B[0m     \u001B[38;5;66;03m# backproptestAcc\u001B[39;00m\n",
      "File \u001B[0;32m~/PycharmProjects/RecSys-Background/.venv/lib/python3.10/site-packages/torch/nn/modules/module.py:1511\u001B[0m, in \u001B[0;36mModule._wrapped_call_impl\u001B[0;34m(self, *args, **kwargs)\u001B[0m\n\u001B[1;32m   1509\u001B[0m     \u001B[38;5;28;01mreturn\u001B[39;00m \u001B[38;5;28mself\u001B[39m\u001B[38;5;241m.\u001B[39m_compiled_call_impl(\u001B[38;5;241m*\u001B[39margs, \u001B[38;5;241m*\u001B[39m\u001B[38;5;241m*\u001B[39mkwargs)  \u001B[38;5;66;03m# type: ignore[misc]\u001B[39;00m\n\u001B[1;32m   1510\u001B[0m \u001B[38;5;28;01melse\u001B[39;00m:\n\u001B[0;32m-> 1511\u001B[0m     \u001B[38;5;28;01mreturn\u001B[39;00m \u001B[38;5;28;43mself\u001B[39;49m\u001B[38;5;241;43m.\u001B[39;49m\u001B[43m_call_impl\u001B[49m\u001B[43m(\u001B[49m\u001B[38;5;241;43m*\u001B[39;49m\u001B[43margs\u001B[49m\u001B[43m,\u001B[49m\u001B[43m \u001B[49m\u001B[38;5;241;43m*\u001B[39;49m\u001B[38;5;241;43m*\u001B[39;49m\u001B[43mkwargs\u001B[49m\u001B[43m)\u001B[49m\n",
      "File \u001B[0;32m~/PycharmProjects/RecSys-Background/.venv/lib/python3.10/site-packages/torch/nn/modules/module.py:1520\u001B[0m, in \u001B[0;36mModule._call_impl\u001B[0;34m(self, *args, **kwargs)\u001B[0m\n\u001B[1;32m   1515\u001B[0m \u001B[38;5;66;03m# If we don't have any hooks, we want to skip the rest of the logic in\u001B[39;00m\n\u001B[1;32m   1516\u001B[0m \u001B[38;5;66;03m# this function, and just call forward.\u001B[39;00m\n\u001B[1;32m   1517\u001B[0m \u001B[38;5;28;01mif\u001B[39;00m \u001B[38;5;129;01mnot\u001B[39;00m (\u001B[38;5;28mself\u001B[39m\u001B[38;5;241m.\u001B[39m_backward_hooks \u001B[38;5;129;01mor\u001B[39;00m \u001B[38;5;28mself\u001B[39m\u001B[38;5;241m.\u001B[39m_backward_pre_hooks \u001B[38;5;129;01mor\u001B[39;00m \u001B[38;5;28mself\u001B[39m\u001B[38;5;241m.\u001B[39m_forward_hooks \u001B[38;5;129;01mor\u001B[39;00m \u001B[38;5;28mself\u001B[39m\u001B[38;5;241m.\u001B[39m_forward_pre_hooks\n\u001B[1;32m   1518\u001B[0m         \u001B[38;5;129;01mor\u001B[39;00m _global_backward_pre_hooks \u001B[38;5;129;01mor\u001B[39;00m _global_backward_hooks\n\u001B[1;32m   1519\u001B[0m         \u001B[38;5;129;01mor\u001B[39;00m _global_forward_hooks \u001B[38;5;129;01mor\u001B[39;00m _global_forward_pre_hooks):\n\u001B[0;32m-> 1520\u001B[0m     \u001B[38;5;28;01mreturn\u001B[39;00m \u001B[43mforward_call\u001B[49m\u001B[43m(\u001B[49m\u001B[38;5;241;43m*\u001B[39;49m\u001B[43margs\u001B[49m\u001B[43m,\u001B[49m\u001B[43m \u001B[49m\u001B[38;5;241;43m*\u001B[39;49m\u001B[38;5;241;43m*\u001B[39;49m\u001B[43mkwargs\u001B[49m\u001B[43m)\u001B[49m\n\u001B[1;32m   1522\u001B[0m \u001B[38;5;28;01mtry\u001B[39;00m:\n\u001B[1;32m   1523\u001B[0m     result \u001B[38;5;241m=\u001B[39m \u001B[38;5;28;01mNone\u001B[39;00m\n",
      "Cell \u001B[0;32mIn[76], line 22\u001B[0m, in \u001B[0;36mMF.forward\u001B[0;34m(self, x)\u001B[0m\n\u001B[1;32m     21\u001B[0m \u001B[38;5;28;01mdef\u001B[39;00m \u001B[38;5;21mforward\u001B[39m(\u001B[38;5;28mself\u001B[39m, x):\n\u001B[0;32m---> 22\u001B[0m     user, item \u001B[38;5;241m=\u001B[39m X\n\u001B[1;32m     23\u001B[0m     user_emb \u001B[38;5;241m=\u001B[39m \u001B[38;5;28mself\u001B[39m\u001B[38;5;241m.\u001B[39muser_emb(user)\n\u001B[1;32m     24\u001B[0m     item_emb \u001B[38;5;241m=\u001B[39m \u001B[38;5;28mself\u001B[39m\u001B[38;5;241m.\u001B[39mitem_emb(item)\n",
      "\u001B[0;31mValueError\u001B[0m: too many values to unpack (expected 2)"
     ]
    }
   ],
   "execution_count": 79
  },
  {
   "metadata": {
    "ExecuteTime": {
     "end_time": "2024-04-18T11:33:55.651853Z",
     "start_time": "2024-04-18T11:33:55.630500Z"
    }
   },
   "cell_type": "code",
   "source": [
    "plt.figure(figsize=(8, 4))\n",
    "plt.plot(epoch_train_losses, label='Train')\n",
    "plt.plot(epoch_val_losses, label='Val')\n",
    "plt.title('Loss vs Epoch')\n",
    "plt.xlabel('Epoch')\n",
    "plt.ylabel('Loss')\n",
    "plt.grid()\n",
    "plt.legend();\n"
   ],
   "id": "455d353ff84c4749",
   "outputs": [
    {
     "ename": "NameError",
     "evalue": "name 'epoch_train_losses' is not defined",
     "output_type": "error",
     "traceback": [
      "\u001B[0;31m---------------------------------------------------------------------------\u001B[0m",
      "\u001B[0;31mNameError\u001B[0m                                 Traceback (most recent call last)",
      "Cell \u001B[0;32mIn[70], line 2\u001B[0m\n\u001B[1;32m      1\u001B[0m plt\u001B[38;5;241m.\u001B[39mfigure(figsize\u001B[38;5;241m=\u001B[39m(\u001B[38;5;241m8\u001B[39m, \u001B[38;5;241m4\u001B[39m))\n\u001B[0;32m----> 2\u001B[0m plt\u001B[38;5;241m.\u001B[39mplot(\u001B[43mepoch_train_losses\u001B[49m, label\u001B[38;5;241m=\u001B[39m\u001B[38;5;124m'\u001B[39m\u001B[38;5;124mTrain\u001B[39m\u001B[38;5;124m'\u001B[39m)\n\u001B[1;32m      3\u001B[0m plt\u001B[38;5;241m.\u001B[39mplot(epoch_val_losses, label\u001B[38;5;241m=\u001B[39m\u001B[38;5;124m'\u001B[39m\u001B[38;5;124mVal\u001B[39m\u001B[38;5;124m'\u001B[39m)\n\u001B[1;32m      4\u001B[0m plt\u001B[38;5;241m.\u001B[39mtitle(\u001B[38;5;124m'\u001B[39m\u001B[38;5;124mLoss vs Epoch\u001B[39m\u001B[38;5;124m'\u001B[39m)\n",
      "\u001B[0;31mNameError\u001B[0m: name 'epoch_train_losses' is not defined"
     ]
    },
    {
     "data": {
      "text/plain": [
       "<Figure size 800x400 with 0 Axes>"
      ]
     },
     "metadata": {},
     "output_type": "display_data"
    }
   ],
   "execution_count": 70
  },
  {
   "metadata": {
    "ExecuteTime": {
     "end_time": "2024-04-16T17:52:50.500959Z",
     "start_time": "2024-04-16T17:52:50.496190Z"
    }
   },
   "cell_type": "code",
   "source": [
    "user_emb_min_w = mdl.user_emb.weight.min().item()\n",
    "user_emb_max_w = mdl.user_emb.weight.max().item()\n",
    "item_emb_min_w = mdl.item_emb.weight.min().item()\n",
    "item_emb_max_w = mdl.item_emb.weight.max().item()\n",
    "\n",
    "print(f'Emb user min/max w: {user_emb_min_w:0.3f} / {user_emb_max_w:0.3f}')\n",
    "print(f'Emb item min/max w: {item_emb_min_w:0.3f} / {item_emb_max_w:0.3f}')\n",
    "print(f'Preds min/max: {preds.min().item():0.2f} / {preds.max().item():0.2f}')\n",
    "print(f'Rating min/max: {yRatings.min().item():0.2f} / {yRatings.max().item():0.2f}')\n",
    "print(preds.detach().cpu().numpy()[:6])\n",
    "print(yRatings.detach().cpu().numpy()[:6])"
   ],
   "id": "dd4fd62d4a90fed3",
   "outputs": [
    {
     "name": "stdout",
     "output_type": "stream",
     "text": [
      "Emb user min/max w: -1.357 / 1.507\n",
      "Emb item min/max w: -3.371 / 3.096\n",
      "Preds min/max: 0.20 / 5.48\n",
      "Rating min/max: 0.50 / 5.00\n",
      "[4.2152243 4.4050574 2.6333163 2.5152512 3.277493  3.20929  ]\n",
      "[3.  2.  3.5 2.  2.5 3. ]\n"
     ]
    }
   ],
   "execution_count": 13
  },
  {
   "metadata": {
    "ExecuteTime": {
     "end_time": "2024-04-18T10:29:17.348868Z",
     "start_time": "2024-04-18T10:29:17.324772Z"
    }
   },
   "cell_type": "code",
   "source": [
    "# Example data\n",
    "data = [\n",
    "    ['A', 'X'],\n",
    "    ['B', 'Y'],\n",
    "    ['C', 'Z'],\n",
    "    ['A', 'Y'],\n",
    "    ['B', 'X']\n",
    "]\n",
    "data\n",
    "# Transform two columns into a new unique index\n",
    "label_encoder = LabelEncoder()\n",
    "encoded_data = label_encoder.fit_transform(data)\n",
    "\n",
    "# Print the encoded data\n",
    "print(\"Encoded data:\", encoded_data)\n",
    "\n",
    "# Inverse transform to get back to the original structure\n",
    "original_data = label_encoder.inverse_transform(encoded_data)\n",
    "\n",
    "# Print the original data\n",
    "print(\"Original data:\", original_data)"
   ],
   "id": "457e593ad94986a4",
   "outputs": [
    {
     "ename": "ValueError",
     "evalue": "y should be a 1d array, got an array of shape (5, 2) instead.",
     "output_type": "error",
     "traceback": [
      "\u001B[0;31m---------------------------------------------------------------------------\u001B[0m",
      "\u001B[0;31mValueError\u001B[0m                                Traceback (most recent call last)",
      "Cell \u001B[0;32mIn[56], line 12\u001B[0m\n\u001B[1;32m     10\u001B[0m \u001B[38;5;66;03m# Transform two columns into a new unique index\u001B[39;00m\n\u001B[1;32m     11\u001B[0m label_encoder \u001B[38;5;241m=\u001B[39m LabelEncoder()\n\u001B[0;32m---> 12\u001B[0m encoded_data \u001B[38;5;241m=\u001B[39m \u001B[43mlabel_encoder\u001B[49m\u001B[38;5;241;43m.\u001B[39;49m\u001B[43mfit_transform\u001B[49m\u001B[43m(\u001B[49m\u001B[43mdata\u001B[49m\u001B[43m)\u001B[49m\n\u001B[1;32m     14\u001B[0m \u001B[38;5;66;03m# Print the encoded data\u001B[39;00m\n\u001B[1;32m     15\u001B[0m \u001B[38;5;28mprint\u001B[39m(\u001B[38;5;124m\"\u001B[39m\u001B[38;5;124mEncoded data:\u001B[39m\u001B[38;5;124m\"\u001B[39m, encoded_data)\n",
      "File \u001B[0;32m~/PycharmProjects/RecSys-Background/.venv/lib/python3.10/site-packages/sklearn/preprocessing/_label.py:114\u001B[0m, in \u001B[0;36mLabelEncoder.fit_transform\u001B[0;34m(self, y)\u001B[0m\n\u001B[1;32m    101\u001B[0m \u001B[38;5;28;01mdef\u001B[39;00m \u001B[38;5;21mfit_transform\u001B[39m(\u001B[38;5;28mself\u001B[39m, y):\n\u001B[1;32m    102\u001B[0m \u001B[38;5;250m    \u001B[39m\u001B[38;5;124;03m\"\"\"Fit label encoder and return encoded labels.\u001B[39;00m\n\u001B[1;32m    103\u001B[0m \n\u001B[1;32m    104\u001B[0m \u001B[38;5;124;03m    Parameters\u001B[39;00m\n\u001B[0;32m   (...)\u001B[0m\n\u001B[1;32m    112\u001B[0m \u001B[38;5;124;03m        Encoded labels.\u001B[39;00m\n\u001B[1;32m    113\u001B[0m \u001B[38;5;124;03m    \"\"\"\u001B[39;00m\n\u001B[0;32m--> 114\u001B[0m     y \u001B[38;5;241m=\u001B[39m \u001B[43mcolumn_or_1d\u001B[49m\u001B[43m(\u001B[49m\u001B[43my\u001B[49m\u001B[43m,\u001B[49m\u001B[43m \u001B[49m\u001B[43mwarn\u001B[49m\u001B[38;5;241;43m=\u001B[39;49m\u001B[38;5;28;43;01mTrue\u001B[39;49;00m\u001B[43m)\u001B[49m\n\u001B[1;32m    115\u001B[0m     \u001B[38;5;28mself\u001B[39m\u001B[38;5;241m.\u001B[39mclasses_, y \u001B[38;5;241m=\u001B[39m _unique(y, return_inverse\u001B[38;5;241m=\u001B[39m\u001B[38;5;28;01mTrue\u001B[39;00m)\n\u001B[1;32m    116\u001B[0m     \u001B[38;5;28;01mreturn\u001B[39;00m y\n",
      "File \u001B[0;32m~/PycharmProjects/RecSys-Background/.venv/lib/python3.10/site-packages/sklearn/utils/validation.py:1296\u001B[0m, in \u001B[0;36mcolumn_or_1d\u001B[0;34m(y, dtype, warn)\u001B[0m\n\u001B[1;32m   1285\u001B[0m         warnings\u001B[38;5;241m.\u001B[39mwarn(\n\u001B[1;32m   1286\u001B[0m             (\n\u001B[1;32m   1287\u001B[0m                 \u001B[38;5;124m\"\u001B[39m\u001B[38;5;124mA column-vector y was passed when a 1d array was\u001B[39m\u001B[38;5;124m\"\u001B[39m\n\u001B[0;32m   (...)\u001B[0m\n\u001B[1;32m   1292\u001B[0m             stacklevel\u001B[38;5;241m=\u001B[39m\u001B[38;5;241m2\u001B[39m,\n\u001B[1;32m   1293\u001B[0m         )\n\u001B[1;32m   1294\u001B[0m     \u001B[38;5;28;01mreturn\u001B[39;00m _asarray_with_order(xp\u001B[38;5;241m.\u001B[39mreshape(y, (\u001B[38;5;241m-\u001B[39m\u001B[38;5;241m1\u001B[39m,)), order\u001B[38;5;241m=\u001B[39m\u001B[38;5;124m\"\u001B[39m\u001B[38;5;124mC\u001B[39m\u001B[38;5;124m\"\u001B[39m, xp\u001B[38;5;241m=\u001B[39mxp)\n\u001B[0;32m-> 1296\u001B[0m \u001B[38;5;28;01mraise\u001B[39;00m \u001B[38;5;167;01mValueError\u001B[39;00m(\n\u001B[1;32m   1297\u001B[0m     \u001B[38;5;124m\"\u001B[39m\u001B[38;5;124my should be a 1d array, got an array of shape \u001B[39m\u001B[38;5;132;01m{}\u001B[39;00m\u001B[38;5;124m instead.\u001B[39m\u001B[38;5;124m\"\u001B[39m\u001B[38;5;241m.\u001B[39mformat(shape)\n\u001B[1;32m   1298\u001B[0m )\n",
      "\u001B[0;31mValueError\u001B[0m: y should be a 1d array, got an array of shape (5, 2) instead."
     ]
    }
   ],
   "execution_count": 56
  },
  {
   "metadata": {},
   "cell_type": "code",
   "outputs": [],
   "execution_count": null,
   "source": "",
   "id": "74ab7013e36f039f"
  }
 ],
 "metadata": {
  "kernelspec": {
   "display_name": "Python 3",
   "language": "python",
   "name": "python3"
  },
  "language_info": {
   "codemirror_mode": {
    "name": "ipython",
    "version": 2
   },
   "file_extension": ".py",
   "mimetype": "text/x-python",
   "name": "python",
   "nbconvert_exporter": "python",
   "pygments_lexer": "ipython2",
   "version": "2.7.6"
  }
 },
 "nbformat": 4,
 "nbformat_minor": 5
}
