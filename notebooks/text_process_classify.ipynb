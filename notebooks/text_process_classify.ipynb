{
 "cells": [
  {
   "cell_type": "code",
   "id": "initial_id",
   "metadata": {
    "collapsed": true,
    "ExecuteTime": {
     "end_time": "2024-04-27T11:49:26.128765Z",
     "start_time": "2024-04-27T11:49:26.126158Z"
    }
   },
   "source": [
    "import numpy as np\n",
    "import pandas as pd"
   ],
   "outputs": [],
   "execution_count": 1
  },
  {
   "metadata": {
    "ExecuteTime": {
     "end_time": "2024-04-27T11:49:27.123483Z",
     "start_time": "2024-04-27T11:49:26.620985Z"
    }
   },
   "cell_type": "code",
   "source": [
    "#for text pre-processing\n",
    "import re, string\n",
    "import nltk\n",
    "from nltk.tokenize import word_tokenize\n",
    "from nltk.corpus import stopwords\n",
    "from nltk.stem import SnowballStemmer\n",
    "from nltk.corpus import wordnet\n",
    "from nltk.stem import WordNetLemmatizer\n",
    "\n",
    "nltk.download('punkt')\n",
    "nltk.download('averaged_perceptron_tagger')\n",
    "nltk.download('wordnet')"
   ],
   "id": "e0375c593d769676",
   "outputs": [
    {
     "name": "stderr",
     "output_type": "stream",
     "text": [
      "[nltk_data] Downloading package punkt to /home/eduardo/nltk_data...\n",
      "[nltk_data]   Package punkt is already up-to-date!\n",
      "[nltk_data] Downloading package averaged_perceptron_tagger to\n",
      "[nltk_data]     /home/eduardo/nltk_data...\n",
      "[nltk_data]   Package averaged_perceptron_tagger is already up-to-\n",
      "[nltk_data]       date!\n",
      "[nltk_data] Downloading package wordnet to /home/eduardo/nltk_data...\n",
      "[nltk_data]   Package wordnet is already up-to-date!\n"
     ]
    },
    {
     "data": {
      "text/plain": [
       "True"
      ]
     },
     "execution_count": 2,
     "metadata": {},
     "output_type": "execute_result"
    }
   ],
   "execution_count": 2
  },
  {
   "metadata": {
    "ExecuteTime": {
     "end_time": "2024-04-27T11:49:28.110913Z",
     "start_time": "2024-04-27T11:49:28.104612Z"
    }
   },
   "cell_type": "code",
   "source": [
    "#for model-building\n",
    "from sklearn.model_selection import train_test_split\n",
    "from sklearn.linear_model import LogisticRegression\n",
    "from sklearn.naive_bayes import MultinomialNB\n",
    "from sklearn.metrics import classification_report, f1_score, accuracy_score, confusion_matrix\n",
    "from sklearn.metrics import roc_curve, auc, roc_auc_score"
   ],
   "id": "93b4a0c486b6d323",
   "outputs": [],
   "execution_count": 3
  },
  {
   "metadata": {
    "ExecuteTime": {
     "end_time": "2024-04-27T11:49:29.353066Z",
     "start_time": "2024-04-27T11:49:29.289469Z"
    }
   },
   "cell_type": "code",
   "source": [
    "# bag of words\n",
    "from sklearn.feature_extraction.text import TfidfVectorizer\n",
    "from sklearn.feature_extraction.text import CountVectorizer\n",
    "#for word embedding\n",
    "import gensim\n",
    "from gensim.models import Word2Vec"
   ],
   "id": "9ca5902224705d04",
   "outputs": [],
   "execution_count": 4
  },
  {
   "metadata": {
    "ExecuteTime": {
     "end_time": "2024-04-27T11:49:31.152171Z",
     "start_time": "2024-04-27T11:49:30.057775Z"
    }
   },
   "cell_type": "code",
   "source": "!pip install scipy==1.10.1",
   "id": "60849da5a0d7d2be",
   "outputs": [
    {
     "name": "stdout",
     "output_type": "stream",
     "text": [
      "Requirement already satisfied: scipy==1.10.1 in /home/eduardo/PycharmProjects/Rec_Model/.rec_sys/lib/python3.10/site-packages (1.10.1)\r\n",
      "Requirement already satisfied: numpy<1.27.0,>=1.19.5 in /home/eduardo/PycharmProjects/Rec_Model/.rec_sys/lib/python3.10/site-packages (from scipy==1.10.1) (1.26.4)\r\n"
     ]
    }
   ],
   "execution_count": 5
  },
  {
   "metadata": {
    "ExecuteTime": {
     "end_time": "2024-04-27T11:49:31.905832Z",
     "start_time": "2024-04-27T11:49:31.896739Z"
    }
   },
   "cell_type": "code",
   "source": [
    "# for data visualization\n",
    "import matplotlib.pyplot as plt\n",
    "import matplotlib_inline.backend_inline\n",
    "import seaborn as sns\n",
    "\n",
    "plt.style.use('ggplot')\n",
    "\n",
    "matplotlib_inline.backend_inline.set_matplotlib_formats('svg')"
   ],
   "id": "2474306c7c4087ee",
   "outputs": [],
   "execution_count": 6
  },
  {
   "metadata": {
    "ExecuteTime": {
     "end_time": "2024-04-27T11:51:19.474399Z",
     "start_time": "2024-04-27T11:51:19.050274Z"
    }
   },
   "cell_type": "code",
   "source": [
    "df_reviews = pd.read_csv('../dataset/imdb_reviews.csv')\n",
    "df_reviews.head(3)"
   ],
   "id": "1affd14348b968b2",
   "outputs": [
    {
     "data": {
      "text/plain": [
       "      id  rating                                             review  imdbId  \\\n",
       "0    940       3  I wasn't so impressed with this film, finding ...  384793   \n",
       "1    126       4  Worth the entertainment value of a rental, esp...  827521   \n",
       "2  10793       3  Abysmal pulp adventure exploitation in the jun...   46550   \n",
       "\n",
       "   sentiment  \n",
       "0          0  \n",
       "1          0  \n",
       "2          0  "
      ],
      "text/html": [
       "<div>\n",
       "<style scoped>\n",
       "    .dataframe tbody tr th:only-of-type {\n",
       "        vertical-align: middle;\n",
       "    }\n",
       "\n",
       "    .dataframe tbody tr th {\n",
       "        vertical-align: top;\n",
       "    }\n",
       "\n",
       "    .dataframe thead th {\n",
       "        text-align: right;\n",
       "    }\n",
       "</style>\n",
       "<table border=\"1\" class=\"dataframe\">\n",
       "  <thead>\n",
       "    <tr style=\"text-align: right;\">\n",
       "      <th></th>\n",
       "      <th>id</th>\n",
       "      <th>rating</th>\n",
       "      <th>review</th>\n",
       "      <th>imdbId</th>\n",
       "      <th>sentiment</th>\n",
       "    </tr>\n",
       "  </thead>\n",
       "  <tbody>\n",
       "    <tr>\n",
       "      <th>0</th>\n",
       "      <td>940</td>\n",
       "      <td>3</td>\n",
       "      <td>I wasn't so impressed with this film, finding ...</td>\n",
       "      <td>384793</td>\n",
       "      <td>0</td>\n",
       "    </tr>\n",
       "    <tr>\n",
       "      <th>1</th>\n",
       "      <td>126</td>\n",
       "      <td>4</td>\n",
       "      <td>Worth the entertainment value of a rental, esp...</td>\n",
       "      <td>827521</td>\n",
       "      <td>0</td>\n",
       "    </tr>\n",
       "    <tr>\n",
       "      <th>2</th>\n",
       "      <td>10793</td>\n",
       "      <td>3</td>\n",
       "      <td>Abysmal pulp adventure exploitation in the jun...</td>\n",
       "      <td>46550</td>\n",
       "      <td>0</td>\n",
       "    </tr>\n",
       "  </tbody>\n",
       "</table>\n",
       "</div>"
      ]
     },
     "execution_count": 8,
     "metadata": {},
     "output_type": "execute_result"
    }
   ],
   "execution_count": 8
  },
  {
   "metadata": {
    "ExecuteTime": {
     "end_time": "2024-04-27T11:51:31.901264Z",
     "start_time": "2024-04-27T11:51:31.602418Z"
    }
   },
   "cell_type": "code",
   "source": "df_reviews['word_count'] = df_reviews.review.apply(lambda x: len(x.split()))",
   "id": "7a711145657b8ac",
   "outputs": [],
   "execution_count": 9
  },
  {
   "metadata": {
    "ExecuteTime": {
     "end_time": "2024-04-27T11:51:31.911119Z",
     "start_time": "2024-04-27T11:51:31.902322Z"
    }
   },
   "cell_type": "code",
   "source": [
    "df_reviews[df_reviews['sentiment'] == 0]['word_count'].mean(), df_reviews[df_reviews['sentiment'] == 1][\n",
    "    'word_count'].mean()"
   ],
   "id": "962a9c4f597e9eb",
   "outputs": [
    {
     "data": {
      "text/plain": [
       "(229.46456, 232.84932)"
      ]
     },
     "execution_count": 10,
     "metadata": {},
     "output_type": "execute_result"
    }
   ],
   "execution_count": 10
  },
  {
   "metadata": {
    "ExecuteTime": {
     "end_time": "2024-04-27T11:51:33.447874Z",
     "start_time": "2024-04-27T11:51:33.166467Z"
    }
   },
   "cell_type": "code",
   "source": [
    "# PLOTTING WORD-COUNT\n",
    "fig, (ax1, ax2) = plt.subplots(1, 2, figsize=(10, 4))\n",
    "train_words = df_reviews[df_reviews['sentiment'] == 0]['word_count']\n",
    "ax1.hist(train_words, color='red')\n",
    "ax1.set_title('Negative')\n",
    "train_words = df_reviews[df_reviews['sentiment'] == 1]['word_count']\n",
    "ax2.hist(train_words, color='green')\n",
    "ax2.set_title('Positive')\n",
    "fig.suptitle('Sentiment')\n",
    "plt.show()"
   ],
   "id": "5f9f3f12e737e48b",
   "outputs": [
    {
     "data": {
      "text/plain": [
       "<Figure size 1000x400 with 2 Axes>"
      ],
      "image/svg+xml": "<?xml version=\"1.0\" encoding=\"utf-8\" standalone=\"no\"?>\n<!DOCTYPE svg PUBLIC \"-//W3C//DTD SVG 1.1//EN\"\n  \"http://www.w3.org/Graphics/SVG/1.1/DTD/svg11.dtd\">\n<svg xmlns:xlink=\"http://www.w3.org/1999/xlink\" width=\"615.220507pt\" height=\"281.638125pt\" viewBox=\"0 0 615.220507 281.638125\" xmlns=\"http://www.w3.org/2000/svg\" version=\"1.1\">\n <metadata>\n  <rdf:RDF xmlns:dc=\"http://purl.org/dc/elements/1.1/\" xmlns:cc=\"http://creativecommons.org/ns#\" xmlns:rdf=\"http://www.w3.org/1999/02/22-rdf-syntax-ns#\">\n   <cc:Work>\n    <dc:type rdf:resource=\"http://purl.org/dc/dcmitype/StillImage\"/>\n    <dc:date>2024-04-27T08:51:33.391838</dc:date>\n    <dc:format>image/svg+xml</dc:format>\n    <dc:creator>\n     <cc:Agent>\n      <dc:title>Matplotlib v3.8.4, https://matplotlib.org/</dc:title>\n     </cc:Agent>\n    </dc:creator>\n   </cc:Work>\n  </rdf:RDF>\n </metadata>\n <defs>\n  <style type=\"text/css\">*{stroke-linejoin: round; stroke-linecap: butt}</style>\n </defs>\n <g id=\"figure_1\">\n  <g id=\"patch_1\">\n   <path d=\"M 0 281.638125 \nL 615.220507 281.638125 \nL 615.220507 0 \nL 0 0 \nz\n\" style=\"fill: #ffffff\"/>\n  </g>\n  <g id=\"axes_1\">\n   <g id=\"patch_2\">\n    <path d=\"M 46.0125 257.76 \nL 299.648864 257.76 \nL 299.648864 36 \nL 46.0125 36 \nz\n\" style=\"fill: #e5e5e5\"/>\n   </g>\n   <g id=\"matplotlib.axis_1\">\n    <g id=\"xtick_1\">\n     <g id=\"line2d_1\">\n      <path d=\"M 56.933841 257.76 \nL 56.933841 36 \n\" clip-path=\"url(#p1df2ee0197)\" style=\"fill: none; stroke: #ffffff; stroke-width: 0.8; stroke-linecap: round\"/>\n     </g>\n     <g id=\"text_1\">\n      <!-- 0 -->\n      <g style=\"fill: #555555\" transform=\"translate(53.752591 272.358437) scale(0.1 -0.1)\">\n       <defs>\n        <path id=\"DejaVuSans-30\" d=\"M 2034 4250 \nQ 1547 4250 1301 3770 \nQ 1056 3291 1056 2328 \nQ 1056 1369 1301 889 \nQ 1547 409 2034 409 \nQ 2525 409 2770 889 \nQ 3016 1369 3016 2328 \nQ 3016 3291 2770 3770 \nQ 2525 4250 2034 4250 \nz\nM 2034 4750 \nQ 2819 4750 3233 4129 \nQ 3647 3509 3647 2328 \nQ 3647 1150 3233 529 \nQ 2819 -91 2034 -91 \nQ 1250 -91 836 529 \nQ 422 1150 422 2328 \nQ 422 3509 836 4129 \nQ 1250 4750 2034 4750 \nz\n\" transform=\"scale(0.015625)\"/>\n       </defs>\n       <use xlink:href=\"#DejaVuSans-30\"/>\n      </g>\n     </g>\n    </g>\n    <g id=\"xtick_2\">\n     <g id=\"line2d_2\">\n      <path d=\"M 94.907904 257.76 \nL 94.907904 36 \n\" clip-path=\"url(#p1df2ee0197)\" style=\"fill: none; stroke: #ffffff; stroke-width: 0.8; stroke-linecap: round\"/>\n     </g>\n     <g id=\"text_2\">\n      <!-- 250 -->\n      <g style=\"fill: #555555\" transform=\"translate(85.364154 272.358437) scale(0.1 -0.1)\">\n       <defs>\n        <path id=\"DejaVuSans-32\" d=\"M 1228 531 \nL 3431 531 \nL 3431 0 \nL 469 0 \nL 469 531 \nQ 828 903 1448 1529 \nQ 2069 2156 2228 2338 \nQ 2531 2678 2651 2914 \nQ 2772 3150 2772 3378 \nQ 2772 3750 2511 3984 \nQ 2250 4219 1831 4219 \nQ 1534 4219 1204 4116 \nQ 875 4013 500 3803 \nL 500 4441 \nQ 881 4594 1212 4672 \nQ 1544 4750 1819 4750 \nQ 2544 4750 2975 4387 \nQ 3406 4025 3406 3419 \nQ 3406 3131 3298 2873 \nQ 3191 2616 2906 2266 \nQ 2828 2175 2409 1742 \nQ 1991 1309 1228 531 \nz\n\" transform=\"scale(0.015625)\"/>\n        <path id=\"DejaVuSans-35\" d=\"M 691 4666 \nL 3169 4666 \nL 3169 4134 \nL 1269 4134 \nL 1269 2991 \nQ 1406 3038 1543 3061 \nQ 1681 3084 1819 3084 \nQ 2600 3084 3056 2656 \nQ 3513 2228 3513 1497 \nQ 3513 744 3044 326 \nQ 2575 -91 1722 -91 \nQ 1428 -91 1123 -41 \nQ 819 9 494 109 \nL 494 744 \nQ 775 591 1075 516 \nQ 1375 441 1709 441 \nQ 2250 441 2565 725 \nQ 2881 1009 2881 1497 \nQ 2881 1984 2565 2268 \nQ 2250 2553 1709 2553 \nQ 1456 2553 1204 2497 \nQ 953 2441 691 2322 \nL 691 4666 \nz\n\" transform=\"scale(0.015625)\"/>\n       </defs>\n       <use xlink:href=\"#DejaVuSans-32\"/>\n       <use xlink:href=\"#DejaVuSans-35\" x=\"63.623047\"/>\n       <use xlink:href=\"#DejaVuSans-30\" x=\"127.246094\"/>\n      </g>\n     </g>\n    </g>\n    <g id=\"xtick_3\">\n     <g id=\"line2d_3\">\n      <path d=\"M 132.881967 257.76 \nL 132.881967 36 \n\" clip-path=\"url(#p1df2ee0197)\" style=\"fill: none; stroke: #ffffff; stroke-width: 0.8; stroke-linecap: round\"/>\n     </g>\n     <g id=\"text_3\">\n      <!-- 500 -->\n      <g style=\"fill: #555555\" transform=\"translate(123.338217 272.358437) scale(0.1 -0.1)\">\n       <use xlink:href=\"#DejaVuSans-35\"/>\n       <use xlink:href=\"#DejaVuSans-30\" x=\"63.623047\"/>\n       <use xlink:href=\"#DejaVuSans-30\" x=\"127.246094\"/>\n      </g>\n     </g>\n    </g>\n    <g id=\"xtick_4\">\n     <g id=\"line2d_4\">\n      <path d=\"M 170.856031 257.76 \nL 170.856031 36 \n\" clip-path=\"url(#p1df2ee0197)\" style=\"fill: none; stroke: #ffffff; stroke-width: 0.8; stroke-linecap: round\"/>\n     </g>\n     <g id=\"text_4\">\n      <!-- 750 -->\n      <g style=\"fill: #555555\" transform=\"translate(161.312281 272.358437) scale(0.1 -0.1)\">\n       <defs>\n        <path id=\"DejaVuSans-37\" d=\"M 525 4666 \nL 3525 4666 \nL 3525 4397 \nL 1831 0 \nL 1172 0 \nL 2766 4134 \nL 525 4134 \nL 525 4666 \nz\n\" transform=\"scale(0.015625)\"/>\n       </defs>\n       <use xlink:href=\"#DejaVuSans-37\"/>\n       <use xlink:href=\"#DejaVuSans-35\" x=\"63.623047\"/>\n       <use xlink:href=\"#DejaVuSans-30\" x=\"127.246094\"/>\n      </g>\n     </g>\n    </g>\n    <g id=\"xtick_5\">\n     <g id=\"line2d_5\">\n      <path d=\"M 208.830094 257.76 \nL 208.830094 36 \n\" clip-path=\"url(#p1df2ee0197)\" style=\"fill: none; stroke: #ffffff; stroke-width: 0.8; stroke-linecap: round\"/>\n     </g>\n     <g id=\"text_5\">\n      <!-- 1000 -->\n      <g style=\"fill: #555555\" transform=\"translate(196.105094 272.358437) scale(0.1 -0.1)\">\n       <defs>\n        <path id=\"DejaVuSans-31\" d=\"M 794 531 \nL 1825 531 \nL 1825 4091 \nL 703 3866 \nL 703 4441 \nL 1819 4666 \nL 2450 4666 \nL 2450 531 \nL 3481 531 \nL 3481 0 \nL 794 0 \nL 794 531 \nz\n\" transform=\"scale(0.015625)\"/>\n       </defs>\n       <use xlink:href=\"#DejaVuSans-31\"/>\n       <use xlink:href=\"#DejaVuSans-30\" x=\"63.623047\"/>\n       <use xlink:href=\"#DejaVuSans-30\" x=\"127.246094\"/>\n       <use xlink:href=\"#DejaVuSans-30\" x=\"190.869141\"/>\n      </g>\n     </g>\n    </g>\n    <g id=\"xtick_6\">\n     <g id=\"line2d_6\">\n      <path d=\"M 246.804157 257.76 \nL 246.804157 36 \n\" clip-path=\"url(#p1df2ee0197)\" style=\"fill: none; stroke: #ffffff; stroke-width: 0.8; stroke-linecap: round\"/>\n     </g>\n     <g id=\"text_6\">\n      <!-- 1250 -->\n      <g style=\"fill: #555555\" transform=\"translate(234.079157 272.358437) scale(0.1 -0.1)\">\n       <use xlink:href=\"#DejaVuSans-31\"/>\n       <use xlink:href=\"#DejaVuSans-32\" x=\"63.623047\"/>\n       <use xlink:href=\"#DejaVuSans-35\" x=\"127.246094\"/>\n       <use xlink:href=\"#DejaVuSans-30\" x=\"190.869141\"/>\n      </g>\n     </g>\n    </g>\n    <g id=\"xtick_7\">\n     <g id=\"line2d_7\">\n      <path d=\"M 284.77822 257.76 \nL 284.77822 36 \n\" clip-path=\"url(#p1df2ee0197)\" style=\"fill: none; stroke: #ffffff; stroke-width: 0.8; stroke-linecap: round\"/>\n     </g>\n     <g id=\"text_7\">\n      <!-- 1500 -->\n      <g style=\"fill: #555555\" transform=\"translate(272.05322 272.358437) scale(0.1 -0.1)\">\n       <use xlink:href=\"#DejaVuSans-31\"/>\n       <use xlink:href=\"#DejaVuSans-35\" x=\"63.623047\"/>\n       <use xlink:href=\"#DejaVuSans-30\" x=\"127.246094\"/>\n       <use xlink:href=\"#DejaVuSans-30\" x=\"190.869141\"/>\n      </g>\n     </g>\n    </g>\n   </g>\n   <g id=\"matplotlib.axis_2\">\n    <g id=\"ytick_1\">\n     <g id=\"line2d_8\">\n      <path d=\"M 46.0125 257.76 \nL 299.648864 257.76 \n\" clip-path=\"url(#p1df2ee0197)\" style=\"fill: none; stroke: #ffffff; stroke-width: 0.8; stroke-linecap: round\"/>\n     </g>\n     <g id=\"text_8\">\n      <!-- 0 -->\n      <g style=\"fill: #555555\" transform=\"translate(32.65 261.559219) scale(0.1 -0.1)\">\n       <use xlink:href=\"#DejaVuSans-30\"/>\n      </g>\n     </g>\n    </g>\n    <g id=\"ytick_2\">\n     <g id=\"line2d_9\">\n      <path d=\"M 46.0125 217.273083 \nL 299.648864 217.273083 \n\" clip-path=\"url(#p1df2ee0197)\" style=\"fill: none; stroke: #ffffff; stroke-width: 0.8; stroke-linecap: round\"/>\n     </g>\n     <g id=\"text_9\">\n      <!-- 2000 -->\n      <g style=\"fill: #555555\" transform=\"translate(13.5625 221.072302) scale(0.1 -0.1)\">\n       <use xlink:href=\"#DejaVuSans-32\"/>\n       <use xlink:href=\"#DejaVuSans-30\" x=\"63.623047\"/>\n       <use xlink:href=\"#DejaVuSans-30\" x=\"127.246094\"/>\n       <use xlink:href=\"#DejaVuSans-30\" x=\"190.869141\"/>\n      </g>\n     </g>\n    </g>\n    <g id=\"ytick_3\">\n     <g id=\"line2d_10\">\n      <path d=\"M 46.0125 176.786167 \nL 299.648864 176.786167 \n\" clip-path=\"url(#p1df2ee0197)\" style=\"fill: none; stroke: #ffffff; stroke-width: 0.8; stroke-linecap: round\"/>\n     </g>\n     <g id=\"text_10\">\n      <!-- 4000 -->\n      <g style=\"fill: #555555\" transform=\"translate(13.5625 180.585386) scale(0.1 -0.1)\">\n       <defs>\n        <path id=\"DejaVuSans-34\" d=\"M 2419 4116 \nL 825 1625 \nL 2419 1625 \nL 2419 4116 \nz\nM 2253 4666 \nL 3047 4666 \nL 3047 1625 \nL 3713 1625 \nL 3713 1100 \nL 3047 1100 \nL 3047 0 \nL 2419 0 \nL 2419 1100 \nL 313 1100 \nL 313 1709 \nL 2253 4666 \nz\n\" transform=\"scale(0.015625)\"/>\n       </defs>\n       <use xlink:href=\"#DejaVuSans-34\"/>\n       <use xlink:href=\"#DejaVuSans-30\" x=\"63.623047\"/>\n       <use xlink:href=\"#DejaVuSans-30\" x=\"127.246094\"/>\n       <use xlink:href=\"#DejaVuSans-30\" x=\"190.869141\"/>\n      </g>\n     </g>\n    </g>\n    <g id=\"ytick_4\">\n     <g id=\"line2d_11\">\n      <path d=\"M 46.0125 136.29925 \nL 299.648864 136.29925 \n\" clip-path=\"url(#p1df2ee0197)\" style=\"fill: none; stroke: #ffffff; stroke-width: 0.8; stroke-linecap: round\"/>\n     </g>\n     <g id=\"text_11\">\n      <!-- 6000 -->\n      <g style=\"fill: #555555\" transform=\"translate(13.5625 140.098469) scale(0.1 -0.1)\">\n       <defs>\n        <path id=\"DejaVuSans-36\" d=\"M 2113 2584 \nQ 1688 2584 1439 2293 \nQ 1191 2003 1191 1497 \nQ 1191 994 1439 701 \nQ 1688 409 2113 409 \nQ 2538 409 2786 701 \nQ 3034 994 3034 1497 \nQ 3034 2003 2786 2293 \nQ 2538 2584 2113 2584 \nz\nM 3366 4563 \nL 3366 3988 \nQ 3128 4100 2886 4159 \nQ 2644 4219 2406 4219 \nQ 1781 4219 1451 3797 \nQ 1122 3375 1075 2522 \nQ 1259 2794 1537 2939 \nQ 1816 3084 2150 3084 \nQ 2853 3084 3261 2657 \nQ 3669 2231 3669 1497 \nQ 3669 778 3244 343 \nQ 2819 -91 2113 -91 \nQ 1303 -91 875 529 \nQ 447 1150 447 2328 \nQ 447 3434 972 4092 \nQ 1497 4750 2381 4750 \nQ 2619 4750 2861 4703 \nQ 3103 4656 3366 4563 \nz\n\" transform=\"scale(0.015625)\"/>\n       </defs>\n       <use xlink:href=\"#DejaVuSans-36\"/>\n       <use xlink:href=\"#DejaVuSans-30\" x=\"63.623047\"/>\n       <use xlink:href=\"#DejaVuSans-30\" x=\"127.246094\"/>\n       <use xlink:href=\"#DejaVuSans-30\" x=\"190.869141\"/>\n      </g>\n     </g>\n    </g>\n    <g id=\"ytick_5\">\n     <g id=\"line2d_12\">\n      <path d=\"M 46.0125 95.812334 \nL 299.648864 95.812334 \n\" clip-path=\"url(#p1df2ee0197)\" style=\"fill: none; stroke: #ffffff; stroke-width: 0.8; stroke-linecap: round\"/>\n     </g>\n     <g id=\"text_12\">\n      <!-- 8000 -->\n      <g style=\"fill: #555555\" transform=\"translate(13.5625 99.611553) scale(0.1 -0.1)\">\n       <defs>\n        <path id=\"DejaVuSans-38\" d=\"M 2034 2216 \nQ 1584 2216 1326 1975 \nQ 1069 1734 1069 1313 \nQ 1069 891 1326 650 \nQ 1584 409 2034 409 \nQ 2484 409 2743 651 \nQ 3003 894 3003 1313 \nQ 3003 1734 2745 1975 \nQ 2488 2216 2034 2216 \nz\nM 1403 2484 \nQ 997 2584 770 2862 \nQ 544 3141 544 3541 \nQ 544 4100 942 4425 \nQ 1341 4750 2034 4750 \nQ 2731 4750 3128 4425 \nQ 3525 4100 3525 3541 \nQ 3525 3141 3298 2862 \nQ 3072 2584 2669 2484 \nQ 3125 2378 3379 2068 \nQ 3634 1759 3634 1313 \nQ 3634 634 3220 271 \nQ 2806 -91 2034 -91 \nQ 1263 -91 848 271 \nQ 434 634 434 1313 \nQ 434 1759 690 2068 \nQ 947 2378 1403 2484 \nz\nM 1172 3481 \nQ 1172 3119 1398 2916 \nQ 1625 2713 2034 2713 \nQ 2441 2713 2670 2916 \nQ 2900 3119 2900 3481 \nQ 2900 3844 2670 4047 \nQ 2441 4250 2034 4250 \nQ 1625 4250 1398 4047 \nQ 1172 3844 1172 3481 \nz\n\" transform=\"scale(0.015625)\"/>\n       </defs>\n       <use xlink:href=\"#DejaVuSans-38\"/>\n       <use xlink:href=\"#DejaVuSans-30\" x=\"63.623047\"/>\n       <use xlink:href=\"#DejaVuSans-30\" x=\"127.246094\"/>\n       <use xlink:href=\"#DejaVuSans-30\" x=\"190.869141\"/>\n      </g>\n     </g>\n    </g>\n    <g id=\"ytick_6\">\n     <g id=\"line2d_13\">\n      <path d=\"M 46.0125 55.325417 \nL 299.648864 55.325417 \n\" clip-path=\"url(#p1df2ee0197)\" style=\"fill: none; stroke: #ffffff; stroke-width: 0.8; stroke-linecap: round\"/>\n     </g>\n     <g id=\"text_13\">\n      <!-- 10000 -->\n      <g style=\"fill: #555555\" transform=\"translate(7.2 59.124636) scale(0.1 -0.1)\">\n       <use xlink:href=\"#DejaVuSans-31\"/>\n       <use xlink:href=\"#DejaVuSans-30\" x=\"63.623047\"/>\n       <use xlink:href=\"#DejaVuSans-30\" x=\"127.246094\"/>\n       <use xlink:href=\"#DejaVuSans-30\" x=\"190.869141\"/>\n       <use xlink:href=\"#DejaVuSans-30\" x=\"254.492188\"/>\n      </g>\n     </g>\n    </g>\n   </g>\n   <g id=\"patch_3\">\n    <path d=\"M 57.541426 257.76 \nL 80.599277 257.76 \nL 80.599277 46.56 \nL 57.541426 46.56 \nz\n\" clip-path=\"url(#p1df2ee0197)\" style=\"fill: #ff0000; stroke: #eeeeee; stroke-width: 0.5; stroke-linejoin: miter\"/>\n   </g>\n   <g id=\"patch_4\">\n    <path d=\"M 80.599277 257.76 \nL 103.657128 257.76 \nL 103.657128 68.767074 \nL 80.599277 68.767074 \nz\n\" clip-path=\"url(#p1df2ee0197)\" style=\"fill: #ff0000; stroke: #eeeeee; stroke-width: 0.5; stroke-linejoin: miter\"/>\n   </g>\n   <g id=\"patch_5\">\n    <path d=\"M 103.657128 257.76 \nL 126.714979 257.76 \nL 126.714979 196.806947 \nL 103.657128 196.806947 \nz\n\" clip-path=\"url(#p1df2ee0197)\" style=\"fill: #ff0000; stroke: #eeeeee; stroke-width: 0.5; stroke-linejoin: miter\"/>\n   </g>\n   <g id=\"patch_6\">\n    <path d=\"M 126.714979 257.76 \nL 149.772831 257.76 \nL 149.772831 233.832232 \nL 126.714979 233.832232 \nz\n\" clip-path=\"url(#p1df2ee0197)\" style=\"fill: #ff0000; stroke: #eeeeee; stroke-width: 0.5; stroke-linejoin: miter\"/>\n   </g>\n   <g id=\"patch_7\">\n    <path d=\"M 149.772831 257.76 \nL 172.830682 257.76 \nL 172.830682 247.192915 \nL 149.772831 247.192915 \nz\n\" clip-path=\"url(#p1df2ee0197)\" style=\"fill: #ff0000; stroke: #eeeeee; stroke-width: 0.5; stroke-linejoin: miter\"/>\n   </g>\n   <g id=\"patch_8\">\n    <path d=\"M 172.830682 257.76 \nL 195.888533 257.76 \nL 195.888533 251.646476 \nL 172.830682 251.646476 \nz\n\" clip-path=\"url(#p1df2ee0197)\" style=\"fill: #ff0000; stroke: #eeeeee; stroke-width: 0.5; stroke-linejoin: miter\"/>\n   </g>\n   <g id=\"patch_9\">\n    <path d=\"M 195.888533 257.76 \nL 218.946384 257.76 \nL 218.946384 253.650578 \nL 195.888533 253.650578 \nz\n\" clip-path=\"url(#p1df2ee0197)\" style=\"fill: #ff0000; stroke: #eeeeee; stroke-width: 0.5; stroke-linejoin: miter\"/>\n   </g>\n   <g id=\"patch_10\">\n    <path d=\"M 218.946384 257.76 \nL 242.004236 257.76 \nL 242.004236 257.658783 \nL 218.946384 257.658783 \nz\n\" clip-path=\"url(#p1df2ee0197)\" style=\"fill: #ff0000; stroke: #eeeeee; stroke-width: 0.5; stroke-linejoin: miter\"/>\n   </g>\n   <g id=\"patch_11\">\n    <path d=\"M 242.004236 257.76 \nL 265.062087 257.76 \nL 265.062087 257.69927 \nL 242.004236 257.69927 \nz\n\" clip-path=\"url(#p1df2ee0197)\" style=\"fill: #ff0000; stroke: #eeeeee; stroke-width: 0.5; stroke-linejoin: miter\"/>\n   </g>\n   <g id=\"patch_12\">\n    <path d=\"M 265.062087 257.76 \nL 288.119938 257.76 \nL 288.119938 257.69927 \nL 265.062087 257.69927 \nz\n\" clip-path=\"url(#p1df2ee0197)\" style=\"fill: #ff0000; stroke: #eeeeee; stroke-width: 0.5; stroke-linejoin: miter\"/>\n   </g>\n   <g id=\"patch_13\">\n    <path d=\"M 46.0125 257.76 \nL 46.0125 36 \n\" style=\"fill: none; stroke: #ffffff; stroke-linejoin: miter; stroke-linecap: square\"/>\n   </g>\n   <g id=\"patch_14\">\n    <path d=\"M 299.648864 257.76 \nL 299.648864 36 \n\" style=\"fill: none; stroke: #ffffff; stroke-linejoin: miter; stroke-linecap: square\"/>\n   </g>\n   <g id=\"patch_15\">\n    <path d=\"M 46.0125 257.76 \nL 299.648864 257.76 \n\" style=\"fill: none; stroke: #ffffff; stroke-linejoin: miter; stroke-linecap: square\"/>\n   </g>\n   <g id=\"patch_16\">\n    <path d=\"M 46.0125 36 \nL 299.648864 36 \n\" style=\"fill: none; stroke: #ffffff; stroke-linejoin: miter; stroke-linecap: square\"/>\n   </g>\n   <g id=\"text_14\">\n    <!-- Negative -->\n    <g style=\"fill: #262626\" transform=\"translate(140.516182 30) scale(0.144 -0.144)\">\n     <defs>\n      <path id=\"DejaVuSans-4e\" d=\"M 628 4666 \nL 1478 4666 \nL 3547 763 \nL 3547 4666 \nL 4159 4666 \nL 4159 0 \nL 3309 0 \nL 1241 3903 \nL 1241 0 \nL 628 0 \nL 628 4666 \nz\n\" transform=\"scale(0.015625)\"/>\n      <path id=\"DejaVuSans-65\" d=\"M 3597 1894 \nL 3597 1613 \nL 953 1613 \nQ 991 1019 1311 708 \nQ 1631 397 2203 397 \nQ 2534 397 2845 478 \nQ 3156 559 3463 722 \nL 3463 178 \nQ 3153 47 2828 -22 \nQ 2503 -91 2169 -91 \nQ 1331 -91 842 396 \nQ 353 884 353 1716 \nQ 353 2575 817 3079 \nQ 1281 3584 2069 3584 \nQ 2775 3584 3186 3129 \nQ 3597 2675 3597 1894 \nz\nM 3022 2063 \nQ 3016 2534 2758 2815 \nQ 2500 3097 2075 3097 \nQ 1594 3097 1305 2825 \nQ 1016 2553 972 2059 \nL 3022 2063 \nz\n\" transform=\"scale(0.015625)\"/>\n      <path id=\"DejaVuSans-67\" d=\"M 2906 1791 \nQ 2906 2416 2648 2759 \nQ 2391 3103 1925 3103 \nQ 1463 3103 1205 2759 \nQ 947 2416 947 1791 \nQ 947 1169 1205 825 \nQ 1463 481 1925 481 \nQ 2391 481 2648 825 \nQ 2906 1169 2906 1791 \nz\nM 3481 434 \nQ 3481 -459 3084 -895 \nQ 2688 -1331 1869 -1331 \nQ 1566 -1331 1297 -1286 \nQ 1028 -1241 775 -1147 \nL 775 -588 \nQ 1028 -725 1275 -790 \nQ 1522 -856 1778 -856 \nQ 2344 -856 2625 -561 \nQ 2906 -266 2906 331 \nL 2906 616 \nQ 2728 306 2450 153 \nQ 2172 0 1784 0 \nQ 1141 0 747 490 \nQ 353 981 353 1791 \nQ 353 2603 747 3093 \nQ 1141 3584 1784 3584 \nQ 2172 3584 2450 3431 \nQ 2728 3278 2906 2969 \nL 2906 3500 \nL 3481 3500 \nL 3481 434 \nz\n\" transform=\"scale(0.015625)\"/>\n      <path id=\"DejaVuSans-61\" d=\"M 2194 1759 \nQ 1497 1759 1228 1600 \nQ 959 1441 959 1056 \nQ 959 750 1161 570 \nQ 1363 391 1709 391 \nQ 2188 391 2477 730 \nQ 2766 1069 2766 1631 \nL 2766 1759 \nL 2194 1759 \nz\nM 3341 1997 \nL 3341 0 \nL 2766 0 \nL 2766 531 \nQ 2569 213 2275 61 \nQ 1981 -91 1556 -91 \nQ 1019 -91 701 211 \nQ 384 513 384 1019 \nQ 384 1609 779 1909 \nQ 1175 2209 1959 2209 \nL 2766 2209 \nL 2766 2266 \nQ 2766 2663 2505 2880 \nQ 2244 3097 1772 3097 \nQ 1472 3097 1187 3025 \nQ 903 2953 641 2809 \nL 641 3341 \nQ 956 3463 1253 3523 \nQ 1550 3584 1831 3584 \nQ 2591 3584 2966 3190 \nQ 3341 2797 3341 1997 \nz\n\" transform=\"scale(0.015625)\"/>\n      <path id=\"DejaVuSans-74\" d=\"M 1172 4494 \nL 1172 3500 \nL 2356 3500 \nL 2356 3053 \nL 1172 3053 \nL 1172 1153 \nQ 1172 725 1289 603 \nQ 1406 481 1766 481 \nL 2356 481 \nL 2356 0 \nL 1766 0 \nQ 1100 0 847 248 \nQ 594 497 594 1153 \nL 594 3053 \nL 172 3053 \nL 172 3500 \nL 594 3500 \nL 594 4494 \nL 1172 4494 \nz\n\" transform=\"scale(0.015625)\"/>\n      <path id=\"DejaVuSans-69\" d=\"M 603 3500 \nL 1178 3500 \nL 1178 0 \nL 603 0 \nL 603 3500 \nz\nM 603 4863 \nL 1178 4863 \nL 1178 4134 \nL 603 4134 \nL 603 4863 \nz\n\" transform=\"scale(0.015625)\"/>\n      <path id=\"DejaVuSans-76\" d=\"M 191 3500 \nL 800 3500 \nL 1894 563 \nL 2988 3500 \nL 3597 3500 \nL 2284 0 \nL 1503 0 \nL 191 3500 \nz\n\" transform=\"scale(0.015625)\"/>\n     </defs>\n     <use xlink:href=\"#DejaVuSans-4e\"/>\n     <use xlink:href=\"#DejaVuSans-65\" x=\"74.804688\"/>\n     <use xlink:href=\"#DejaVuSans-67\" x=\"136.328125\"/>\n     <use xlink:href=\"#DejaVuSans-61\" x=\"199.804688\"/>\n     <use xlink:href=\"#DejaVuSans-74\" x=\"261.083984\"/>\n     <use xlink:href=\"#DejaVuSans-69\" x=\"300.292969\"/>\n     <use xlink:href=\"#DejaVuSans-76\" x=\"328.076172\"/>\n     <use xlink:href=\"#DejaVuSans-65\" x=\"387.255859\"/>\n    </g>\n   </g>\n  </g>\n  <g id=\"axes_2\">\n   <g id=\"patch_17\">\n    <path d=\"M 350.376136 257.76 \nL 604.0125 257.76 \nL 604.0125 36 \nL 350.376136 36 \nz\n\" style=\"fill: #e5e5e5\"/>\n   </g>\n   <g id=\"matplotlib.axis_3\">\n    <g id=\"xtick_8\">\n     <g id=\"line2d_14\">\n      <path d=\"M 360.967751 257.76 \nL 360.967751 36 \n\" clip-path=\"url(#p57c8a9e925)\" style=\"fill: none; stroke: #ffffff; stroke-width: 0.8; stroke-linecap: round\"/>\n     </g>\n     <g id=\"text_15\">\n      <!-- 0 -->\n      <g style=\"fill: #555555\" transform=\"translate(357.786501 272.358437) scale(0.1 -0.1)\">\n       <use xlink:href=\"#DejaVuSans-30\"/>\n      </g>\n     </g>\n    </g>\n    <g id=\"xtick_9\">\n     <g id=\"line2d_15\">\n      <path d=\"M 407.833302 257.76 \nL 407.833302 36 \n\" clip-path=\"url(#p57c8a9e925)\" style=\"fill: none; stroke: #ffffff; stroke-width: 0.8; stroke-linecap: round\"/>\n     </g>\n     <g id=\"text_16\">\n      <!-- 500 -->\n      <g style=\"fill: #555555\" transform=\"translate(398.289552 272.358437) scale(0.1 -0.1)\">\n       <use xlink:href=\"#DejaVuSans-35\"/>\n       <use xlink:href=\"#DejaVuSans-30\" x=\"63.623047\"/>\n       <use xlink:href=\"#DejaVuSans-30\" x=\"127.246094\"/>\n      </g>\n     </g>\n    </g>\n    <g id=\"xtick_10\">\n     <g id=\"line2d_16\">\n      <path d=\"M 454.698854 257.76 \nL 454.698854 36 \n\" clip-path=\"url(#p57c8a9e925)\" style=\"fill: none; stroke: #ffffff; stroke-width: 0.8; stroke-linecap: round\"/>\n     </g>\n     <g id=\"text_17\">\n      <!-- 1000 -->\n      <g style=\"fill: #555555\" transform=\"translate(441.973854 272.358437) scale(0.1 -0.1)\">\n       <use xlink:href=\"#DejaVuSans-31\"/>\n       <use xlink:href=\"#DejaVuSans-30\" x=\"63.623047\"/>\n       <use xlink:href=\"#DejaVuSans-30\" x=\"127.246094\"/>\n       <use xlink:href=\"#DejaVuSans-30\" x=\"190.869141\"/>\n      </g>\n     </g>\n    </g>\n    <g id=\"xtick_11\">\n     <g id=\"line2d_17\">\n      <path d=\"M 501.564405 257.76 \nL 501.564405 36 \n\" clip-path=\"url(#p57c8a9e925)\" style=\"fill: none; stroke: #ffffff; stroke-width: 0.8; stroke-linecap: round\"/>\n     </g>\n     <g id=\"text_18\">\n      <!-- 1500 -->\n      <g style=\"fill: #555555\" transform=\"translate(488.839405 272.358437) scale(0.1 -0.1)\">\n       <use xlink:href=\"#DejaVuSans-31\"/>\n       <use xlink:href=\"#DejaVuSans-35\" x=\"63.623047\"/>\n       <use xlink:href=\"#DejaVuSans-30\" x=\"127.246094\"/>\n       <use xlink:href=\"#DejaVuSans-30\" x=\"190.869141\"/>\n      </g>\n     </g>\n    </g>\n    <g id=\"xtick_12\">\n     <g id=\"line2d_18\">\n      <path d=\"M 548.429956 257.76 \nL 548.429956 36 \n\" clip-path=\"url(#p57c8a9e925)\" style=\"fill: none; stroke: #ffffff; stroke-width: 0.8; stroke-linecap: round\"/>\n     </g>\n     <g id=\"text_19\">\n      <!-- 2000 -->\n      <g style=\"fill: #555555\" transform=\"translate(535.704956 272.358437) scale(0.1 -0.1)\">\n       <use xlink:href=\"#DejaVuSans-32\"/>\n       <use xlink:href=\"#DejaVuSans-30\" x=\"63.623047\"/>\n       <use xlink:href=\"#DejaVuSans-30\" x=\"127.246094\"/>\n       <use xlink:href=\"#DejaVuSans-30\" x=\"190.869141\"/>\n      </g>\n     </g>\n    </g>\n    <g id=\"xtick_13\">\n     <g id=\"line2d_19\">\n      <path d=\"M 595.295507 257.76 \nL 595.295507 36 \n\" clip-path=\"url(#p57c8a9e925)\" style=\"fill: none; stroke: #ffffff; stroke-width: 0.8; stroke-linecap: round\"/>\n     </g>\n     <g id=\"text_20\">\n      <!-- 2500 -->\n      <g style=\"fill: #555555\" transform=\"translate(582.570507 272.358437) scale(0.1 -0.1)\">\n       <use xlink:href=\"#DejaVuSans-32\"/>\n       <use xlink:href=\"#DejaVuSans-35\" x=\"63.623047\"/>\n       <use xlink:href=\"#DejaVuSans-30\" x=\"127.246094\"/>\n       <use xlink:href=\"#DejaVuSans-30\" x=\"190.869141\"/>\n      </g>\n     </g>\n    </g>\n   </g>\n   <g id=\"matplotlib.axis_4\">\n    <g id=\"ytick_7\">\n     <g id=\"line2d_20\">\n      <path d=\"M 350.376136 257.76 \nL 604.0125 257.76 \n\" clip-path=\"url(#p57c8a9e925)\" style=\"fill: none; stroke: #ffffff; stroke-width: 0.8; stroke-linecap: round\"/>\n     </g>\n     <g id=\"text_21\">\n      <!-- 0 -->\n      <g style=\"fill: #555555\" transform=\"translate(337.013636 261.559219) scale(0.1 -0.1)\">\n       <use xlink:href=\"#DejaVuSans-30\"/>\n      </g>\n     </g>\n    </g>\n    <g id=\"ytick_8\">\n     <g id=\"line2d_21\">\n      <path d=\"M 350.376136 228.026922 \nL 604.0125 228.026922 \n\" clip-path=\"url(#p57c8a9e925)\" style=\"fill: none; stroke: #ffffff; stroke-width: 0.8; stroke-linecap: round\"/>\n     </g>\n     <g id=\"text_22\">\n      <!-- 2500 -->\n      <g style=\"fill: #555555\" transform=\"translate(317.926136 231.826141) scale(0.1 -0.1)\">\n       <use xlink:href=\"#DejaVuSans-32\"/>\n       <use xlink:href=\"#DejaVuSans-35\" x=\"63.623047\"/>\n       <use xlink:href=\"#DejaVuSans-30\" x=\"127.246094\"/>\n       <use xlink:href=\"#DejaVuSans-30\" x=\"190.869141\"/>\n      </g>\n     </g>\n    </g>\n    <g id=\"ytick_9\">\n     <g id=\"line2d_22\">\n      <path d=\"M 350.376136 198.293844 \nL 604.0125 198.293844 \n\" clip-path=\"url(#p57c8a9e925)\" style=\"fill: none; stroke: #ffffff; stroke-width: 0.8; stroke-linecap: round\"/>\n     </g>\n     <g id=\"text_23\">\n      <!-- 5000 -->\n      <g style=\"fill: #555555\" transform=\"translate(317.926136 202.093063) scale(0.1 -0.1)\">\n       <use xlink:href=\"#DejaVuSans-35\"/>\n       <use xlink:href=\"#DejaVuSans-30\" x=\"63.623047\"/>\n       <use xlink:href=\"#DejaVuSans-30\" x=\"127.246094\"/>\n       <use xlink:href=\"#DejaVuSans-30\" x=\"190.869141\"/>\n      </g>\n     </g>\n    </g>\n    <g id=\"ytick_10\">\n     <g id=\"line2d_23\">\n      <path d=\"M 350.376136 168.560766 \nL 604.0125 168.560766 \n\" clip-path=\"url(#p57c8a9e925)\" style=\"fill: none; stroke: #ffffff; stroke-width: 0.8; stroke-linecap: round\"/>\n     </g>\n     <g id=\"text_24\">\n      <!-- 7500 -->\n      <g style=\"fill: #555555\" transform=\"translate(317.926136 172.359985) scale(0.1 -0.1)\">\n       <use xlink:href=\"#DejaVuSans-37\"/>\n       <use xlink:href=\"#DejaVuSans-35\" x=\"63.623047\"/>\n       <use xlink:href=\"#DejaVuSans-30\" x=\"127.246094\"/>\n       <use xlink:href=\"#DejaVuSans-30\" x=\"190.869141\"/>\n      </g>\n     </g>\n    </g>\n    <g id=\"ytick_11\">\n     <g id=\"line2d_24\">\n      <path d=\"M 350.376136 138.827688 \nL 604.0125 138.827688 \n\" clip-path=\"url(#p57c8a9e925)\" style=\"fill: none; stroke: #ffffff; stroke-width: 0.8; stroke-linecap: round\"/>\n     </g>\n     <g id=\"text_25\">\n      <!-- 10000 -->\n      <g style=\"fill: #555555\" transform=\"translate(311.563636 142.626907) scale(0.1 -0.1)\">\n       <use xlink:href=\"#DejaVuSans-31\"/>\n       <use xlink:href=\"#DejaVuSans-30\" x=\"63.623047\"/>\n       <use xlink:href=\"#DejaVuSans-30\" x=\"127.246094\"/>\n       <use xlink:href=\"#DejaVuSans-30\" x=\"190.869141\"/>\n       <use xlink:href=\"#DejaVuSans-30\" x=\"254.492188\"/>\n      </g>\n     </g>\n    </g>\n    <g id=\"ytick_12\">\n     <g id=\"line2d_25\">\n      <path d=\"M 350.376136 109.09461 \nL 604.0125 109.09461 \n\" clip-path=\"url(#p57c8a9e925)\" style=\"fill: none; stroke: #ffffff; stroke-width: 0.8; stroke-linecap: round\"/>\n     </g>\n     <g id=\"text_26\">\n      <!-- 12500 -->\n      <g style=\"fill: #555555\" transform=\"translate(311.563636 112.893829) scale(0.1 -0.1)\">\n       <use xlink:href=\"#DejaVuSans-31\"/>\n       <use xlink:href=\"#DejaVuSans-32\" x=\"63.623047\"/>\n       <use xlink:href=\"#DejaVuSans-35\" x=\"127.246094\"/>\n       <use xlink:href=\"#DejaVuSans-30\" x=\"190.869141\"/>\n       <use xlink:href=\"#DejaVuSans-30\" x=\"254.492188\"/>\n      </g>\n     </g>\n    </g>\n    <g id=\"ytick_13\">\n     <g id=\"line2d_26\">\n      <path d=\"M 350.376136 79.361532 \nL 604.0125 79.361532 \n\" clip-path=\"url(#p57c8a9e925)\" style=\"fill: none; stroke: #ffffff; stroke-width: 0.8; stroke-linecap: round\"/>\n     </g>\n     <g id=\"text_27\">\n      <!-- 15000 -->\n      <g style=\"fill: #555555\" transform=\"translate(311.563636 83.16075) scale(0.1 -0.1)\">\n       <use xlink:href=\"#DejaVuSans-31\"/>\n       <use xlink:href=\"#DejaVuSans-35\" x=\"63.623047\"/>\n       <use xlink:href=\"#DejaVuSans-30\" x=\"127.246094\"/>\n       <use xlink:href=\"#DejaVuSans-30\" x=\"190.869141\"/>\n       <use xlink:href=\"#DejaVuSans-30\" x=\"254.492188\"/>\n      </g>\n     </g>\n    </g>\n    <g id=\"ytick_14\">\n     <g id=\"line2d_27\">\n      <path d=\"M 350.376136 49.628454 \nL 604.0125 49.628454 \n\" clip-path=\"url(#p57c8a9e925)\" style=\"fill: none; stroke: #ffffff; stroke-width: 0.8; stroke-linecap: round\"/>\n     </g>\n     <g id=\"text_28\">\n      <!-- 17500 -->\n      <g style=\"fill: #555555\" transform=\"translate(311.563636 53.427672) scale(0.1 -0.1)\">\n       <use xlink:href=\"#DejaVuSans-31\"/>\n       <use xlink:href=\"#DejaVuSans-37\" x=\"63.623047\"/>\n       <use xlink:href=\"#DejaVuSans-35\" x=\"127.246094\"/>\n       <use xlink:href=\"#DejaVuSans-30\" x=\"190.869141\"/>\n       <use xlink:href=\"#DejaVuSans-30\" x=\"254.492188\"/>\n      </g>\n     </g>\n    </g>\n   </g>\n   <g id=\"patch_18\">\n    <path d=\"M 361.905062 257.76 \nL 384.962913 257.76 \nL 384.962913 46.56 \nL 361.905062 46.56 \nz\n\" clip-path=\"url(#p57c8a9e925)\" style=\"fill: #008000; stroke: #eeeeee; stroke-width: 0.5; stroke-linejoin: miter\"/>\n   </g>\n   <g id=\"patch_19\">\n    <path d=\"M 384.962913 257.76 \nL 408.020764 257.76 \nL 408.020764 196.593112 \nL 384.962913 196.593112 \nz\n\" clip-path=\"url(#p57c8a9e925)\" style=\"fill: #008000; stroke: #eeeeee; stroke-width: 0.5; stroke-linejoin: miter\"/>\n   </g>\n   <g id=\"patch_20\">\n    <path d=\"M 408.020764 257.76 \nL 431.078616 257.76 \nL 431.078616 240.229377 \nL 408.020764 240.229377 \nz\n\" clip-path=\"url(#p57c8a9e925)\" style=\"fill: #008000; stroke: #eeeeee; stroke-width: 0.5; stroke-linejoin: miter\"/>\n   </g>\n   <g id=\"patch_21\">\n    <path d=\"M 431.078616 257.76 \nL 454.136467 257.76 \nL 454.136467 251.468481 \nL 431.078616 251.468481 \nz\n\" clip-path=\"url(#p57c8a9e925)\" style=\"fill: #008000; stroke: #eeeeee; stroke-width: 0.5; stroke-linejoin: miter\"/>\n   </g>\n   <g id=\"patch_22\">\n    <path d=\"M 454.136467 257.76 \nL 477.194318 257.76 \nL 477.194318 256.784755 \nL 454.136467 256.784755 \nz\n\" clip-path=\"url(#p57c8a9e925)\" style=\"fill: #008000; stroke: #eeeeee; stroke-width: 0.5; stroke-linejoin: miter\"/>\n   </g>\n   <g id=\"patch_23\">\n    <path d=\"M 477.194318 257.76 \nL 500.252169 257.76 \nL 500.252169 257.712427 \nL 477.194318 257.712427 \nz\n\" clip-path=\"url(#p57c8a9e925)\" style=\"fill: #008000; stroke: #eeeeee; stroke-width: 0.5; stroke-linejoin: miter\"/>\n   </g>\n   <g id=\"patch_24\">\n    <path d=\"M 500.252169 257.76 \nL 523.310021 257.76 \nL 523.310021 257.72432 \nL 500.252169 257.72432 \nz\n\" clip-path=\"url(#p57c8a9e925)\" style=\"fill: #008000; stroke: #eeeeee; stroke-width: 0.5; stroke-linejoin: miter\"/>\n   </g>\n   <g id=\"patch_25\">\n    <path d=\"M 523.310021 257.76 \nL 546.367872 257.76 \nL 546.367872 257.72432 \nL 523.310021 257.72432 \nz\n\" clip-path=\"url(#p57c8a9e925)\" style=\"fill: #008000; stroke: #eeeeee; stroke-width: 0.5; stroke-linejoin: miter\"/>\n   </g>\n   <g id=\"patch_26\">\n    <path d=\"M 546.367872 257.76 \nL 569.425723 257.76 \nL 569.425723 257.736214 \nL 546.367872 257.736214 \nz\n\" clip-path=\"url(#p57c8a9e925)\" style=\"fill: #008000; stroke: #eeeeee; stroke-width: 0.5; stroke-linejoin: miter\"/>\n   </g>\n   <g id=\"patch_27\">\n    <path d=\"M 569.425723 257.76 \nL 592.483574 257.76 \nL 592.483574 257.736214 \nL 569.425723 257.736214 \nz\n\" clip-path=\"url(#p57c8a9e925)\" style=\"fill: #008000; stroke: #eeeeee; stroke-width: 0.5; stroke-linejoin: miter\"/>\n   </g>\n   <g id=\"patch_28\">\n    <path d=\"M 350.376136 257.76 \nL 350.376136 36 \n\" style=\"fill: none; stroke: #ffffff; stroke-linejoin: miter; stroke-linecap: square\"/>\n   </g>\n   <g id=\"patch_29\">\n    <path d=\"M 604.0125 257.76 \nL 604.0125 36 \n\" style=\"fill: none; stroke: #ffffff; stroke-linejoin: miter; stroke-linecap: square\"/>\n   </g>\n   <g id=\"patch_30\">\n    <path d=\"M 350.376136 257.76 \nL 604.0125 257.76 \n\" style=\"fill: none; stroke: #ffffff; stroke-linejoin: miter; stroke-linecap: square\"/>\n   </g>\n   <g id=\"patch_31\">\n    <path d=\"M 350.376136 36 \nL 604.0125 36 \n\" style=\"fill: none; stroke: #ffffff; stroke-linejoin: miter; stroke-linecap: square\"/>\n   </g>\n   <g id=\"text_29\">\n    <!-- Positive -->\n    <g style=\"fill: #262626\" transform=\"translate(449.442818 30) scale(0.144 -0.144)\">\n     <defs>\n      <path id=\"DejaVuSans-50\" d=\"M 1259 4147 \nL 1259 2394 \nL 2053 2394 \nQ 2494 2394 2734 2622 \nQ 2975 2850 2975 3272 \nQ 2975 3691 2734 3919 \nQ 2494 4147 2053 4147 \nL 1259 4147 \nz\nM 628 4666 \nL 2053 4666 \nQ 2838 4666 3239 4311 \nQ 3641 3956 3641 3272 \nQ 3641 2581 3239 2228 \nQ 2838 1875 2053 1875 \nL 1259 1875 \nL 1259 0 \nL 628 0 \nL 628 4666 \nz\n\" transform=\"scale(0.015625)\"/>\n      <path id=\"DejaVuSans-6f\" d=\"M 1959 3097 \nQ 1497 3097 1228 2736 \nQ 959 2375 959 1747 \nQ 959 1119 1226 758 \nQ 1494 397 1959 397 \nQ 2419 397 2687 759 \nQ 2956 1122 2956 1747 \nQ 2956 2369 2687 2733 \nQ 2419 3097 1959 3097 \nz\nM 1959 3584 \nQ 2709 3584 3137 3096 \nQ 3566 2609 3566 1747 \nQ 3566 888 3137 398 \nQ 2709 -91 1959 -91 \nQ 1206 -91 779 398 \nQ 353 888 353 1747 \nQ 353 2609 779 3096 \nQ 1206 3584 1959 3584 \nz\n\" transform=\"scale(0.015625)\"/>\n      <path id=\"DejaVuSans-73\" d=\"M 2834 3397 \nL 2834 2853 \nQ 2591 2978 2328 3040 \nQ 2066 3103 1784 3103 \nQ 1356 3103 1142 2972 \nQ 928 2841 928 2578 \nQ 928 2378 1081 2264 \nQ 1234 2150 1697 2047 \nL 1894 2003 \nQ 2506 1872 2764 1633 \nQ 3022 1394 3022 966 \nQ 3022 478 2636 193 \nQ 2250 -91 1575 -91 \nQ 1294 -91 989 -36 \nQ 684 19 347 128 \nL 347 722 \nQ 666 556 975 473 \nQ 1284 391 1588 391 \nQ 1994 391 2212 530 \nQ 2431 669 2431 922 \nQ 2431 1156 2273 1281 \nQ 2116 1406 1581 1522 \nL 1381 1569 \nQ 847 1681 609 1914 \nQ 372 2147 372 2553 \nQ 372 3047 722 3315 \nQ 1072 3584 1716 3584 \nQ 2034 3584 2315 3537 \nQ 2597 3491 2834 3397 \nz\n\" transform=\"scale(0.015625)\"/>\n     </defs>\n     <use xlink:href=\"#DejaVuSans-50\"/>\n     <use xlink:href=\"#DejaVuSans-6f\" x=\"56.677734\"/>\n     <use xlink:href=\"#DejaVuSans-73\" x=\"117.859375\"/>\n     <use xlink:href=\"#DejaVuSans-69\" x=\"169.958984\"/>\n     <use xlink:href=\"#DejaVuSans-74\" x=\"197.742188\"/>\n     <use xlink:href=\"#DejaVuSans-69\" x=\"236.951172\"/>\n     <use xlink:href=\"#DejaVuSans-76\" x=\"264.734375\"/>\n     <use xlink:href=\"#DejaVuSans-65\" x=\"323.914062\"/>\n    </g>\n   </g>\n  </g>\n  <g id=\"text_30\">\n   <!-- Sentiment -->\n   <g style=\"fill: #262626\" transform=\"translate(284.999062 16.318125) scale(0.12 -0.12)\">\n    <defs>\n     <path id=\"DejaVuSans-53\" d=\"M 3425 4513 \nL 3425 3897 \nQ 3066 4069 2747 4153 \nQ 2428 4238 2131 4238 \nQ 1616 4238 1336 4038 \nQ 1056 3838 1056 3469 \nQ 1056 3159 1242 3001 \nQ 1428 2844 1947 2747 \nL 2328 2669 \nQ 3034 2534 3370 2195 \nQ 3706 1856 3706 1288 \nQ 3706 609 3251 259 \nQ 2797 -91 1919 -91 \nQ 1588 -91 1214 -16 \nQ 841 59 441 206 \nL 441 856 \nQ 825 641 1194 531 \nQ 1563 422 1919 422 \nQ 2459 422 2753 634 \nQ 3047 847 3047 1241 \nQ 3047 1584 2836 1778 \nQ 2625 1972 2144 2069 \nL 1759 2144 \nQ 1053 2284 737 2584 \nQ 422 2884 422 3419 \nQ 422 4038 858 4394 \nQ 1294 4750 2059 4750 \nQ 2388 4750 2728 4690 \nQ 3069 4631 3425 4513 \nz\n\" transform=\"scale(0.015625)\"/>\n     <path id=\"DejaVuSans-6e\" d=\"M 3513 2113 \nL 3513 0 \nL 2938 0 \nL 2938 2094 \nQ 2938 2591 2744 2837 \nQ 2550 3084 2163 3084 \nQ 1697 3084 1428 2787 \nQ 1159 2491 1159 1978 \nL 1159 0 \nL 581 0 \nL 581 3500 \nL 1159 3500 \nL 1159 2956 \nQ 1366 3272 1645 3428 \nQ 1925 3584 2291 3584 \nQ 2894 3584 3203 3211 \nQ 3513 2838 3513 2113 \nz\n\" transform=\"scale(0.015625)\"/>\n     <path id=\"DejaVuSans-6d\" d=\"M 3328 2828 \nQ 3544 3216 3844 3400 \nQ 4144 3584 4550 3584 \nQ 5097 3584 5394 3201 \nQ 5691 2819 5691 2113 \nL 5691 0 \nL 5113 0 \nL 5113 2094 \nQ 5113 2597 4934 2840 \nQ 4756 3084 4391 3084 \nQ 3944 3084 3684 2787 \nQ 3425 2491 3425 1978 \nL 3425 0 \nL 2847 0 \nL 2847 2094 \nQ 2847 2600 2669 2842 \nQ 2491 3084 2119 3084 \nQ 1678 3084 1418 2786 \nQ 1159 2488 1159 1978 \nL 1159 0 \nL 581 0 \nL 581 3500 \nL 1159 3500 \nL 1159 2956 \nQ 1356 3278 1631 3431 \nQ 1906 3584 2284 3584 \nQ 2666 3584 2933 3390 \nQ 3200 3197 3328 2828 \nz\n\" transform=\"scale(0.015625)\"/>\n    </defs>\n    <use xlink:href=\"#DejaVuSans-53\"/>\n    <use xlink:href=\"#DejaVuSans-65\" x=\"63.476562\"/>\n    <use xlink:href=\"#DejaVuSans-6e\" x=\"125\"/>\n    <use xlink:href=\"#DejaVuSans-74\" x=\"188.378906\"/>\n    <use xlink:href=\"#DejaVuSans-69\" x=\"227.587891\"/>\n    <use xlink:href=\"#DejaVuSans-6d\" x=\"255.371094\"/>\n    <use xlink:href=\"#DejaVuSans-65\" x=\"352.783203\"/>\n    <use xlink:href=\"#DejaVuSans-6e\" x=\"414.306641\"/>\n    <use xlink:href=\"#DejaVuSans-74\" x=\"477.685547\"/>\n   </g>\n  </g>\n </g>\n <defs>\n  <clipPath id=\"p1df2ee0197\">\n   <rect x=\"46.0125\" y=\"36\" width=\"253.636364\" height=\"221.76\"/>\n  </clipPath>\n  <clipPath id=\"p57c8a9e925\">\n   <rect x=\"350.376136\" y=\"36\" width=\"253.636364\" height=\"221.76\"/>\n  </clipPath>\n </defs>\n</svg>\n"
     },
     "metadata": {},
     "output_type": "display_data"
    }
   ],
   "execution_count": 11
  },
  {
   "metadata": {
    "ExecuteTime": {
     "end_time": "2024-04-27T11:51:34.741125Z",
     "start_time": "2024-04-27T11:51:34.712789Z"
    }
   },
   "cell_type": "code",
   "source": [
    "# CHARACTER-COUNT\n",
    "df_reviews['char_count'] = df_reviews['review'].apply(lambda x: len(str(x)))\n",
    "print(df_reviews[df_reviews['sentiment'] == 1]['char_count'].mean())  #Disaster tweets\n",
    "print(df_reviews[df_reviews['sentiment'] == 0]['char_count'].mean())  #Non-Disaster tweets"
   ],
   "id": "aae9d841196ab6ec",
   "outputs": [
    {
     "name": "stdout",
     "output_type": "stream",
     "text": [
      "1324.79768\n",
      "1294.06436\n"
     ]
    }
   ],
   "execution_count": 12
  },
  {
   "metadata": {},
   "cell_type": "markdown",
   "source": [
    "# Text preprocessing\n",
    "- Stop-word removal\n",
    "- Stemming\n",
    "- Lemmatization"
   ],
   "id": "b297b10857e98515"
  },
  {
   "metadata": {
    "ExecuteTime": {
     "end_time": "2024-04-27T11:51:37.649275Z",
     "start_time": "2024-04-27T11:51:37.644271Z"
    }
   },
   "cell_type": "code",
   "source": [
    "def preprocess(text):\n",
    "    text = text.lower()\n",
    "    text = text.strip()\n",
    "    text = re.compile(\"<.*?>\").sub('', text)\n",
    "    text = re.compile('[%s]' % re.escape(string.punctuation)).sub('', text)\n",
    "    return text\n",
    "\n",
    "\n",
    "def stop_words(text):\n",
    "    a = [i for i in text.split() if i not in stopwords.words('english')]\n",
    "    return ' '.join(a)\n",
    "\n",
    "\n",
    "wl = WordNetLemmatizer()\n",
    "\n",
    "\n",
    "def get_wordnet_pos(tag):\n",
    "    if tag.startswith('J'):\n",
    "        return wordnet.ADJ\n",
    "    elif tag.startswith('V'):\n",
    "        return wordnet.VERB\n",
    "    elif tag.startswith('N'):\n",
    "        return wordnet.NOUN\n",
    "    elif tag.startswith('R'):\n",
    "        return wordnet.ADV\n",
    "    else:\n",
    "        return wordnet.NOUN\n",
    "\n",
    "\n",
    "def lemmatizer(word):\n",
    "    word_pos_tags = nltk.pos_tag([word])\n",
    "    a = [wl.lemmatize(tag[0], get_wordnet_pos(tag[1])) for idx, tag in enumerate(word_pos_tags)]\n",
    "    return ' '.join(a)\n",
    "\n",
    "\n",
    "def final_preprocess(word):\n",
    "    return lemmatizer(stop_words(preprocess(word)))"
   ],
   "id": "8c1d81a21927dd6d",
   "outputs": [],
   "execution_count": 13
  },
  {
   "metadata": {
    "ExecuteTime": {
     "end_time": "2024-04-27T12:02:26.782919Z",
     "start_time": "2024-04-27T11:52:18.586954Z"
    }
   },
   "cell_type": "code",
   "source": [
    "def final_preprocess(word):\n",
    "    return lemmatizer(stop_words(preprocess(word)))\n",
    "\n",
    "\n",
    "df_reviews['clean_review'] = df_reviews['review'].apply(lambda x: final_preprocess(x))\n",
    "df_reviews.head()"
   ],
   "id": "1a63e0443d88771b",
   "outputs": [
    {
     "data": {
      "text/plain": [
       "      id  rating                                             review  imdbId  \\\n",
       "0    940       3  I wasn't so impressed with this film, finding ...  384793   \n",
       "1    126       4  Worth the entertainment value of a rental, esp...  827521   \n",
       "2  10793       3  Abysmal pulp adventure exploitation in the jun...   46550   \n",
       "3   5888       3  I'm at a loss. This entire movie made absolute...  390022   \n",
       "4   9245       1  Why would anyone make a film like this? Why wo...  475984   \n",
       "\n",
       "   sentiment  word_count  char_count  \\\n",
       "0          0         129         689   \n",
       "1          0         217        1281   \n",
       "2          0         169        1039   \n",
       "3          0         478        2589   \n",
       "4          0         123         669   \n",
       "\n",
       "                                        clean_review  \n",
       "0  wasnt impressed film finding quite tiresome pl...  \n",
       "1  worth entertainment value rental especially li...  \n",
       "2  abysmal pulp adventure exploitation jungle wom...  \n",
       "3  im loss entire movie made absolutely sense lik...  \n",
       "4  would anyone make film like would anybody inve...  "
      ],
      "text/html": [
       "<div>\n",
       "<style scoped>\n",
       "    .dataframe tbody tr th:only-of-type {\n",
       "        vertical-align: middle;\n",
       "    }\n",
       "\n",
       "    .dataframe tbody tr th {\n",
       "        vertical-align: top;\n",
       "    }\n",
       "\n",
       "    .dataframe thead th {\n",
       "        text-align: right;\n",
       "    }\n",
       "</style>\n",
       "<table border=\"1\" class=\"dataframe\">\n",
       "  <thead>\n",
       "    <tr style=\"text-align: right;\">\n",
       "      <th></th>\n",
       "      <th>id</th>\n",
       "      <th>rating</th>\n",
       "      <th>review</th>\n",
       "      <th>imdbId</th>\n",
       "      <th>sentiment</th>\n",
       "      <th>word_count</th>\n",
       "      <th>char_count</th>\n",
       "      <th>clean_review</th>\n",
       "    </tr>\n",
       "  </thead>\n",
       "  <tbody>\n",
       "    <tr>\n",
       "      <th>0</th>\n",
       "      <td>940</td>\n",
       "      <td>3</td>\n",
       "      <td>I wasn't so impressed with this film, finding ...</td>\n",
       "      <td>384793</td>\n",
       "      <td>0</td>\n",
       "      <td>129</td>\n",
       "      <td>689</td>\n",
       "      <td>wasnt impressed film finding quite tiresome pl...</td>\n",
       "    </tr>\n",
       "    <tr>\n",
       "      <th>1</th>\n",
       "      <td>126</td>\n",
       "      <td>4</td>\n",
       "      <td>Worth the entertainment value of a rental, esp...</td>\n",
       "      <td>827521</td>\n",
       "      <td>0</td>\n",
       "      <td>217</td>\n",
       "      <td>1281</td>\n",
       "      <td>worth entertainment value rental especially li...</td>\n",
       "    </tr>\n",
       "    <tr>\n",
       "      <th>2</th>\n",
       "      <td>10793</td>\n",
       "      <td>3</td>\n",
       "      <td>Abysmal pulp adventure exploitation in the jun...</td>\n",
       "      <td>46550</td>\n",
       "      <td>0</td>\n",
       "      <td>169</td>\n",
       "      <td>1039</td>\n",
       "      <td>abysmal pulp adventure exploitation jungle wom...</td>\n",
       "    </tr>\n",
       "    <tr>\n",
       "      <th>3</th>\n",
       "      <td>5888</td>\n",
       "      <td>3</td>\n",
       "      <td>I'm at a loss. This entire movie made absolute...</td>\n",
       "      <td>390022</td>\n",
       "      <td>0</td>\n",
       "      <td>478</td>\n",
       "      <td>2589</td>\n",
       "      <td>im loss entire movie made absolutely sense lik...</td>\n",
       "    </tr>\n",
       "    <tr>\n",
       "      <th>4</th>\n",
       "      <td>9245</td>\n",
       "      <td>1</td>\n",
       "      <td>Why would anyone make a film like this? Why wo...</td>\n",
       "      <td>475984</td>\n",
       "      <td>0</td>\n",
       "      <td>123</td>\n",
       "      <td>669</td>\n",
       "      <td>would anyone make film like would anybody inve...</td>\n",
       "    </tr>\n",
       "  </tbody>\n",
       "</table>\n",
       "</div>"
      ]
     },
     "execution_count": 16,
     "metadata": {},
     "output_type": "execute_result"
    }
   ],
   "execution_count": 16
  },
  {
   "metadata": {},
   "cell_type": "markdown",
   "source": "# Extracting vector form texts (Vectorization)",
   "id": "c804b8440174beb5"
  },
  {
   "metadata": {
    "ExecuteTime": {
     "end_time": "2024-04-27T12:03:10.875982Z",
     "start_time": "2024-04-27T12:03:09.715110Z"
    }
   },
   "cell_type": "code",
   "source": "df_reviews.to_csv('../dataset/imdb_clean_reviews.csv')",
   "id": "91f195f0e8468941",
   "outputs": [],
   "execution_count": 18
  },
  {
   "metadata": {
    "ExecuteTime": {
     "end_time": "2024-04-27T12:12:57.000578Z",
     "start_time": "2024-04-27T12:12:44.640576Z"
    }
   },
   "cell_type": "code",
   "source": [
    "# split train and test\n",
    "X_train, X_test, y_train, y_test = train_test_split(df_reviews[\"clean_review\"], df_reviews[\"sentiment\"], test_size=0.2,\n",
    "                                                    shuffle=True)\n",
    "\n",
    "# Word2Vec runs on tokenized sentences\n",
    "X_train_tok = [nltk.word_tokenize(i) for i in X_train]\n",
    "X_test_tok = [nltk.word_tokenize(i) for i in X_test]"
   ],
   "id": "d0fae2371ee5fa8b",
   "outputs": [],
   "execution_count": 19
  },
  {
   "metadata": {
    "ExecuteTime": {
     "end_time": "2024-04-27T12:14:51.744234Z",
     "start_time": "2024-04-27T12:14:20.796147Z"
    }
   },
   "cell_type": "code",
   "source": [
    "\"\"\"\n",
    "create Word2vec model\n",
    "convert preprocessed sentence to tokenized sentence\n",
    "min_count=1 means word should be present at least across all documents \n",
    "if min_count=2 means if the word is present less than 2 times across all the documents then we shouldn't consider it \n",
    "\"\"\"\n",
    "\n",
    "df_reviews['clean_review_tok'] = [nltk.word_tokenize(i) for i in df_reviews['clean_review']]\n",
    "model = Word2Vec(df_reviews['clean_review_tok'], min_count=1)\n",
    "#combination of word and its vector\n",
    "w2v = dict(zip(model.wv.index_to_key, model.wv.vectors))  "
   ],
   "id": "3b40d13e779c1c4",
   "outputs": [],
   "execution_count": 21
  },
  {
   "metadata": {
    "ExecuteTime": {
     "end_time": "2024-04-27T12:16:48.044945Z",
     "start_time": "2024-04-27T12:16:48.041572Z"
    }
   },
   "cell_type": "code",
   "source": [
    "#for converting sentence to vectors/numbers from word vectors result by Word2Vec\n",
    "class MeanEmbeddingVectorizer(object):\n",
    "    def __init__(self, word2vec):\n",
    "        self.word2vec = word2vec\n",
    "        # if a text is empty we should return a vector of zeros\n",
    "        # with the same dimensionality as all the other vectors\n",
    "        self.dim = len(next(iter(word2vec.values())))\n",
    "\n",
    "    def fit(self, X, y):\n",
    "        return self\n",
    "\n",
    "    def transform(self, X):\n",
    "        return np.array([\n",
    "            np.mean([self.word2vec[w] for w in words if w in self.word2vec]\n",
    "                    or [np.zeros(self.dim)], axis=0)\n",
    "            for words in X\n",
    "        ])"
   ],
   "id": "e53b87e1cf2e48a",
   "outputs": [],
   "execution_count": 23
  },
  {
   "metadata": {
    "ExecuteTime": {
     "end_time": "2024-04-27T12:17:14.463977Z",
     "start_time": "2024-04-27T12:16:54.538969Z"
    }
   },
   "cell_type": "code",
   "source": [
    "X_train_tok = [nltk.word_tokenize(i) for i in X_train]  #for word2vec\n",
    "X_val_tok = [nltk.word_tokenize(i) for i in X_test]  #for word2vec\n",
    "\n",
    "#TF-IDF\n",
    "# Convert x_train to vector since model can only run on numbers and not words- Fit and transform\n",
    "tfidf_vectorizer = TfidfVectorizer(use_idf=True)\n",
    "X_train_vectors_tfidf = tfidf_vectorizer.fit_transform(X_train)  #tfidf runs on non-tokenized sentences unlike word2vec\n",
    "# Only transform x_test (not fit and transform)\n",
    "X_val_vectors_tfidf = tfidf_vectorizer.transform(X_test) \n",
    "\n",
    "#Word2vec\n",
    "# Fit and transform\n",
    "modelw = MeanEmbeddingVectorizer(w2v)\n",
    "X_train_vectors_w2v = modelw.transform(X_train_tok)\n",
    "X_val_vectors_w2v = modelw.transform(X_val_tok)"
   ],
   "id": "3c0d34d2406300c9",
   "outputs": [],
   "execution_count": 24
  },
  {
   "metadata": {
    "ExecuteTime": {
     "end_time": "2024-04-27T12:24:28.083020Z",
     "start_time": "2024-04-27T12:24:25.712933Z"
    }
   },
   "cell_type": "code",
   "source": [
    "#FITTING THE CLASSIFICATION MODEL using Logistic Regression(tf-idf)\n",
    "\n",
    "lr_tfidf=LogisticRegression(solver = 'liblinear', C=10, penalty = 'l2')\n",
    "lr_tfidf.fit(X_train_vectors_tfidf, y_train)  #model\n",
    "\n",
    "#Predict y value for test dataset\n",
    "y_predict = lr_tfidf.predict(X_val_vectors_tfidf)\n",
    "y_prob = lr_tfidf.predict_proba(X_val_vectors_tfidf)[:,1]\n",
    " \n",
    "\n",
    "print(classification_report(y_test,y_predict))\n",
    "print('Confusion Matrix:',confusion_matrix(y_test, y_predict))\n",
    " \n",
    "fpr, tpr, thresholds = roc_curve(y_test, y_prob)\n",
    "roc_auc = auc(fpr, tpr)\n",
    "print('AUC:', roc_auc) "
   ],
   "id": "a1a9f9e665415844",
   "outputs": [
    {
     "name": "stdout",
     "output_type": "stream",
     "text": [
      "              precision    recall  f1-score   support\n",
      "\n",
      "           0       0.90      0.89      0.90      5031\n",
      "           1       0.89      0.90      0.90      4969\n",
      "\n",
      "    accuracy                           0.90     10000\n",
      "   macro avg       0.90      0.90      0.90     10000\n",
      "weighted avg       0.90      0.90      0.90     10000\n",
      "\n",
      "Confusion Matrix: [[4492  539]\n",
      " [ 474 4495]]\n",
      "AUC: 0.9616806070025332\n"
     ]
    }
   ],
   "execution_count": 25
  },
  {
   "metadata": {
    "ExecuteTime": {
     "end_time": "2024-04-27T12:25:57.973846Z",
     "start_time": "2024-04-27T12:25:56.347999Z"
    }
   },
   "cell_type": "code",
   "source": [
    "#FITTING THE CLASSIFICATION MODEL using Logistic Regression (W2v)\n",
    "lr_w2v=LogisticRegression(solver = 'liblinear', C=10, penalty = 'l2')\n",
    "lr_w2v.fit(X_train_vectors_w2v, y_train)  #model\n",
    "#Predict y value for test dataset\n",
    "y_predict = lr_w2v.predict(X_val_vectors_w2v)\n",
    "y_prob = lr_w2v.predict_proba(X_val_vectors_w2v)[:,1]\n",
    "print(classification_report(y_test,y_predict))\n",
    "print('Confusion Matrix:',confusion_matrix(y_test, y_predict))\n",
    " \n",
    "fpr, tpr, thresholds = roc_curve(y_test, y_prob)\n",
    "roc_auc = auc(fpr, tpr)\n",
    "print('AUC:', roc_auc)\n"
   ],
   "id": "76f76b5f4e337f86",
   "outputs": [
    {
     "name": "stdout",
     "output_type": "stream",
     "text": [
      "              precision    recall  f1-score   support\n",
      "\n",
      "           0       0.83      0.83      0.83      5031\n",
      "           1       0.83      0.83      0.83      4969\n",
      "\n",
      "    accuracy                           0.83     10000\n",
      "   macro avg       0.83      0.83      0.83     10000\n",
      "weighted avg       0.83      0.83      0.83     10000\n",
      "\n",
      "Confusion Matrix: [[4155  876]\n",
      " [ 828 4141]]\n",
      "AUC: 0.9107576895255854\n"
     ]
    }
   ],
   "execution_count": 28
  },
  {
   "metadata": {
    "ExecuteTime": {
     "end_time": "2024-04-27T12:26:53.529286Z",
     "start_time": "2024-04-27T12:26:53.477316Z"
    }
   },
   "cell_type": "code",
   "source": [
    "#FITTING THE CLASSIFICATION MODEL using Naive Bayes(tf-idf)\n",
    "nb_tfidf = MultinomialNB()\n",
    "nb_tfidf.fit(X_train_vectors_tfidf, y_train)  \n",
    "#Predict y value for test dataset\n",
    "y_predict = nb_tfidf.predict(X_val_vectors_tfidf)\n",
    "y_prob = nb_tfidf.predict_proba(X_val_vectors_tfidf)[:,1]\n",
    "print(classification_report(y_test,y_predict))\n",
    "print('Confusion Matrix:',confusion_matrix(y_test, y_predict))\n",
    " \n",
    "fpr, tpr, thresholds = roc_curve(y_test, y_prob)\n",
    "roc_auc = auc(fpr, tpr)\n",
    "print('AUC:', roc_auc)"
   ],
   "id": "de66ab9a782be4d2",
   "outputs": [
    {
     "name": "stdout",
     "output_type": "stream",
     "text": [
      "              precision    recall  f1-score   support\n",
      "\n",
      "           0       0.87      0.88      0.87      5031\n",
      "           1       0.87      0.86      0.87      4969\n",
      "\n",
      "    accuracy                           0.87     10000\n",
      "   macro avg       0.87      0.87      0.87     10000\n",
      "weighted avg       0.87      0.87      0.87     10000\n",
      "\n",
      "Confusion Matrix: [[4415  616]\n",
      " [ 676 4293]]\n",
      "AUC: 0.9398144464673222\n"
     ]
    }
   ],
   "execution_count": 29
  },
  {
   "metadata": {},
   "cell_type": "code",
   "outputs": [],
   "execution_count": null,
   "source": "",
   "id": "69bb6fdd4704de8c"
  }
 ],
 "metadata": {
  "kernelspec": {
   "display_name": "Python 3",
   "language": "python",
   "name": "python3"
  },
  "language_info": {
   "codemirror_mode": {
    "name": "ipython",
    "version": 2
   },
   "file_extension": ".py",
   "mimetype": "text/x-python",
   "name": "python",
   "nbconvert_exporter": "python",
   "pygments_lexer": "ipython2",
   "version": "2.7.6"
  }
 },
 "nbformat": 4,
 "nbformat_minor": 5
}
