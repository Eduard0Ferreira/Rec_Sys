{
 "cells": [
  {
   "metadata": {},
   "cell_type": "markdown",
   "source": [
    "# Autoencoder\n",
    "- Auto = self\n",
    "- encode = convert into a different form\n",
    "- Autoencoder = a system that teaches itself how to encode information\n",
    "- Number outputs correspond to the entry from the model\n",
    "\n",
    "# Structure of the layers\n",
    "- Encode: input > layers > bottleneck or latent code (central node)\n",
    "\n",
    "#  Goal of autoencoder:\n",
    "- Get the output to match the input closer possible\n",
    "- data compression of dimension reduction\n",
    "- data cleaning (denoising, despeckling, occlusion)  \n",
    "- feature extraction\n",
    "- anomaly / fraud detection\n",
    "- pretraining deep or complex models   \n"
   ],
   "id": "f9ef06e28206ee28"
  },
  {
   "metadata": {
    "ExecuteTime": {
     "end_time": "2024-05-03T18:33:57.722677Z",
     "start_time": "2024-05-03T18:33:57.715672Z"
    }
   },
   "cell_type": "code",
   "source": [
    "import numpy as np\n",
    "import pandas as pd\n",
    "import torch\n",
    "import torch.nn as nn\n",
    "import torch.nn.parallel\n",
    "import torch.optim as optim\n",
    "from torch.utils.data import Dataset, DataLoader\n"
   ],
   "id": "50d23d1269728be3",
   "outputs": [],
   "execution_count": 2
  },
  {
   "metadata": {
    "ExecuteTime": {
     "end_time": "2024-05-03T18:33:58.551636Z",
     "start_time": "2024-05-03T18:33:58.518125Z"
    }
   },
   "cell_type": "code",
   "source": [
    "from preprocess.preprocess import MovieLens\n",
    "ml = MovieLens()"
   ],
   "id": "e9ad911cfd87ec5c",
   "outputs": [],
   "execution_count": 3
  },
  {
   "metadata": {
    "ExecuteTime": {
     "end_time": "2024-05-03T18:34:25.564374Z",
     "start_time": "2024-05-03T18:34:25.497776Z"
    }
   },
   "cell_type": "code",
   "source": "matrix = ml.get_matrix().to_numpy()",
   "id": "b1a6de576df76dd",
   "outputs": [],
   "execution_count": 6
  },
  {
   "metadata": {
    "ExecuteTime": {
     "end_time": "2024-05-03T18:37:09.020871Z",
     "start_time": "2024-05-03T18:37:09.018906Z"
    }
   },
   "cell_type": "code",
   "source": "# matrix[:,]",
   "id": "88496a9fbd99452d",
   "outputs": [],
   "execution_count": 13
  },
  {
   "metadata": {},
   "cell_type": "code",
   "outputs": [],
   "execution_count": null,
   "source": "",
   "id": "6ca96868e178c339"
  }
 ],
 "metadata": {
  "kernelspec": {
   "display_name": "Python 3",
   "language": "python",
   "name": "python3"
  },
  "language_info": {
   "codemirror_mode": {
    "name": "ipython",
    "version": 2
   },
   "file_extension": ".py",
   "mimetype": "text/x-python",
   "name": "python",
   "nbconvert_exporter": "python",
   "pygments_lexer": "ipython2",
   "version": "2.7.6"
  }
 },
 "nbformat": 4,
 "nbformat_minor": 5
}
