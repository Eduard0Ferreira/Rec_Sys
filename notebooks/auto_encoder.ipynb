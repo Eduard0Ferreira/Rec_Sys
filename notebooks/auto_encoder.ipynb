{
 "cells": [
  {
   "metadata": {},
   "cell_type": "markdown",
   "source": [
    "# Autoencoder\n",
    "- Auto = self\n",
    "- encode = convert into a different form\n",
    "- Autoencoder = a system that teaches itself how to encode information\n",
    "- Number outputs correspond to the entry from the model\n",
    "\n",
    "# Structure of the layers\n",
    "- Encode: input > layers > bottleneck or latent code (central node)\n",
    "\n",
    "#  Goal of autoencoder:\n",
    "- Get the output to match the input closer possible\n",
    "- data compression of dimension reduction\n",
    "- data cleaning (denoising, despeckling, occlusion)  \n",
    "- feature extraction\n",
    "- anomaly / fraud detection\n",
    "- pretraining deep or complex models   \n"
   ],
   "id": "f9ef06e28206ee28"
  },
  {
   "metadata": {
    "ExecuteTime": {
     "end_time": "2024-05-01T00:46:00.092245Z",
     "start_time": "2024-05-01T00:45:58.928361Z"
    }
   },
   "cell_type": "code",
   "source": [
    "import numpy as np\n",
    "import pandas as pd\n",
    "import torch\n",
    "import torch.nn as nn\n",
    "import torch.nn.parallel\n",
    "import torch.optim as optim\n",
    "from torch.utils.data import Dataset, DataLoader\n"
   ],
   "id": "50d23d1269728be3",
   "execution_count": 1,
   "outputs": []
  },
  {
   "metadata": {
    "ExecuteTime": {
     "end_time": "2024-05-01T00:46:00.397817Z",
     "start_time": "2024-05-01T00:46:00.093405Z"
    }
   },
   "cell_type": "code",
   "source": [
    "from sklearn.preprocessing import LabelEncoder\n",
    "\n",
    "le = LabelEncoder()\n"
   ],
   "id": "b724622b88c6c767",
   "execution_count": 2,
   "outputs": []
  },
  {
   "metadata": {
    "ExecuteTime": {
     "end_time": "2024-05-01T00:46:00.429395Z",
     "start_time": "2024-05-01T00:46:00.398757Z"
    }
   },
   "cell_type": "code",
   "source": "ratings = pd.read_csv('../dataset/ml-latest-small/ratings.csv', sep=',')",
   "id": "c376a0d26879f016",
   "execution_count": 3,
   "outputs": []
  },
  {
   "metadata": {
    "ExecuteTime": {
     "end_time": "2024-05-01T00:46:00.669763Z",
     "start_time": "2024-05-01T00:46:00.659171Z"
    }
   },
   "cell_type": "code",
   "source": [
    "ratings['userId'] = le.fit_transform(ratings['userId'])\n",
    "ratings['movieId'] = le.fit_transform(ratings['movieId'])"
   ],
   "id": "eeb263962455c610",
   "execution_count": 4,
   "outputs": []
  },
  {
   "metadata": {
    "ExecuteTime": {
     "end_time": "2024-05-01T00:46:00.923076Z",
     "start_time": "2024-05-01T00:46:00.917455Z"
    }
   },
   "cell_type": "code",
   "source": [
    "user_ids = ratings['userId'].unique()\n",
    "item_ids = ratings['movieId'].unique()\n",
    "user_id_map = {user_id: i for i, user_id in enumerate(user_ids)}\n",
    "item_id_map = {item_id: i for i, item_id in enumerate(item_ids)}"
   ],
   "id": "1c4d6de397c1e203",
   "execution_count": 5,
   "outputs": []
  },
  {
   "metadata": {
    "ExecuteTime": {
     "end_time": "2024-05-01T00:46:01.378374Z",
     "start_time": "2024-05-01T00:46:01.360553Z"
    }
   },
   "cell_type": "code",
   "source": [
    "# Update user and item IDs in the dataframe\n",
    "ratings['userId'] = ratings['userId'].map(user_id_map)\n",
    "ratings['movieId'] = ratings['movieId'].map(item_id_map)"
   ],
   "id": "75108367c9ace1e9",
   "execution_count": 6,
   "outputs": []
  },
  {
   "metadata": {
    "ExecuteTime": {
     "end_time": "2024-05-01T00:46:02.072939Z",
     "start_time": "2024-05-01T00:46:02.066715Z"
    }
   },
   "cell_type": "code",
   "source": [
    "# Define PyTorch Dataset\n",
    "class MovieLensDataset(Dataset):\n",
    "    def __init__(self, ratings):\n",
    "        self.ratings = ratings.values.astype(np.float32)\n",
    "\n",
    "    def __len__(self):\n",
    "        return len(self.ratings)\n",
    "\n",
    "    def __getitem__(self, idx):\n",
    "        return self.ratings[idx]\n",
    "\n",
    "# Create DataLoader\n",
    "batch_size = 64\n",
    "dataset = MovieLensDataset(ratings)\n",
    "dataloader = DataLoader(dataset, batch_size=batch_size, shuffle=True)"
   ],
   "id": "a0a964bb0308a304",
   "execution_count": 7,
   "outputs": []
  },
  {
   "metadata": {
    "ExecuteTime": {
     "end_time": "2024-05-01T00:46:04.018429Z",
     "start_time": "2024-05-01T00:46:03.457666Z"
    }
   },
   "cell_type": "code",
   "source": [
    "# Define autoencoder architecture\n",
    "class Autoencoder(nn.Module):\n",
    "    def __init__(self, input_dim, encoding_dim):\n",
    "        super(Autoencoder, self).__init__()\n",
    "        self.encoder = nn.Sequential(\n",
    "            nn.Linear(input_dim, encoding_dim),\n",
    "            nn.ReLU()\n",
    "        )\n",
    "        self.decoder = nn.Sequential(\n",
    "            nn.Linear(encoding_dim, input_dim),\n",
    "            nn.Sigmoid()\n",
    "        )\n",
    "\n",
    "    def forward(self, x):\n",
    "        encoded = self.encoder(x)\n",
    "        decoded = self.decoder(encoded)\n",
    "        return decoded\n",
    "\n",
    "# Parameters\n",
    "input_dim = len(user_id_map) + len(item_id_map)  # Total number of users + total number of items\n",
    "encoding_dim = 64  # Dimensionality of the latent space\n",
    "num_epochs = 10\n",
    "learning_rate = 0.001\n",
    "\n",
    "# Initialize model, loss function, and optimizer\n",
    "model = Autoencoder(input_dim, encoding_dim)\n",
    "loss_fun = nn.MSELoss()  # Mean Squared Error loss\n",
    "optimizer = optim.Adam(model.parameters(), lr=learning_rate)"
   ],
   "id": "788843da7b02583a",
   "execution_count": 8,
   "outputs": []
  },
  {
   "metadata": {
    "ExecuteTime": {
     "end_time": "2024-05-01T00:46:35.651851Z",
     "start_time": "2024-05-01T00:46:35.628787Z"
    }
   },
   "cell_type": "code",
   "source": [
    "# Training loop\n",
    "for epoch in range(num_epochs):\n",
    "    total_loss = 0.0\n",
    "    for batch in dataloader:\n",
    "        # Flatten input data\n",
    "        print (batch.shape)\n",
    "        inputs = batch.view(-1, input_dim)\n",
    "\n",
    "        # Forward pass\n",
    "        outputs = model(inputs)\n",
    "\n",
    "        # Compute loss\n",
    "        loss = loss_fun(outputs, inputs)\n",
    "        total_loss += loss.item()\n",
    "\n",
    "        # Backward pass and optimization\n",
    "        optimizer.zero_grad()\n",
    "        loss.backward()\n",
    "        optimizer.step()\n",
    "\n",
    "    # Print epoch loss\n",
    "    print(f'Epoch [{epoch+1}/{num_epochs}], Loss: {total_loss / len(dataloader):.4f}')\n",
    "\n",
    "# Save the trained model\n",
    "torch.save(model.state_dict(), 'autoencoder_model.pth')"
   ],
   "id": "aeb4e156cb96be72",
   "execution_count": 11,
   "outputs": []
  },
  {
   "metadata": {},
   "cell_type": "code",
   "execution_count": null,
   "source": "",
   "id": "e9ad911cfd87ec5c",
   "outputs": []
  }
 ],
 "metadata": {
  "kernelspec": {
   "display_name": "Python 3",
   "language": "python",
   "name": "python3"
  },
  "language_info": {
   "codemirror_mode": {
    "name": "ipython",
    "version": 2
   },
   "file_extension": ".py",
   "mimetype": "text/x-python",
   "name": "python",
   "nbconvert_exporter": "python",
   "pygments_lexer": "ipython2",
   "version": "2.7.6"
  }
 },
 "nbformat": 4,
 "nbformat_minor": 5
}
