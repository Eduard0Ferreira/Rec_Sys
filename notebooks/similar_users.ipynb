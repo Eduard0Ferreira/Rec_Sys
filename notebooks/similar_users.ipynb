{
 "cells": [
  {
   "cell_type": "code",
   "id": "initial_id",
   "metadata": {
    "collapsed": true,
    "ExecuteTime": {
     "end_time": "2024-04-19T16:52:31.653789Z",
     "start_time": "2024-04-19T16:52:31.539149Z"
    }
   },
   "source": [
    "import pandas as pd\n",
    "import numpy as np\n",
    "from scipy.integrate import simps\n",
    "from sklearn.cluster import KMeans\n",
    "from sklearn.preprocessing import LabelEncoder\n",
    "from sklearn.metrics.pairwise import cosine_similarity\n",
    "from itertools import combinations, groupby\n",
    "import networkx as nx\n",
    "from torch.fx.experimental.unification.unification_tools import groupby"
   ],
   "outputs": [],
   "execution_count": 55
  },
  {
   "metadata": {
    "ExecuteTime": {
     "end_time": "2024-04-19T15:59:00.218615Z",
     "start_time": "2024-04-19T15:59:00.187692Z"
    }
   },
   "cell_type": "code",
   "source": "df = pd.read_csv('/home/eduardoferreira/PycharmProjects/Rec_Sys/dataset/ml-latest-small/ratings.csv', sep=',')",
   "id": "5c8a622bb78a012f",
   "outputs": [],
   "execution_count": 2
  },
  {
   "metadata": {
    "ExecuteTime": {
     "end_time": "2024-04-19T15:59:00.309275Z",
     "start_time": "2024-04-19T15:59:00.219679Z"
    }
   },
   "cell_type": "code",
   "source": "matrix = df.pivot_table(index='userId', columns='movieId', values='rating').fillna(0)",
   "id": "f9deabe0c705caf0",
   "outputs": [],
   "execution_count": 3
  },
  {
   "metadata": {
    "ExecuteTime": {
     "end_time": "2024-04-19T15:59:00.312272Z",
     "start_time": "2024-04-19T15:59:00.310149Z"
    }
   },
   "cell_type": "code",
   "source": [
    "def cos_sim(v1, v2):\n",
    "    return np.dot(v1, v2) / (np.linalg.norm(v1) * np.linalg.norm(v2))"
   ],
   "id": "657fe570b150543d",
   "outputs": [],
   "execution_count": 4
  },
  {
   "metadata": {
    "ExecuteTime": {
     "end_time": "2024-04-19T15:59:32.192979Z",
     "start_time": "2024-04-19T15:59:32.189948Z"
    }
   },
   "cell_type": "code",
   "source": [
    "def find_n_rated(df1, df2):\n",
    "    mask = (df1 > 0) & (df2 > 0)\n",
    "    # df = pd.merge(df1,df2, on='movieId', how ='inner')\n",
    "    if df1[mask].shape[0] > 10:\n",
    "        return df1[mask].values, df2[mask].values\n",
    "    else:\n",
    "        return None"
   ],
   "id": "b057b3dc44e0ee1c",
   "outputs": [],
   "execution_count": 7
  },
  {
   "metadata": {
    "ExecuteTime": {
     "end_time": "2024-04-19T16:00:07.888418Z",
     "start_time": "2024-04-19T16:00:07.885759Z"
    }
   },
   "cell_type": "code",
   "source": [
    "# similarity_list = []\n",
    "# n = matrix.shape[0]\n",
    "# # n = 50\n",
    "# for i in range(n):\n",
    "#     j = i + 1\n",
    "#     while j < n - 1:\n",
    "#         if find_n_rated(matrix.iloc[i], matrix.iloc[j + 1]) is not None:\n",
    "#             v1, v2 = find_n_rated(matrix.iloc[i], matrix.iloc[j + 1])\n",
    "#             dist = cos_sim(v1, v2)\n",
    "#             similarity_list.append({'userId1': i, 'userId2': j, 'similarity': dist})\n",
    "#         j = j + 1\n"
   ],
   "id": "f4f72082d90942c3",
   "outputs": [],
   "execution_count": 9
  },
  {
   "metadata": {
    "ExecuteTime": {
     "end_time": "2024-04-19T16:00:08.754732Z",
     "start_time": "2024-04-19T16:00:08.751528Z"
    }
   },
   "cell_type": "code",
   "source": [
    "# def similarity_users(df: pd.DataFrame):\n",
    "#     for i in range(df.shape[0]):\n"
   ],
   "id": "e88f3dbafc609375",
   "outputs": [],
   "execution_count": 10
  },
  {
   "metadata": {
    "ExecuteTime": {
     "end_time": "2024-04-19T16:02:23.293908Z",
     "start_time": "2024-04-19T16:00:10.103195Z"
    }
   },
   "cell_type": "code",
   "source": [
    "def calculate_user_similarity(df, n):\n",
    "    ratings_matrix = df.pivot(index='userId', columns='movieId', values='rating').fillna(0)\n",
    "\n",
    "    # Generate pairs of user IDs\n",
    "    user_pairs = list(combinations(ratings_matrix.index, 2))\n",
    "\n",
    "    similarity_data = []\n",
    "    for (u1, u2) in user_pairs:\n",
    "        # Find common movies rated by both users\n",
    "        common_movies = ratings_matrix.loc[u1].index.intersection(ratings_matrix.loc[u2].index)\n",
    "\n",
    "        # Continue if there are not enough common movies rated by both users\n",
    "        if len(common_movies) <= n:\n",
    "            continue\n",
    "\n",
    "        # Calculate cosine similarity using ratings of common movies\n",
    "        ratings_u1 = ratings_matrix.loc[u1, common_movies].values.reshape(1, -1)\n",
    "        ratings_u2 = ratings_matrix.loc[u2, common_movies].values.reshape(1, -1)\n",
    "        similarity = cosine_similarity(ratings_u1, ratings_u2)[0, 0]\n",
    "\n",
    "        # Append to similarity_data\n",
    "        similarity_data.append((u1, u2, similarity))\n",
    "\n",
    "    # Create DataFrame with columns 'userId', 'userId1', and 'similarity'\n",
    "    similarity_df = pd.DataFrame(similarity_data, columns=['userId', 'userId1', 'similarity'])\n",
    "\n",
    "    return similarity_df\n",
    "\n",
    "\n",
    "similarity_df = calculate_user_similarity(df, n=10)\n",
    "print(similarity_df)"
   ],
   "id": "af9f6ffc250c2302",
   "outputs": [
    {
     "name": "stdout",
     "output_type": "stream",
     "text": [
      "        userId  userId1  similarity\n",
      "0            1        2    0.027283\n",
      "1            1        3    0.059720\n",
      "2            1        4    0.194395\n",
      "3            1        5    0.129080\n",
      "4            1        6    0.128152\n",
      "...        ...      ...         ...\n",
      "185740     607      609    0.149190\n",
      "185741     607      610    0.139114\n",
      "185742     608      609    0.121993\n",
      "185743     608      610    0.322055\n",
      "185744     609      610    0.053225\n",
      "\n",
      "[185745 rows x 3 columns]\n"
     ]
    }
   ],
   "execution_count": 11
  },
  {
   "metadata": {
    "ExecuteTime": {
     "end_time": "2024-04-19T17:11:49.703676Z",
     "start_time": "2024-04-19T17:11:49.454589Z"
    }
   },
   "cell_type": "code",
   "source": [
    "similarity_df.sort_values(by='similarity', ascending=False, inplace=True)\n",
    "similarity_df.to_csv('/home/eduardoferreira/PycharmProjects/Rec_Sys/dataset/treated/similarity_users.csv', sep=',')"
   ],
   "id": "5a04b7b9f5440a91",
   "outputs": [],
   "execution_count": 84
  },
  {
   "metadata": {
    "ExecuteTime": {
     "end_time": "2024-04-19T16:52:54.700598Z",
     "start_time": "2024-04-19T16:52:54.397352Z"
    }
   },
   "cell_type": "code",
   "source": [
    "def group_users_by_similarity(df, n_groups):\n",
    "    X = df[['userId', 'userId1', 'similarity']]\n",
    "\n",
    "    kmeans = KMeans(n_clusters=n_groups, random_state=42)\n",
    "    X['group'] = kmeans.fit_predict(X[['similarity']])\n",
    "\n",
    "    X['user'] = X[['userId', 'userId1']].values.tolist()\n",
    "    X = X.drop(['userId', 'userId1'], axis=1)\n",
    "\n",
    "    grouped_df = X.groupby('group')['user'].apply(list).reset_index()\n",
    "\n",
    "    return grouped_df\n",
    "\n",
    "\n",
    "grouped_df = group_users_by_similarity(similarity_df, n_groups=6)"
   ],
   "id": "d598366d0e0bcca0",
   "outputs": [
    {
     "name": "stdout",
     "output_type": "stream",
     "text": [
      "   group                                               user\n",
      "0      0  [[1, 3], [1, 9], [1, 13], [1, 22], [1, 25], [1...\n",
      "1      1  [[1, 17], [1, 19], [1, 39], [1, 42], [1, 45], ...\n",
      "2      2  [[1, 4], [1, 16], [1, 18], [1, 27], [1, 28], [...\n",
      "3      3  [[1, 2], [1, 10], [1, 12], [1, 85], [1, 87], [...\n",
      "4      4  [[5, 8], [5, 46], [5, 58], [5, 94], [5, 117], ...\n",
      "5      5  [[1, 5], [1, 6], [1, 7], [1, 8], [1, 11], [1, ...\n"
     ]
    }
   ],
   "execution_count": 56
  },
  {
   "metadata": {
    "ExecuteTime": {
     "end_time": "2024-04-19T18:18:37.666413Z",
     "start_time": "2024-04-19T18:18:37.658310Z"
    }
   },
   "cell_type": "code",
   "source": "similarity_df[['userId', 'userId1']].astype(int)",
   "id": "1f87582af305b83a",
   "outputs": [
    {
     "data": {
      "text/plain": [
       "        userId  userId1\n",
       "68627      126      379\n",
       "70748      130      574\n",
       "70642      130      468\n",
       "118074     242      468\n",
       "79834      150      270\n",
       "...        ...      ...\n",
       "98054      191      491\n",
       "29945       52      214\n",
       "169801     431      598\n",
       "54200       97      394\n",
       "73529      136      496\n",
       "\n",
       "[185745 rows x 2 columns]"
      ],
      "text/html": [
       "<div>\n",
       "<style scoped>\n",
       "    .dataframe tbody tr th:only-of-type {\n",
       "        vertical-align: middle;\n",
       "    }\n",
       "\n",
       "    .dataframe tbody tr th {\n",
       "        vertical-align: top;\n",
       "    }\n",
       "\n",
       "    .dataframe thead th {\n",
       "        text-align: right;\n",
       "    }\n",
       "</style>\n",
       "<table border=\"1\" class=\"dataframe\">\n",
       "  <thead>\n",
       "    <tr style=\"text-align: right;\">\n",
       "      <th></th>\n",
       "      <th>userId</th>\n",
       "      <th>userId1</th>\n",
       "    </tr>\n",
       "  </thead>\n",
       "  <tbody>\n",
       "    <tr>\n",
       "      <th>68627</th>\n",
       "      <td>126</td>\n",
       "      <td>379</td>\n",
       "    </tr>\n",
       "    <tr>\n",
       "      <th>70748</th>\n",
       "      <td>130</td>\n",
       "      <td>574</td>\n",
       "    </tr>\n",
       "    <tr>\n",
       "      <th>70642</th>\n",
       "      <td>130</td>\n",
       "      <td>468</td>\n",
       "    </tr>\n",
       "    <tr>\n",
       "      <th>118074</th>\n",
       "      <td>242</td>\n",
       "      <td>468</td>\n",
       "    </tr>\n",
       "    <tr>\n",
       "      <th>79834</th>\n",
       "      <td>150</td>\n",
       "      <td>270</td>\n",
       "    </tr>\n",
       "    <tr>\n",
       "      <th>...</th>\n",
       "      <td>...</td>\n",
       "      <td>...</td>\n",
       "    </tr>\n",
       "    <tr>\n",
       "      <th>98054</th>\n",
       "      <td>191</td>\n",
       "      <td>491</td>\n",
       "    </tr>\n",
       "    <tr>\n",
       "      <th>29945</th>\n",
       "      <td>52</td>\n",
       "      <td>214</td>\n",
       "    </tr>\n",
       "    <tr>\n",
       "      <th>169801</th>\n",
       "      <td>431</td>\n",
       "      <td>598</td>\n",
       "    </tr>\n",
       "    <tr>\n",
       "      <th>54200</th>\n",
       "      <td>97</td>\n",
       "      <td>394</td>\n",
       "    </tr>\n",
       "    <tr>\n",
       "      <th>73529</th>\n",
       "      <td>136</td>\n",
       "      <td>496</td>\n",
       "    </tr>\n",
       "  </tbody>\n",
       "</table>\n",
       "<p>185745 rows × 2 columns</p>\n",
       "</div>"
      ]
     },
     "execution_count": 177,
     "metadata": {},
     "output_type": "execute_result"
    }
   ],
   "execution_count": 177
  },
  {
   "metadata": {
    "ExecuteTime": {
     "end_time": "2024-04-19T18:25:26.198384Z",
     "start_time": "2024-04-19T18:25:26.194720Z"
    }
   },
   "cell_type": "code",
   "source": [
    "def group_users(similarity: pd.DataFrame, n_groups) -> []:\n",
    "    group = []\n",
    "\n",
    "    for g in range(n_groups):\n",
    "        for i in range(similarity.shape[0]):\n",
    "            # print('group')\n",
    "            if not group:\n",
    "                group.append([g, similarity.iloc[i]['userId'], similarity.iloc[i]['userId1']])\n",
    "            else:\n",
    "                if similarity.iloc[i]['userId'] in group or similarity.iloc[i]['userId1'].all() in group:\n",
    "                    pass\n",
    "    return group"
   ],
   "id": "a767e8eb27f961d5",
   "outputs": [],
   "execution_count": 184
  },
  {
   "metadata": {
    "ExecuteTime": {
     "end_time": "2024-04-19T18:45:18.369480Z",
     "start_time": "2024-04-19T18:45:18.362531Z"
    }
   },
   "cell_type": "code",
   "source": "# test = group_users(similarity_df, 1)",
   "id": "db1a1b059a4ec96d",
   "outputs": [],
   "execution_count": 216
  },
  {
   "metadata": {
    "ExecuteTime": {
     "end_time": "2024-04-19T19:09:00.217173Z",
     "start_time": "2024-04-19T19:09:00.208191Z"
    }
   },
   "cell_type": "code",
   "source": " [similarity_df[similarity_df['similarity'] > 0.5]['userId'] == 126][0]\n",
   "id": "46c79809da001f",
   "outputs": [
    {
     "data": {
      "text/plain": [
       "68627      True\n",
       "70748     False\n",
       "70642     False\n",
       "118074    False\n",
       "79834     False\n",
       "          ...  \n",
       "71850     False\n",
       "151167    False\n",
       "117946    False\n",
       "15472     False\n",
       "15292     False\n",
       "Name: userId, Length: 852, dtype: bool"
      ]
     },
     "execution_count": 232,
     "metadata": {},
     "output_type": "execute_result"
    }
   ],
   "execution_count": 232
  },
  {
   "metadata": {
    "ExecuteTime": {
     "end_time": "2024-04-19T18:42:13.542352Z",
     "start_time": "2024-04-19T18:42:13.539850Z"
    }
   },
   "cell_type": "code",
   "source": "sim = similarity_df.groupby(['userId'])",
   "id": "6688039620299aec",
   "outputs": [],
   "execution_count": 212
  },
  {
   "metadata": {
    "ExecuteTime": {
     "end_time": "2024-04-19T18:42:16.431765Z",
     "start_time": "2024-04-19T18:42:16.417540Z"
    }
   },
   "cell_type": "code",
   "source": "sim.head()",
   "id": "7b22d3cf3b91d49b",
   "outputs": [
    {
     "data": {
      "text/plain": [
       "        userId  userId1  similarity\n",
       "68627      126      379    0.813373\n",
       "70748      130      574    0.800046\n",
       "70642      130      468    0.776898\n",
       "118074     242      468    0.761244\n",
       "79834      150      270    0.752312\n",
       "...        ...      ...         ...\n",
       "185219     578      581    0.037840\n",
       "185243     578      605    0.037065\n",
       "185237     578      599    0.036130\n",
       "185234     578      596    0.032893\n",
       "185244     578      606    0.029230\n",
       "\n",
       "[3035 rows x 3 columns]"
      ],
      "text/html": [
       "<div>\n",
       "<style scoped>\n",
       "    .dataframe tbody tr th:only-of-type {\n",
       "        vertical-align: middle;\n",
       "    }\n",
       "\n",
       "    .dataframe tbody tr th {\n",
       "        vertical-align: top;\n",
       "    }\n",
       "\n",
       "    .dataframe thead th {\n",
       "        text-align: right;\n",
       "    }\n",
       "</style>\n",
       "<table border=\"1\" class=\"dataframe\">\n",
       "  <thead>\n",
       "    <tr style=\"text-align: right;\">\n",
       "      <th></th>\n",
       "      <th>userId</th>\n",
       "      <th>userId1</th>\n",
       "      <th>similarity</th>\n",
       "    </tr>\n",
       "  </thead>\n",
       "  <tbody>\n",
       "    <tr>\n",
       "      <th>68627</th>\n",
       "      <td>126</td>\n",
       "      <td>379</td>\n",
       "      <td>0.813373</td>\n",
       "    </tr>\n",
       "    <tr>\n",
       "      <th>70748</th>\n",
       "      <td>130</td>\n",
       "      <td>574</td>\n",
       "      <td>0.800046</td>\n",
       "    </tr>\n",
       "    <tr>\n",
       "      <th>70642</th>\n",
       "      <td>130</td>\n",
       "      <td>468</td>\n",
       "      <td>0.776898</td>\n",
       "    </tr>\n",
       "    <tr>\n",
       "      <th>118074</th>\n",
       "      <td>242</td>\n",
       "      <td>468</td>\n",
       "      <td>0.761244</td>\n",
       "    </tr>\n",
       "    <tr>\n",
       "      <th>79834</th>\n",
       "      <td>150</td>\n",
       "      <td>270</td>\n",
       "      <td>0.752312</td>\n",
       "    </tr>\n",
       "    <tr>\n",
       "      <th>...</th>\n",
       "      <td>...</td>\n",
       "      <td>...</td>\n",
       "      <td>...</td>\n",
       "    </tr>\n",
       "    <tr>\n",
       "      <th>185219</th>\n",
       "      <td>578</td>\n",
       "      <td>581</td>\n",
       "      <td>0.037840</td>\n",
       "    </tr>\n",
       "    <tr>\n",
       "      <th>185243</th>\n",
       "      <td>578</td>\n",
       "      <td>605</td>\n",
       "      <td>0.037065</td>\n",
       "    </tr>\n",
       "    <tr>\n",
       "      <th>185237</th>\n",
       "      <td>578</td>\n",
       "      <td>599</td>\n",
       "      <td>0.036130</td>\n",
       "    </tr>\n",
       "    <tr>\n",
       "      <th>185234</th>\n",
       "      <td>578</td>\n",
       "      <td>596</td>\n",
       "      <td>0.032893</td>\n",
       "    </tr>\n",
       "    <tr>\n",
       "      <th>185244</th>\n",
       "      <td>578</td>\n",
       "      <td>606</td>\n",
       "      <td>0.029230</td>\n",
       "    </tr>\n",
       "  </tbody>\n",
       "</table>\n",
       "<p>3035 rows × 3 columns</p>\n",
       "</div>"
      ]
     },
     "execution_count": 213,
     "metadata": {},
     "output_type": "execute_result"
    }
   ],
   "execution_count": 213
  },
  {
   "metadata": {},
   "cell_type": "code",
   "outputs": [],
   "execution_count": null,
   "source": "",
   "id": "c84ed6568337a747"
  }
 ],
 "metadata": {
  "kernelspec": {
   "display_name": "Python 3",
   "language": "python",
   "name": "python3"
  },
  "language_info": {
   "codemirror_mode": {
    "name": "ipython",
    "version": 2
   },
   "file_extension": ".py",
   "mimetype": "text/x-python",
   "name": "python",
   "nbconvert_exporter": "python",
   "pygments_lexer": "ipython2",
   "version": "2.7.6"
  }
 },
 "nbformat": 4,
 "nbformat_minor": 5
}
