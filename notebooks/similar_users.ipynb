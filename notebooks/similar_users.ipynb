{
 "cells": [
  {
   "cell_type": "code",
   "id": "initial_id",
   "metadata": {
    "collapsed": true,
    "ExecuteTime": {
     "end_time": "2024-04-19T16:52:31.653789Z",
     "start_time": "2024-04-19T16:52:31.539149Z"
    }
   },
   "source": [
    "import pandas as pd\n",
    "import numpy as np\n",
    "from scipy.integrate import simps\n",
    "from sklearn.cluster import KMeans\n",
    "from sklearn.preprocessing import LabelEncoder\n",
    "from sklearn.metrics.pairwise import cosine_similarity\n",
    "from itertools import combinations, groupby\n",
    "import networkx as nx\n",
    "from torch.fx.experimental.unification.unification_tools import groupby"
   ],
   "execution_count": 55,
   "outputs": []
  },
  {
   "metadata": {
    "ExecuteTime": {
     "end_time": "2024-04-19T15:59:00.218615Z",
     "start_time": "2024-04-19T15:59:00.187692Z"
    }
   },
   "cell_type": "code",
   "source": "df = pd.read_csv('/home/eduardoferreira/PycharmProjects/Rec_Sys/dataset/ml-latest-small/ratings.csv', sep=',')",
   "id": "5c8a622bb78a012f",
   "execution_count": 2,
   "outputs": []
  },
  {
   "metadata": {
    "ExecuteTime": {
     "end_time": "2024-04-19T15:59:00.309275Z",
     "start_time": "2024-04-19T15:59:00.219679Z"
    }
   },
   "cell_type": "code",
   "source": "matrix = df.pivot_table(index='userId', columns='movieId', values='rating').fillna(0)",
   "id": "f9deabe0c705caf0",
   "execution_count": 3,
   "outputs": []
  },
  {
   "metadata": {
    "ExecuteTime": {
     "end_time": "2024-04-19T15:59:00.312272Z",
     "start_time": "2024-04-19T15:59:00.310149Z"
    }
   },
   "cell_type": "code",
   "source": [
    "def cos_sim(v1, v2):\n",
    "    return np.dot(v1, v2) / (np.linalg.norm(v1) * np.linalg.norm(v2))"
   ],
   "id": "657fe570b150543d",
   "execution_count": 4,
   "outputs": []
  },
  {
   "metadata": {
    "ExecuteTime": {
     "end_time": "2024-04-19T15:59:32.192979Z",
     "start_time": "2024-04-19T15:59:32.189948Z"
    }
   },
   "cell_type": "code",
   "source": [
    "def find_n_rated(df1, df2):\n",
    "    mask = (df1 > 0) & (df2 > 0)\n",
    "    # df = pd.merge(df1,df2, on='movieId', how ='inner')\n",
    "    if df1[mask].shape[0] > 10:\n",
    "        return df1[mask].values, df2[mask].values\n",
    "    else:\n",
    "        return None"
   ],
   "id": "b057b3dc44e0ee1c",
   "execution_count": 7,
   "outputs": []
  },
  {
   "metadata": {
    "ExecuteTime": {
     "end_time": "2024-04-19T16:00:07.888418Z",
     "start_time": "2024-04-19T16:00:07.885759Z"
    }
   },
   "cell_type": "code",
   "source": [
    "# similarity_list = []\n",
    "# n = matrix.shape[0]\n",
    "# # n = 50\n",
    "# for i in range(n):\n",
    "#     j = i + 1\n",
    "#     while j < n - 1:\n",
    "#         if find_n_rated(matrix.iloc[i], matrix.iloc[j + 1]) is not None:\n",
    "#             v1, v2 = find_n_rated(matrix.iloc[i], matrix.iloc[j + 1])\n",
    "#             dist = cos_sim(v1, v2)\n",
    "#             similarity_list.append({'userId1': i, 'userId2': j, 'similarity': dist})\n",
    "#         j = j + 1\n"
   ],
   "id": "f4f72082d90942c3",
   "execution_count": 9,
   "outputs": []
  },
  {
   "metadata": {
    "ExecuteTime": {
     "end_time": "2024-04-19T16:00:08.754732Z",
     "start_time": "2024-04-19T16:00:08.751528Z"
    }
   },
   "cell_type": "code",
   "source": [
    "# def similarity_users(df: pd.DataFrame):\n",
    "#     for i in range(df.shape[0]):\n"
   ],
   "id": "e88f3dbafc609375",
   "execution_count": 10,
   "outputs": []
  },
  {
   "metadata": {
    "ExecuteTime": {
     "end_time": "2024-04-19T16:02:23.293908Z",
     "start_time": "2024-04-19T16:00:10.103195Z"
    }
   },
   "cell_type": "code",
   "source": [
    "def calculate_user_similarity(df, n):\n",
    "    ratings_matrix = df.pivot(index='userId', columns='movieId', values='rating').fillna(0)\n",
    "\n",
    "    # Generate pairs of user IDs\n",
    "    user_pairs = list(combinations(ratings_matrix.index, 2))\n",
    "\n",
    "    similarity_data = []\n",
    "    for (u1, u2) in user_pairs:\n",
    "        # Find common movies rated by both users\n",
    "        common_movies = ratings_matrix.loc[u1].index.intersection(ratings_matrix.loc[u2].index)\n",
    "\n",
    "        # Continue if there are not enough common movies rated by both users\n",
    "        if len(common_movies) <= n:\n",
    "            continue\n",
    "\n",
    "        # Calculate cosine similarity using ratings of common movies\n",
    "        ratings_u1 = ratings_matrix.loc[u1, common_movies].values.reshape(1, -1)\n",
    "        ratings_u2 = ratings_matrix.loc[u2, common_movies].values.reshape(1, -1)\n",
    "        similarity = cosine_similarity(ratings_u1, ratings_u2)[0, 0]\n",
    "\n",
    "        # Append to similarity_data\n",
    "        similarity_data.append((u1, u2, similarity))\n",
    "\n",
    "    # Create DataFrame with columns 'userId', 'userId1', and 'similarity'\n",
    "    similarity_df = pd.DataFrame(similarity_data, columns=['userId', 'userId1', 'similarity'])\n",
    "\n",
    "    return similarity_df\n",
    "\n",
    "\n",
    "similarity_df = calculate_user_similarity(df, n=10)\n",
    "print(similarity_df)"
   ],
   "id": "af9f6ffc250c2302",
   "execution_count": 11,
   "outputs": []
  },
  {
   "metadata": {
    "ExecuteTime": {
     "end_time": "2024-04-19T17:11:49.703676Z",
     "start_time": "2024-04-19T17:11:49.454589Z"
    }
   },
   "cell_type": "code",
   "source": [
    "similarity_df.sort_values(by='similarity', ascending=False, inplace=True)\n",
    "similarity_df.to_csv('/home/eduardoferreira/PycharmProjects/Rec_Sys/dataset/treated/similarity_users.csv', sep=',')"
   ],
   "id": "5a04b7b9f5440a91",
   "execution_count": 84,
   "outputs": []
  },
  {
   "metadata": {
    "ExecuteTime": {
     "end_time": "2024-04-19T16:52:54.700598Z",
     "start_time": "2024-04-19T16:52:54.397352Z"
    }
   },
   "cell_type": "code",
   "source": [
    "def group_users_by_similarity(df, n_groups):\n",
    "    X = df[['userId', 'userId1', 'similarity']]\n",
    "\n",
    "    kmeans = KMeans(n_clusters=n_groups, random_state=42)\n",
    "    X['group'] = kmeans.fit_predict(X[['similarity']])\n",
    "\n",
    "    X['user'] = X[['userId', 'userId1']].values.tolist()\n",
    "    X = X.drop(['userId', 'userId1'], axis=1)\n",
    "\n",
    "    grouped_df = X.groupby('group')['user'].apply(list).reset_index()\n",
    "\n",
    "    return grouped_df\n",
    "\n",
    "\n",
    "grouped_df = group_users_by_similarity(similarity_df, n_groups=6)"
   ],
   "id": "d598366d0e0bcca0",
   "execution_count": 56,
   "outputs": []
  },
  {
   "metadata": {
    "ExecuteTime": {
     "end_time": "2024-04-19T18:18:37.666413Z",
     "start_time": "2024-04-19T18:18:37.658310Z"
    }
   },
   "cell_type": "code",
   "source": "similarity_df[['userId', 'userId1']].astype(int)",
   "id": "1f87582af305b83a",
   "execution_count": 177,
   "outputs": []
  },
  {
   "metadata": {
    "ExecuteTime": {
     "end_time": "2024-04-19T18:25:26.198384Z",
     "start_time": "2024-04-19T18:25:26.194720Z"
    }
   },
   "cell_type": "code",
   "source": [
    "def group_users(similarity: pd.DataFrame, n_groups) -> []:\n",
    "    group = []\n",
    "\n",
    "    for g in range(n_groups):\n",
    "        for i in range(similarity.shape[0]):\n",
    "            # print('group')\n",
    "            if not group:\n",
    "                group.append([g, similarity.iloc[i]['userId'], similarity.iloc[i]['userId1']])\n",
    "            else:\n",
    "                if similarity.iloc[i]['userId'] in group or similarity.iloc[i]['userId1'].all() in group:\n",
    "                    pass\n",
    "    return group"
   ],
   "id": "a767e8eb27f961d5",
   "execution_count": 184,
   "outputs": []
  },
  {
   "metadata": {
    "ExecuteTime": {
     "end_time": "2024-04-19T18:45:18.369480Z",
     "start_time": "2024-04-19T18:45:18.362531Z"
    }
   },
   "cell_type": "code",
   "source": "# test = group_users(similarity_df, 1)",
   "id": "db1a1b059a4ec96d",
   "execution_count": 216,
   "outputs": []
  },
  {
   "metadata": {
    "ExecuteTime": {
     "end_time": "2024-04-19T19:09:00.217173Z",
     "start_time": "2024-04-19T19:09:00.208191Z"
    }
   },
   "cell_type": "code",
   "source": " [similarity_df[similarity_df['similarity'] > 0.5]['userId'] == 126][0]\n",
   "id": "46c79809da001f",
   "execution_count": 232,
   "outputs": []
  },
  {
   "metadata": {
    "ExecuteTime": {
     "end_time": "2024-04-19T18:42:13.542352Z",
     "start_time": "2024-04-19T18:42:13.539850Z"
    }
   },
   "cell_type": "code",
   "source": "sim = similarity_df.groupby(['userId'])",
   "id": "6688039620299aec",
   "execution_count": 212,
   "outputs": []
  },
  {
   "metadata": {
    "ExecuteTime": {
     "end_time": "2024-04-19T18:42:16.431765Z",
     "start_time": "2024-04-19T18:42:16.417540Z"
    }
   },
   "cell_type": "code",
   "source": "sim.head()",
   "id": "7b22d3cf3b91d49b",
   "execution_count": 213,
   "outputs": []
  },
  {
   "metadata": {},
   "cell_type": "code",
   "execution_count": null,
   "source": "",
   "id": "c84ed6568337a747",
   "outputs": []
  }
 ],
 "metadata": {
  "kernelspec": {
   "display_name": "Python 3",
   "language": "python",
   "name": "python3"
  },
  "language_info": {
   "codemirror_mode": {
    "name": "ipython",
    "version": 2
   },
   "file_extension": ".py",
   "mimetype": "text/x-python",
   "name": "python",
   "nbconvert_exporter": "python",
   "pygments_lexer": "ipython2",
   "version": "2.7.6"
  }
 },
 "nbformat": 4,
 "nbformat_minor": 5
}
