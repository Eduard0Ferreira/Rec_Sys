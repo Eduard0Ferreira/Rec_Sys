{
 "cells": [
  {
   "metadata": {
    "ExecuteTime": {
     "end_time": "2024-05-03T12:17:43.938746Z",
     "start_time": "2024-05-03T12:17:43.935053Z"
    }
   },
   "cell_type": "code",
   "source": [
    "import numpy as np\n",
    "import pandas as pd\n",
    "import torch\n",
    "from collections import defaultdict\n",
    "from sklearn.cluster import KMeans\n",
    "from sklearn.metrics import f1_score, precision_score, recall_score\n",
    "from sklearn.preprocessing import StandardScaler, LabelEncoder\n",
    "from torch import nn, optim\n",
    "from torch.utils.data import TensorDataset, DataLoader\n",
    "from sklearn.model_selection import train_test_split\n",
    "\n",
    "import matplotlib.pyplot as plt\n",
    "import matplotlib_inline.backend_inline\n",
    "\n",
    "matplotlib_inline.backend_inline.set_matplotlib_formats('svg')\n",
    "\n",
    "from preprocess.preprocess import MovieLens\n",
    "\n",
    "device = torch.device('cuda' if torch.cuda.is_available() else 'cpu')"
   ],
   "id": "a5c319ca0fcfad60",
   "outputs": [],
   "execution_count": 27
  },
  {
   "metadata": {
    "ExecuteTime": {
     "end_time": "2024-05-03T12:17:43.949932Z",
     "start_time": "2024-05-03T12:17:43.947202Z"
    }
   },
   "cell_type": "code",
   "source": [
    "# Classes create for preprocessing and models\n",
    "from preprocess.preprocess import MovieLens\n",
    "from models.matrix_factorization import MF\n",
    "from rec_sys.recsys import RecSys"
   ],
   "id": "480e0f92b8422c4a",
   "outputs": [],
   "execution_count": 28
  },
  {
   "metadata": {
    "ExecuteTime": {
     "end_time": "2024-05-03T12:17:43.988697Z",
     "start_time": "2024-05-03T12:17:43.951328Z"
    }
   },
   "cell_type": "code",
   "source": "ml = MovieLens()",
   "id": "24fb7dd22275e183",
   "outputs": [],
   "execution_count": 29
  },
  {
   "metadata": {
    "ExecuteTime": {
     "end_time": "2024-05-03T12:17:43.998049Z",
     "start_time": "2024-05-03T12:17:43.989801Z"
    }
   },
   "cell_type": "code",
   "source": [
    "n_users, n_items = ml.num_user_item()\n",
    "model = MF(n_users, n_items, emb_dim=32, init=True)\n",
    "model.to(device)\n",
    "print(model)"
   ],
   "id": "1ef3d8187c83a37c",
   "outputs": [
    {
     "name": "stdout",
     "output_type": "stream",
     "text": [
      "MF(\n",
      "  (user_emb): Embedding(610, 32)\n",
      "  (item_emb): Embedding(9724, 32)\n",
      "  (fc1): Linear(in_features=32, out_features=128, bias=True)\n",
      "  (fc2): Linear(in_features=128, out_features=64, bias=True)\n",
      "  (fc3): Linear(in_features=64, out_features=1, bias=True)\n",
      "  (relu): ReLU()\n",
      "  (sigmoid): Sigmoid()\n",
      ")\n"
     ]
    }
   ],
   "execution_count": 30
  },
  {
   "metadata": {
    "ExecuteTime": {
     "end_time": "2024-05-03T12:17:44.088848Z",
     "start_time": "2024-05-03T12:17:43.999107Z"
    }
   },
   "cell_type": "code",
   "source": "train_loader, test_loader = ml.dataset(batch_size=32)",
   "id": "93c9c1ee0f4bffcf",
   "outputs": [],
   "execution_count": 31
  },
  {
   "metadata": {
    "ExecuteTime": {
     "end_time": "2024-05-03T12:18:25.636588Z",
     "start_time": "2024-05-03T12:17:44.090249Z"
    }
   },
   "cell_type": "code",
   "source": "train_losses, val_losses = model.fit(num_epochs=10, train_loader=train_loader, test_loader=test_loader)",
   "id": "bc7bf88441af8a93",
   "outputs": [
    {
     "name": "stdout",
     "output_type": "stream",
     "text": [
      "epoch 1 loss batch: 2.6728704532632035\n",
      "epoch 2 loss batch: 0.8499277245006372\n",
      "epoch 3 loss batch: 0.7009003827471827\n",
      "epoch 4 loss batch: 0.6300360488591056\n",
      "epoch 5 loss batch: 0.5700817559655278\n",
      "epoch 6 loss batch: 0.5222402641809794\n",
      "epoch 7 loss batch: 0.48879550008053335\n",
      "epoch 8 loss batch: 0.4655427905679674\n",
      "epoch 9 loss batch: 0.44887667692861455\n",
      "epoch 10 loss batch: 0.4369381944450572\n"
     ]
    }
   ],
   "execution_count": 32
  },
  {
   "metadata": {
    "ExecuteTime": {
     "end_time": "2024-05-03T12:18:25.788684Z",
     "start_time": "2024-05-03T12:18:25.637631Z"
    }
   },
   "cell_type": "code",
   "source": [
    "plt.figure(figsize=(8, 4))\n",
    "plt.plot(train_losses, label='Train')\n",
    "plt.plot(val_losses, label='Val')\n",
    "plt.title('Loss vs Epoch')\n",
    "plt.xlabel('Epoch')\n",
    "plt.ylabel('Loss')\n",
    "plt.grid()\n",
    "plt.legend()\n"
   ],
   "id": "455d353ff84c4749",
   "outputs": [
    {
     "data": {
      "text/plain": [
       "<matplotlib.legend.Legend at 0x72d767d1f880>"
      ]
     },
     "execution_count": 33,
     "metadata": {},
     "output_type": "execute_result"
    },
    {
     "data": {
      "text/plain": [
       "<Figure size 800x400 with 1 Axes>"
      ],
      "image/svg+xml": "<?xml version=\"1.0\" encoding=\"utf-8\" standalone=\"no\"?>\n<!DOCTYPE svg PUBLIC \"-//W3C//DTD SVG 1.1//EN\"\n  \"http://www.w3.org/Graphics/SVG/1.1/DTD/svg11.dtd\">\n<svg xmlns:xlink=\"http://www.w3.org/1999/xlink\" width=\"497.38125pt\" height=\"281.634375pt\" viewBox=\"0 0 497.38125 281.634375\" xmlns=\"http://www.w3.org/2000/svg\" version=\"1.1\">\n <metadata>\n  <rdf:RDF xmlns:dc=\"http://purl.org/dc/elements/1.1/\" xmlns:cc=\"http://creativecommons.org/ns#\" xmlns:rdf=\"http://www.w3.org/1999/02/22-rdf-syntax-ns#\">\n   <cc:Work>\n    <dc:type rdf:resource=\"http://purl.org/dc/dcmitype/StillImage\"/>\n    <dc:date>2024-05-03T09:18:25.759097</dc:date>\n    <dc:format>image/svg+xml</dc:format>\n    <dc:creator>\n     <cc:Agent>\n      <dc:title>Matplotlib v3.8.4, https://matplotlib.org/</dc:title>\n     </cc:Agent>\n    </dc:creator>\n   </cc:Work>\n  </rdf:RDF>\n </metadata>\n <defs>\n  <style type=\"text/css\">*{stroke-linejoin: round; stroke-linecap: butt}</style>\n </defs>\n <g id=\"figure_1\">\n  <g id=\"patch_1\">\n   <path d=\"M 0 281.634375 \nL 497.38125 281.634375 \nL 497.38125 0 \nL 0 0 \nz\n\" style=\"fill: #ffffff\"/>\n  </g>\n  <g id=\"axes_1\">\n   <g id=\"patch_2\">\n    <path d=\"M 43.78125 244.078125 \nL 490.18125 244.078125 \nL 490.18125 22.318125 \nL 43.78125 22.318125 \nz\n\" style=\"fill: #eaeaf2\"/>\n   </g>\n   <g id=\"matplotlib.axis_1\">\n    <g id=\"xtick_1\">\n     <g id=\"text_1\">\n      <!-- 0 -->\n      <g style=\"fill: #262626\" transform=\"translate(60.890909 258.676562) scale(0.1 -0.1)\">\n       <defs>\n        <path id=\"DejaVuSans-30\" d=\"M 2034 4250 \nQ 1547 4250 1301 3770 \nQ 1056 3291 1056 2328 \nQ 1056 1369 1301 889 \nQ 1547 409 2034 409 \nQ 2525 409 2770 889 \nQ 3016 1369 3016 2328 \nQ 3016 3291 2770 3770 \nQ 2525 4250 2034 4250 \nz\nM 2034 4750 \nQ 2819 4750 3233 4129 \nQ 3647 3509 3647 2328 \nQ 3647 1150 3233 529 \nQ 2819 -91 2034 -91 \nQ 1250 -91 836 529 \nQ 422 1150 422 2328 \nQ 422 3509 836 4129 \nQ 1250 4750 2034 4750 \nz\n\" transform=\"scale(0.015625)\"/>\n       </defs>\n       <use xlink:href=\"#DejaVuSans-30\"/>\n      </g>\n     </g>\n    </g>\n    <g id=\"xtick_2\">\n     <g id=\"text_2\">\n      <!-- 2 -->\n      <g style=\"fill: #262626\" transform=\"translate(151.072727 258.676562) scale(0.1 -0.1)\">\n       <defs>\n        <path id=\"DejaVuSans-32\" d=\"M 1228 531 \nL 3431 531 \nL 3431 0 \nL 469 0 \nL 469 531 \nQ 828 903 1448 1529 \nQ 2069 2156 2228 2338 \nQ 2531 2678 2651 2914 \nQ 2772 3150 2772 3378 \nQ 2772 3750 2511 3984 \nQ 2250 4219 1831 4219 \nQ 1534 4219 1204 4116 \nQ 875 4013 500 3803 \nL 500 4441 \nQ 881 4594 1212 4672 \nQ 1544 4750 1819 4750 \nQ 2544 4750 2975 4387 \nQ 3406 4025 3406 3419 \nQ 3406 3131 3298 2873 \nQ 3191 2616 2906 2266 \nQ 2828 2175 2409 1742 \nQ 1991 1309 1228 531 \nz\n\" transform=\"scale(0.015625)\"/>\n       </defs>\n       <use xlink:href=\"#DejaVuSans-32\"/>\n      </g>\n     </g>\n    </g>\n    <g id=\"xtick_3\">\n     <g id=\"text_3\">\n      <!-- 4 -->\n      <g style=\"fill: #262626\" transform=\"translate(241.254545 258.676562) scale(0.1 -0.1)\">\n       <defs>\n        <path id=\"DejaVuSans-34\" d=\"M 2419 4116 \nL 825 1625 \nL 2419 1625 \nL 2419 4116 \nz\nM 2253 4666 \nL 3047 4666 \nL 3047 1625 \nL 3713 1625 \nL 3713 1100 \nL 3047 1100 \nL 3047 0 \nL 2419 0 \nL 2419 1100 \nL 313 1100 \nL 313 1709 \nL 2253 4666 \nz\n\" transform=\"scale(0.015625)\"/>\n       </defs>\n       <use xlink:href=\"#DejaVuSans-34\"/>\n      </g>\n     </g>\n    </g>\n    <g id=\"xtick_4\">\n     <g id=\"text_4\">\n      <!-- 6 -->\n      <g style=\"fill: #262626\" transform=\"translate(331.436364 258.676562) scale(0.1 -0.1)\">\n       <defs>\n        <path id=\"DejaVuSans-36\" d=\"M 2113 2584 \nQ 1688 2584 1439 2293 \nQ 1191 2003 1191 1497 \nQ 1191 994 1439 701 \nQ 1688 409 2113 409 \nQ 2538 409 2786 701 \nQ 3034 994 3034 1497 \nQ 3034 2003 2786 2293 \nQ 2538 2584 2113 2584 \nz\nM 3366 4563 \nL 3366 3988 \nQ 3128 4100 2886 4159 \nQ 2644 4219 2406 4219 \nQ 1781 4219 1451 3797 \nQ 1122 3375 1075 2522 \nQ 1259 2794 1537 2939 \nQ 1816 3084 2150 3084 \nQ 2853 3084 3261 2657 \nQ 3669 2231 3669 1497 \nQ 3669 778 3244 343 \nQ 2819 -91 2113 -91 \nQ 1303 -91 875 529 \nQ 447 1150 447 2328 \nQ 447 3434 972 4092 \nQ 1497 4750 2381 4750 \nQ 2619 4750 2861 4703 \nQ 3103 4656 3366 4563 \nz\n\" transform=\"scale(0.015625)\"/>\n       </defs>\n       <use xlink:href=\"#DejaVuSans-36\"/>\n      </g>\n     </g>\n    </g>\n    <g id=\"xtick_5\">\n     <g id=\"text_5\">\n      <!-- 8 -->\n      <g style=\"fill: #262626\" transform=\"translate(421.618182 258.676562) scale(0.1 -0.1)\">\n       <defs>\n        <path id=\"DejaVuSans-38\" d=\"M 2034 2216 \nQ 1584 2216 1326 1975 \nQ 1069 1734 1069 1313 \nQ 1069 891 1326 650 \nQ 1584 409 2034 409 \nQ 2484 409 2743 651 \nQ 3003 894 3003 1313 \nQ 3003 1734 2745 1975 \nQ 2488 2216 2034 2216 \nz\nM 1403 2484 \nQ 997 2584 770 2862 \nQ 544 3141 544 3541 \nQ 544 4100 942 4425 \nQ 1341 4750 2034 4750 \nQ 2731 4750 3128 4425 \nQ 3525 4100 3525 3541 \nQ 3525 3141 3298 2862 \nQ 3072 2584 2669 2484 \nQ 3125 2378 3379 2068 \nQ 3634 1759 3634 1313 \nQ 3634 634 3220 271 \nQ 2806 -91 2034 -91 \nQ 1263 -91 848 271 \nQ 434 634 434 1313 \nQ 434 1759 690 2068 \nQ 947 2378 1403 2484 \nz\nM 1172 3481 \nQ 1172 3119 1398 2916 \nQ 1625 2713 2034 2713 \nQ 2441 2713 2670 2916 \nQ 2900 3119 2900 3481 \nQ 2900 3844 2670 4047 \nQ 2441 4250 2034 4250 \nQ 1625 4250 1398 4047 \nQ 1172 3844 1172 3481 \nz\n\" transform=\"scale(0.015625)\"/>\n       </defs>\n       <use xlink:href=\"#DejaVuSans-38\"/>\n      </g>\n     </g>\n    </g>\n    <g id=\"text_6\">\n     <!-- Epoch -->\n     <g style=\"fill: #262626\" transform=\"translate(251.670312 272.354687) scale(0.1 -0.1)\">\n      <defs>\n       <path id=\"DejaVuSans-45\" d=\"M 628 4666 \nL 3578 4666 \nL 3578 4134 \nL 1259 4134 \nL 1259 2753 \nL 3481 2753 \nL 3481 2222 \nL 1259 2222 \nL 1259 531 \nL 3634 531 \nL 3634 0 \nL 628 0 \nL 628 4666 \nz\n\" transform=\"scale(0.015625)\"/>\n       <path id=\"DejaVuSans-70\" d=\"M 1159 525 \nL 1159 -1331 \nL 581 -1331 \nL 581 3500 \nL 1159 3500 \nL 1159 2969 \nQ 1341 3281 1617 3432 \nQ 1894 3584 2278 3584 \nQ 2916 3584 3314 3078 \nQ 3713 2572 3713 1747 \nQ 3713 922 3314 415 \nQ 2916 -91 2278 -91 \nQ 1894 -91 1617 61 \nQ 1341 213 1159 525 \nz\nM 3116 1747 \nQ 3116 2381 2855 2742 \nQ 2594 3103 2138 3103 \nQ 1681 3103 1420 2742 \nQ 1159 2381 1159 1747 \nQ 1159 1113 1420 752 \nQ 1681 391 2138 391 \nQ 2594 391 2855 752 \nQ 3116 1113 3116 1747 \nz\n\" transform=\"scale(0.015625)\"/>\n       <path id=\"DejaVuSans-6f\" d=\"M 1959 3097 \nQ 1497 3097 1228 2736 \nQ 959 2375 959 1747 \nQ 959 1119 1226 758 \nQ 1494 397 1959 397 \nQ 2419 397 2687 759 \nQ 2956 1122 2956 1747 \nQ 2956 2369 2687 2733 \nQ 2419 3097 1959 3097 \nz\nM 1959 3584 \nQ 2709 3584 3137 3096 \nQ 3566 2609 3566 1747 \nQ 3566 888 3137 398 \nQ 2709 -91 1959 -91 \nQ 1206 -91 779 398 \nQ 353 888 353 1747 \nQ 353 2609 779 3096 \nQ 1206 3584 1959 3584 \nz\n\" transform=\"scale(0.015625)\"/>\n       <path id=\"DejaVuSans-63\" d=\"M 3122 3366 \nL 3122 2828 \nQ 2878 2963 2633 3030 \nQ 2388 3097 2138 3097 \nQ 1578 3097 1268 2742 \nQ 959 2388 959 1747 \nQ 959 1106 1268 751 \nQ 1578 397 2138 397 \nQ 2388 397 2633 464 \nQ 2878 531 3122 666 \nL 3122 134 \nQ 2881 22 2623 -34 \nQ 2366 -91 2075 -91 \nQ 1284 -91 818 406 \nQ 353 903 353 1747 \nQ 353 2603 823 3093 \nQ 1294 3584 2113 3584 \nQ 2378 3584 2631 3529 \nQ 2884 3475 3122 3366 \nz\n\" transform=\"scale(0.015625)\"/>\n       <path id=\"DejaVuSans-68\" d=\"M 3513 2113 \nL 3513 0 \nL 2938 0 \nL 2938 2094 \nQ 2938 2591 2744 2837 \nQ 2550 3084 2163 3084 \nQ 1697 3084 1428 2787 \nQ 1159 2491 1159 1978 \nL 1159 0 \nL 581 0 \nL 581 4863 \nL 1159 4863 \nL 1159 2956 \nQ 1366 3272 1645 3428 \nQ 1925 3584 2291 3584 \nQ 2894 3584 3203 3211 \nQ 3513 2838 3513 2113 \nz\n\" transform=\"scale(0.015625)\"/>\n      </defs>\n      <use xlink:href=\"#DejaVuSans-45\"/>\n      <use xlink:href=\"#DejaVuSans-70\" x=\"63.183594\"/>\n      <use xlink:href=\"#DejaVuSans-6f\" x=\"126.660156\"/>\n      <use xlink:href=\"#DejaVuSans-63\" x=\"187.841797\"/>\n      <use xlink:href=\"#DejaVuSans-68\" x=\"242.822266\"/>\n     </g>\n    </g>\n   </g>\n   <g id=\"matplotlib.axis_2\">\n    <g id=\"ytick_1\">\n     <g id=\"text_7\">\n      <!-- 0.4 -->\n      <g style=\"fill: #262626\" transform=\"translate(20.878125 220.960653) scale(0.1 -0.1)\">\n       <defs>\n        <path id=\"DejaVuSans-2e\" d=\"M 684 794 \nL 1344 794 \nL 1344 0 \nL 684 0 \nL 684 794 \nz\n\" transform=\"scale(0.015625)\"/>\n       </defs>\n       <use xlink:href=\"#DejaVuSans-30\"/>\n       <use xlink:href=\"#DejaVuSans-2e\" x=\"63.623047\"/>\n       <use xlink:href=\"#DejaVuSans-34\" x=\"95.410156\"/>\n      </g>\n     </g>\n    </g>\n    <g id=\"ytick_2\">\n     <g id=\"text_8\">\n      <!-- 0.6 -->\n      <g style=\"fill: #262626\" transform=\"translate(20.878125 173.641092) scale(0.1 -0.1)\">\n       <use xlink:href=\"#DejaVuSans-30\"/>\n       <use xlink:href=\"#DejaVuSans-2e\" x=\"63.623047\"/>\n       <use xlink:href=\"#DejaVuSans-36\" x=\"95.410156\"/>\n      </g>\n     </g>\n    </g>\n    <g id=\"ytick_3\">\n     <g id=\"text_9\">\n      <!-- 0.8 -->\n      <g style=\"fill: #262626\" transform=\"translate(20.878125 126.321532) scale(0.1 -0.1)\">\n       <use xlink:href=\"#DejaVuSans-30\"/>\n       <use xlink:href=\"#DejaVuSans-2e\" x=\"63.623047\"/>\n       <use xlink:href=\"#DejaVuSans-38\" x=\"95.410156\"/>\n      </g>\n     </g>\n    </g>\n    <g id=\"ytick_4\">\n     <g id=\"text_10\">\n      <!-- 1.0 -->\n      <g style=\"fill: #262626\" transform=\"translate(20.878125 79.001971) scale(0.1 -0.1)\">\n       <defs>\n        <path id=\"DejaVuSans-31\" d=\"M 794 531 \nL 1825 531 \nL 1825 4091 \nL 703 3866 \nL 703 4441 \nL 1819 4666 \nL 2450 4666 \nL 2450 531 \nL 3481 531 \nL 3481 0 \nL 794 0 \nL 794 531 \nz\n\" transform=\"scale(0.015625)\"/>\n       </defs>\n       <use xlink:href=\"#DejaVuSans-31\"/>\n       <use xlink:href=\"#DejaVuSans-2e\" x=\"63.623047\"/>\n       <use xlink:href=\"#DejaVuSans-30\" x=\"95.410156\"/>\n      </g>\n     </g>\n    </g>\n    <g id=\"ytick_5\">\n     <g id=\"text_11\">\n      <!-- 1.2 -->\n      <g style=\"fill: #262626\" transform=\"translate(20.878125 31.68241) scale(0.1 -0.1)\">\n       <use xlink:href=\"#DejaVuSans-31\"/>\n       <use xlink:href=\"#DejaVuSans-2e\" x=\"63.623047\"/>\n       <use xlink:href=\"#DejaVuSans-32\" x=\"95.410156\"/>\n      </g>\n     </g>\n    </g>\n    <g id=\"text_12\">\n     <!-- Loss -->\n     <g style=\"fill: #262626\" transform=\"translate(14.798438 144.165312) rotate(-90) scale(0.1 -0.1)\">\n      <defs>\n       <path id=\"DejaVuSans-4c\" d=\"M 628 4666 \nL 1259 4666 \nL 1259 531 \nL 3531 531 \nL 3531 0 \nL 628 0 \nL 628 4666 \nz\n\" transform=\"scale(0.015625)\"/>\n       <path id=\"DejaVuSans-73\" d=\"M 2834 3397 \nL 2834 2853 \nQ 2591 2978 2328 3040 \nQ 2066 3103 1784 3103 \nQ 1356 3103 1142 2972 \nQ 928 2841 928 2578 \nQ 928 2378 1081 2264 \nQ 1234 2150 1697 2047 \nL 1894 2003 \nQ 2506 1872 2764 1633 \nQ 3022 1394 3022 966 \nQ 3022 478 2636 193 \nQ 2250 -91 1575 -91 \nQ 1294 -91 989 -36 \nQ 684 19 347 128 \nL 347 722 \nQ 666 556 975 473 \nQ 1284 391 1588 391 \nQ 1994 391 2212 530 \nQ 2431 669 2431 922 \nQ 2431 1156 2273 1281 \nQ 2116 1406 1581 1522 \nL 1381 1569 \nQ 847 1681 609 1914 \nQ 372 2147 372 2553 \nQ 372 3047 722 3315 \nQ 1072 3584 1716 3584 \nQ 2034 3584 2315 3537 \nQ 2597 3491 2834 3397 \nz\n\" transform=\"scale(0.015625)\"/>\n      </defs>\n      <use xlink:href=\"#DejaVuSans-4c\"/>\n      <use xlink:href=\"#DejaVuSans-6f\" x=\"53.962891\"/>\n      <use xlink:href=\"#DejaVuSans-73\" x=\"115.144531\"/>\n      <use xlink:href=\"#DejaVuSans-73\" x=\"167.244141\"/>\n     </g>\n    </g>\n   </g>\n   <g id=\"line2d_1\">\n    <path d=\"M 64.072159 32.398125 \nL 109.163068 142.049056 \nL 154.253977 141.528342 \nL 199.344886 133.235792 \nL 244.435795 123.516045 \nL 289.526705 230.426964 \nL 334.617614 161.295068 \nL 379.708523 231.600454 \nL 424.799432 233.998125 \nL 469.890341 222.657216 \n\" clip-path=\"url(#p15fc13e7b4)\" style=\"fill: none; stroke: #1f77b4; stroke-width: 1.5; stroke-linecap: round\"/>\n   </g>\n   <g id=\"line2d_2\">\n    <path d=\"M 64.072159 75.699007 \nL 109.163068 130.269485 \nL 154.253977 133.34971 \nL 199.344886 134.358563 \nL 244.435795 131.199493 \nL 289.526705 129.528934 \nL 334.617614 126.740596 \nL 379.708523 127.515375 \nL 424.799432 125.655023 \nL 469.890341 124.65554 \n\" clip-path=\"url(#p15fc13e7b4)\" style=\"fill: none; stroke: #ff7f0e; stroke-width: 1.5; stroke-linecap: round\"/>\n   </g>\n   <g id=\"patch_3\">\n    <path d=\"M 43.78125 244.078125 \nL 43.78125 22.318125 \n\" style=\"fill: none; stroke: #ffffff; stroke-width: 0.8; stroke-linejoin: miter; stroke-linecap: square\"/>\n   </g>\n   <g id=\"patch_4\">\n    <path d=\"M 490.18125 244.078125 \nL 490.18125 22.318125 \n\" style=\"fill: none; stroke: #ffffff; stroke-width: 0.8; stroke-linejoin: miter; stroke-linecap: square\"/>\n   </g>\n   <g id=\"patch_5\">\n    <path d=\"M 43.78125 244.078125 \nL 490.18125 244.078125 \n\" style=\"fill: none; stroke: #ffffff; stroke-width: 0.8; stroke-linejoin: miter; stroke-linecap: square\"/>\n   </g>\n   <g id=\"patch_6\">\n    <path d=\"M 43.78125 22.318125 \nL 490.18125 22.318125 \n\" style=\"fill: none; stroke: #ffffff; stroke-width: 0.8; stroke-linejoin: miter; stroke-linecap: square\"/>\n   </g>\n   <g id=\"text_13\">\n    <!-- Loss vs Epoch -->\n    <g style=\"fill: #262626\" transform=\"translate(224.956875 16.318125) scale(0.12 -0.12)\">\n     <defs>\n      <path id=\"DejaVuSans-20\" transform=\"scale(0.015625)\"/>\n      <path id=\"DejaVuSans-76\" d=\"M 191 3500 \nL 800 3500 \nL 1894 563 \nL 2988 3500 \nL 3597 3500 \nL 2284 0 \nL 1503 0 \nL 191 3500 \nz\n\" transform=\"scale(0.015625)\"/>\n     </defs>\n     <use xlink:href=\"#DejaVuSans-4c\"/>\n     <use xlink:href=\"#DejaVuSans-6f\" x=\"53.962891\"/>\n     <use xlink:href=\"#DejaVuSans-73\" x=\"115.144531\"/>\n     <use xlink:href=\"#DejaVuSans-73\" x=\"167.244141\"/>\n     <use xlink:href=\"#DejaVuSans-20\" x=\"219.34375\"/>\n     <use xlink:href=\"#DejaVuSans-76\" x=\"251.130859\"/>\n     <use xlink:href=\"#DejaVuSans-73\" x=\"310.310547\"/>\n     <use xlink:href=\"#DejaVuSans-20\" x=\"362.410156\"/>\n     <use xlink:href=\"#DejaVuSans-45\" x=\"394.197266\"/>\n     <use xlink:href=\"#DejaVuSans-70\" x=\"457.380859\"/>\n     <use xlink:href=\"#DejaVuSans-6f\" x=\"520.857422\"/>\n     <use xlink:href=\"#DejaVuSans-63\" x=\"582.039062\"/>\n     <use xlink:href=\"#DejaVuSans-68\" x=\"637.019531\"/>\n    </g>\n   </g>\n   <g id=\"legend_1\">\n    <g id=\"patch_7\">\n     <path d=\"M 427.19375 59.674375 \nL 483.18125 59.674375 \nQ 485.18125 59.674375 485.18125 57.674375 \nL 485.18125 29.318125 \nQ 485.18125 27.318125 483.18125 27.318125 \nL 427.19375 27.318125 \nQ 425.19375 27.318125 425.19375 29.318125 \nL 425.19375 57.674375 \nQ 425.19375 59.674375 427.19375 59.674375 \nz\n\" style=\"fill: #eaeaf2; opacity: 0.8; stroke: #cccccc; stroke-linejoin: miter\"/>\n    </g>\n    <g id=\"line2d_3\">\n     <path d=\"M 429.19375 35.416562 \nL 439.19375 35.416562 \nL 449.19375 35.416562 \n\" style=\"fill: none; stroke: #1f77b4; stroke-width: 1.5; stroke-linecap: round\"/>\n    </g>\n    <g id=\"text_14\">\n     <!-- Train -->\n     <g style=\"fill: #262626\" transform=\"translate(457.19375 38.916562) scale(0.1 -0.1)\">\n      <defs>\n       <path id=\"DejaVuSans-54\" d=\"M -19 4666 \nL 3928 4666 \nL 3928 4134 \nL 2272 4134 \nL 2272 0 \nL 1638 0 \nL 1638 4134 \nL -19 4134 \nL -19 4666 \nz\n\" transform=\"scale(0.015625)\"/>\n       <path id=\"DejaVuSans-72\" d=\"M 2631 2963 \nQ 2534 3019 2420 3045 \nQ 2306 3072 2169 3072 \nQ 1681 3072 1420 2755 \nQ 1159 2438 1159 1844 \nL 1159 0 \nL 581 0 \nL 581 3500 \nL 1159 3500 \nL 1159 2956 \nQ 1341 3275 1631 3429 \nQ 1922 3584 2338 3584 \nQ 2397 3584 2469 3576 \nQ 2541 3569 2628 3553 \nL 2631 2963 \nz\n\" transform=\"scale(0.015625)\"/>\n       <path id=\"DejaVuSans-61\" d=\"M 2194 1759 \nQ 1497 1759 1228 1600 \nQ 959 1441 959 1056 \nQ 959 750 1161 570 \nQ 1363 391 1709 391 \nQ 2188 391 2477 730 \nQ 2766 1069 2766 1631 \nL 2766 1759 \nL 2194 1759 \nz\nM 3341 1997 \nL 3341 0 \nL 2766 0 \nL 2766 531 \nQ 2569 213 2275 61 \nQ 1981 -91 1556 -91 \nQ 1019 -91 701 211 \nQ 384 513 384 1019 \nQ 384 1609 779 1909 \nQ 1175 2209 1959 2209 \nL 2766 2209 \nL 2766 2266 \nQ 2766 2663 2505 2880 \nQ 2244 3097 1772 3097 \nQ 1472 3097 1187 3025 \nQ 903 2953 641 2809 \nL 641 3341 \nQ 956 3463 1253 3523 \nQ 1550 3584 1831 3584 \nQ 2591 3584 2966 3190 \nQ 3341 2797 3341 1997 \nz\n\" transform=\"scale(0.015625)\"/>\n       <path id=\"DejaVuSans-69\" d=\"M 603 3500 \nL 1178 3500 \nL 1178 0 \nL 603 0 \nL 603 3500 \nz\nM 603 4863 \nL 1178 4863 \nL 1178 4134 \nL 603 4134 \nL 603 4863 \nz\n\" transform=\"scale(0.015625)\"/>\n       <path id=\"DejaVuSans-6e\" d=\"M 3513 2113 \nL 3513 0 \nL 2938 0 \nL 2938 2094 \nQ 2938 2591 2744 2837 \nQ 2550 3084 2163 3084 \nQ 1697 3084 1428 2787 \nQ 1159 2491 1159 1978 \nL 1159 0 \nL 581 0 \nL 581 3500 \nL 1159 3500 \nL 1159 2956 \nQ 1366 3272 1645 3428 \nQ 1925 3584 2291 3584 \nQ 2894 3584 3203 3211 \nQ 3513 2838 3513 2113 \nz\n\" transform=\"scale(0.015625)\"/>\n      </defs>\n      <use xlink:href=\"#DejaVuSans-54\"/>\n      <use xlink:href=\"#DejaVuSans-72\" x=\"46.333984\"/>\n      <use xlink:href=\"#DejaVuSans-61\" x=\"87.447266\"/>\n      <use xlink:href=\"#DejaVuSans-69\" x=\"148.726562\"/>\n      <use xlink:href=\"#DejaVuSans-6e\" x=\"176.509766\"/>\n     </g>\n    </g>\n    <g id=\"line2d_4\">\n     <path d=\"M 429.19375 50.094687 \nL 439.19375 50.094687 \nL 449.19375 50.094687 \n\" style=\"fill: none; stroke: #ff7f0e; stroke-width: 1.5; stroke-linecap: round\"/>\n    </g>\n    <g id=\"text_15\">\n     <!-- Val -->\n     <g style=\"fill: #262626\" transform=\"translate(457.19375 53.594687) scale(0.1 -0.1)\">\n      <defs>\n       <path id=\"DejaVuSans-56\" d=\"M 1831 0 \nL 50 4666 \nL 709 4666 \nL 2188 738 \nL 3669 4666 \nL 4325 4666 \nL 2547 0 \nL 1831 0 \nz\n\" transform=\"scale(0.015625)\"/>\n       <path id=\"DejaVuSans-6c\" d=\"M 603 4863 \nL 1178 4863 \nL 1178 0 \nL 603 0 \nL 603 4863 \nz\n\" transform=\"scale(0.015625)\"/>\n      </defs>\n      <use xlink:href=\"#DejaVuSans-56\"/>\n      <use xlink:href=\"#DejaVuSans-61\" x=\"60.658203\"/>\n      <use xlink:href=\"#DejaVuSans-6c\" x=\"121.9375\"/>\n     </g>\n    </g>\n   </g>\n  </g>\n </g>\n <defs>\n  <clipPath id=\"p15fc13e7b4\">\n   <rect x=\"43.78125\" y=\"22.318125\" width=\"446.4\" height=\"221.76\"/>\n  </clipPath>\n </defs>\n</svg>\n"
     },
     "metadata": {},
     "output_type": "display_data"
    }
   ],
   "execution_count": 33
  },
  {
   "metadata": {
    "ExecuteTime": {
     "end_time": "2024-05-03T12:18:25.794090Z",
     "start_time": "2024-05-03T12:18:25.789720Z"
    }
   },
   "cell_type": "code",
   "source": [
    "user_emb_min_w = model.user_emb.weight.min().item()\n",
    "user_emb_max_w = model.user_emb.weight.max().item()\n",
    "item_emb_min_w = model.item_emb.weight.min().item()\n",
    "item_emb_max_w = model.item_emb.weight.max().item()\n",
    "\n",
    "print(f'Emb user min/max w: {user_emb_min_w:0.3f} / {user_emb_max_w:0.3f}')\n",
    "print(f'Emb item min/max w: {item_emb_min_w:0.3f} / {item_emb_max_w:0.3f}')\n",
    "# print(f'Preds min/max: {y_ratings.min().item():0.2f} / {y_hat.max().item():0.2f}')\n",
    "# print(f'Rating min/max: {yRatings.min().item():0.2f} / {yRatings.max().item():0.2f}')\n",
    "# print(preds.detach().cpu().numpy()[:6])\n",
    "# print(y_ratings.detach().cpu().numpy()[:6])"
   ],
   "id": "dd4fd62d4a90fed3",
   "outputs": [
    {
     "name": "stdout",
     "output_type": "stream",
     "text": [
      "Emb user min/max w: -0.763 / 1.050\n",
      "Emb item min/max w: -0.628 / 1.169\n"
     ]
    }
   ],
   "execution_count": 34
  },
  {
   "metadata": {
    "ExecuteTime": {
     "end_time": "2024-05-03T12:18:25.799827Z",
     "start_time": "2024-05-03T12:18:25.795107Z"
    }
   },
   "cell_type": "code",
   "source": "model.user_emb.weight.shape, model.item_emb.weight.shape",
   "id": "876bcd6b995a32bd",
   "outputs": [
    {
     "data": {
      "text/plain": [
       "(torch.Size([610, 32]), torch.Size([9724, 32]))"
      ]
     },
     "execution_count": 35,
     "metadata": {},
     "output_type": "execute_result"
    }
   ],
   "execution_count": 35
  },
  {
   "metadata": {
    "ExecuteTime": {
     "end_time": "2024-05-03T12:18:25.805175Z",
     "start_time": "2024-05-03T12:18:25.800772Z"
    }
   },
   "cell_type": "code",
   "source": "model.user_emb.weight[1]",
   "id": "b46c7ab94e16df39",
   "outputs": [
    {
     "data": {
      "text/plain": [
       "tensor([0.3251, 0.5045, 0.4312, 0.3663, 0.2252, 0.1871, 0.2328, 0.5537, 0.0845,\n",
       "        0.1711, 0.3508, 0.6339, 0.4603, 0.1875, 0.3583, 0.3375, 0.3947, 0.1518,\n",
       "        0.2339, 0.2703, 0.1948, 0.4635, 0.6455, 0.4814, 0.1350, 0.4042, 0.2439,\n",
       "        0.2064, 0.5512, 0.1908, 0.3486, 0.2809], grad_fn=<SelectBackward0>)"
      ]
     },
     "execution_count": 36,
     "metadata": {},
     "output_type": "execute_result"
    }
   ],
   "execution_count": 36
  },
  {
   "metadata": {
    "ExecuteTime": {
     "end_time": "2024-05-03T12:18:25.867633Z",
     "start_time": "2024-05-03T12:18:25.806125Z"
    }
   },
   "cell_type": "code",
   "source": [
    "matrix = ml.get_matrix()\n",
    "matrix.shape"
   ],
   "id": "4ae130f66bb9a70d",
   "outputs": [
    {
     "data": {
      "text/plain": [
       "(610, 9724)"
      ]
     },
     "execution_count": 37,
     "metadata": {},
     "output_type": "execute_result"
    }
   ],
   "execution_count": 37
  },
  {
   "metadata": {
    "ExecuteTime": {
     "end_time": "2024-05-03T12:18:25.873002Z",
     "start_time": "2024-05-03T12:18:25.869294Z"
    }
   },
   "cell_type": "code",
   "source": "user_ids, item_ids = ml.get_ids()",
   "id": "b064658a5aca6472",
   "outputs": [
    {
     "name": "stdout",
     "output_type": "stream",
     "text": [
      "<class 'numpy.ndarray'>\n"
     ]
    }
   ],
   "execution_count": 38
  },
  {
   "metadata": {
    "ExecuteTime": {
     "end_time": "2024-05-03T12:20:30.589508Z",
     "start_time": "2024-05-03T12:20:30.546488Z"
    }
   },
   "cell_type": "code",
   "source": [
    "rec_sys = RecSys(model, matrix, user_ids, item_ids, device)\n",
    "index, value = rec_sys.make_recommendations(2)\n"
   ],
   "id": "68e4fd9fd6b78707",
   "outputs": [
    {
     "ename": "IndexError",
     "evalue": "The shape of the mask [9724] at index 0 does not match the shape of the indexed tensor [5] at index 0",
     "output_type": "error",
     "traceback": [
      "\u001B[0;31m---------------------------------------------------------------------------\u001B[0m",
      "\u001B[0;31mIndexError\u001B[0m                                Traceback (most recent call last)",
      "Cell \u001B[0;32mIn[49], line 2\u001B[0m\n\u001B[1;32m      1\u001B[0m rec_sys \u001B[38;5;241m=\u001B[39m RecSys(model, matrix, user_ids, item_ids, device)\n\u001B[0;32m----> 2\u001B[0m index, value \u001B[38;5;241m=\u001B[39m \u001B[43mrec_sys\u001B[49m\u001B[38;5;241;43m.\u001B[39;49m\u001B[43mmake_recommendations\u001B[49m\u001B[43m(\u001B[49m\u001B[38;5;241;43m2\u001B[39;49m\u001B[43m)\u001B[49m\n",
      "File \u001B[0;32m~/PycharmProjects/Rec_Sys/rec_sys/recsys.py:37\u001B[0m, in \u001B[0;36mRecSys.make_recommendations\u001B[0;34m(self, user_id, n)\u001B[0m\n\u001B[1;32m     34\u001B[0m all_predictions[user_ratings \u001B[38;5;241m!=\u001B[39m \u001B[38;5;241m0\u001B[39m] \u001B[38;5;241m=\u001B[39m \u001B[38;5;241m0\u001B[39m\n\u001B[1;32m     36\u001B[0m \u001B[38;5;66;03m# Get indices of top-N predictions\u001B[39;00m\n\u001B[0;32m---> 37\u001B[0m top_n_indices \u001B[38;5;241m=\u001B[39m torch\u001B[38;5;241m.\u001B[39mtopk(all_predictions, n)\u001B[38;5;241m.\u001B[39mindices\u001B[38;5;241m.\u001B[39mcpu()\u001B[38;5;241m.\u001B[39mnumpy()\n\u001B[1;32m     39\u001B[0m \u001B[38;5;66;03m# Map indices to item IDs\u001B[39;00m\n\u001B[1;32m     40\u001B[0m top_n_items \u001B[38;5;241m=\u001B[39m [\u001B[38;5;28mself\u001B[39m\u001B[38;5;241m.\u001B[39mitem_ids[i] \u001B[38;5;28;01mfor\u001B[39;00m i \u001B[38;5;129;01min\u001B[39;00m top_n_indices]\n",
      "\u001B[0;31mIndexError\u001B[0m: The shape of the mask [9724] at index 0 does not match the shape of the indexed tensor [5] at index 0"
     ]
    }
   ],
   "execution_count": 49
  },
  {
   "metadata": {
    "ExecuteTime": {
     "end_time": "2024-05-03T12:20:30.859908Z",
     "start_time": "2024-05-03T12:20:30.855807Z"
    }
   },
   "cell_type": "code",
   "source": "index, value\n",
   "id": "c8975182ecc1e3a0",
   "outputs": [
    {
     "data": {
      "text/plain": [
       "([2579, 840, 9600, 2409, 948, 917, 680, 905, 4390, 882],\n",
       " array([0.9790714 , 0.97753316, 0.97745866, 0.97686654, 0.97670615,\n",
       "        0.9759822 , 0.9759319 , 0.97586846, 0.9757331 , 0.9752144 ],\n",
       "       dtype=float32))"
      ]
     },
     "execution_count": 50,
     "metadata": {},
     "output_type": "execute_result"
    }
   ],
   "execution_count": 50
  },
  {
   "metadata": {
    "ExecuteTime": {
     "end_time": "2024-05-03T12:20:31.501530Z",
     "start_time": "2024-05-03T12:20:31.498864Z"
    }
   },
   "cell_type": "code",
   "source": "# matrix[matrix.iloc[1]==1].reset_index()",
   "id": "5e467b55f5771fe",
   "outputs": [],
   "execution_count": 51
  },
  {
   "metadata": {
    "ExecuteTime": {
     "end_time": "2024-05-03T12:20:31.944582Z",
     "start_time": "2024-05-03T12:20:31.941879Z"
    }
   },
   "cell_type": "code",
   "source": "help(torch.topk)",
   "id": "605e9e83b97f97bc",
   "outputs": [
    {
     "name": "stdout",
     "output_type": "stream",
     "text": [
      "Help on built-in function topk in module torch:\n",
      "\n",
      "topk(...)\n",
      "    topk(input, k, dim=None, largest=True, sorted=True, *, out=None) -> (Tensor, LongTensor)\n",
      "    \n",
      "    Returns the :attr:`k` largest elements of the given :attr:`input` tensor along\n",
      "    a given dimension.\n",
      "    \n",
      "    If :attr:`dim` is not given, the last dimension of the `input` is chosen.\n",
      "    \n",
      "    If :attr:`largest` is ``False`` then the `k` smallest elements are returned.\n",
      "    \n",
      "    A namedtuple of `(values, indices)` is returned with the `values` and\n",
      "    `indices` of the largest `k` elements of each row of the `input` tensor in the\n",
      "    given dimension `dim`.\n",
      "    \n",
      "    The boolean option :attr:`sorted` if ``True``, will make sure that the returned\n",
      "    `k` elements are themselves sorted\n",
      "    \n",
      "    Args:\n",
      "        input (Tensor): the input tensor.\n",
      "        k (int): the k in \"top-k\"\n",
      "        dim (int, optional): the dimension to sort along\n",
      "        largest (bool, optional): controls whether to return largest or\n",
      "               smallest elements\n",
      "        sorted (bool, optional): controls whether to return the elements\n",
      "               in sorted order\n",
      "    \n",
      "    Keyword args:\n",
      "        out (tuple, optional): the output tuple of (Tensor, LongTensor) that can be\n",
      "            optionally given to be used as output buffers\n",
      "    \n",
      "    Example::\n",
      "    \n",
      "        >>> x = torch.arange(1., 6.)\n",
      "        >>> x\n",
      "        tensor([ 1.,  2.,  3.,  4.,  5.])\n",
      "        >>> torch.topk(x, 3)\n",
      "        torch.return_types.topk(values=tensor([5., 4., 3.]), indices=tensor([4, 3, 2]))\n",
      "\n"
     ]
    }
   ],
   "execution_count": 52
  },
  {
   "metadata": {
    "ExecuteTime": {
     "end_time": "2024-05-03T12:18:25.920281Z",
     "start_time": "2024-05-03T12:18:25.910766Z"
    }
   },
   "cell_type": "code",
   "source": [
    "user_input = torch.full((len(item_ids),), 2, dtype=torch.long)\n",
    "item_input = torch.tensor(item_ids, dtype=torch.long)\n",
    "\n",
    "# Pass inputs through the model\n",
    "predictions = model(user_input, item_input)\n",
    "\n",
    "# Apply sigmoid function to predictions if necessary\n",
    "# predictions = torch.sigmoid(predictions)\n",
    "\n",
    "# Convert predictions to numpy array\n",
    "predictions = predictions.detach().cpu().numpy()\n",
    "\n",
    "predictions"
   ],
   "id": "7993d82d79f2743a",
   "outputs": [
    {
     "data": {
      "text/plain": [
       "array([2.407902 , 1.8394685, 2.5805097, ..., 1.9264336, 2.2675068,\n",
       "       1.9119766], dtype=float32)"
      ]
     },
     "execution_count": 43,
     "metadata": {},
     "output_type": "execute_result"
    }
   ],
   "execution_count": 43
  },
  {
   "metadata": {
    "ExecuteTime": {
     "end_time": "2024-05-03T12:18:25.925482Z",
     "start_time": "2024-05-03T12:18:25.921060Z"
    }
   },
   "cell_type": "code",
   "source": "matrix.iloc[2]",
   "id": "bd8fafb5a6dae461",
   "outputs": [
    {
     "data": {
      "text/plain": [
       "movieId\n",
       "0       0.0\n",
       "1       0.0\n",
       "2       0.0\n",
       "3       0.0\n",
       "4       0.0\n",
       "       ... \n",
       "9719    0.0\n",
       "9720    0.0\n",
       "9721    0.0\n",
       "9722    0.0\n",
       "9723    0.0\n",
       "Name: 2, Length: 9724, dtype: float64"
      ]
     },
     "execution_count": 44,
     "metadata": {},
     "output_type": "execute_result"
    }
   ],
   "execution_count": 44
  },
  {
   "metadata": {
    "ExecuteTime": {
     "end_time": "2024-05-03T12:19:52.406204Z",
     "start_time": "2024-05-03T12:19:52.390421Z"
    }
   },
   "cell_type": "code",
   "source": [
    "# Example usage:\n",
    "user_id = 10  # ID of the user for whom you want to get ratings\n",
    "item_ids = [1, 2, 3, 4, 5]  # IDs of the movies you want to get ratings for\n",
    "movie_names = {1: \"Movie 1\", 2: \"Movie 2\", 3: \"Movie 3\", 4: \"Movie 4\", 5: \"Movie 5\"}  # Example movie names\n",
    "user_ratings = rec_sys.make_rec(model, user_id, item_ids, movie_names, matrix)\n",
    "for rating in user_ratings:\n",
    "    print(\"Movie:\", rating['movie_name'])\n",
    "    print(\"Predicted Rating:\", rating['predicted_rating'])\n",
    "    print(\"Real Rating:\", rating['real_rating'])\n",
    "    print()"
   ],
   "id": "d673a7505586bdf0",
   "outputs": [
    {
     "ename": "AttributeError",
     "evalue": "'RecSys' object has no attribute 'make_rec'",
     "output_type": "error",
     "traceback": [
      "\u001B[0;31m---------------------------------------------------------------------------\u001B[0m",
      "\u001B[0;31mAttributeError\u001B[0m                            Traceback (most recent call last)",
      "Cell \u001B[0;32mIn[46], line 5\u001B[0m\n\u001B[1;32m      3\u001B[0m item_ids \u001B[38;5;241m=\u001B[39m [\u001B[38;5;241m1\u001B[39m, \u001B[38;5;241m2\u001B[39m, \u001B[38;5;241m3\u001B[39m, \u001B[38;5;241m4\u001B[39m, \u001B[38;5;241m5\u001B[39m]  \u001B[38;5;66;03m# IDs of the movies you want to get ratings for\u001B[39;00m\n\u001B[1;32m      4\u001B[0m movie_names \u001B[38;5;241m=\u001B[39m {\u001B[38;5;241m1\u001B[39m: \u001B[38;5;124m\"\u001B[39m\u001B[38;5;124mMovie 1\u001B[39m\u001B[38;5;124m\"\u001B[39m, \u001B[38;5;241m2\u001B[39m: \u001B[38;5;124m\"\u001B[39m\u001B[38;5;124mMovie 2\u001B[39m\u001B[38;5;124m\"\u001B[39m, \u001B[38;5;241m3\u001B[39m: \u001B[38;5;124m\"\u001B[39m\u001B[38;5;124mMovie 3\u001B[39m\u001B[38;5;124m\"\u001B[39m, \u001B[38;5;241m4\u001B[39m: \u001B[38;5;124m\"\u001B[39m\u001B[38;5;124mMovie 4\u001B[39m\u001B[38;5;124m\"\u001B[39m, \u001B[38;5;241m5\u001B[39m: \u001B[38;5;124m\"\u001B[39m\u001B[38;5;124mMovie 5\u001B[39m\u001B[38;5;124m\"\u001B[39m}  \u001B[38;5;66;03m# Example movie names\u001B[39;00m\n\u001B[0;32m----> 5\u001B[0m user_ratings \u001B[38;5;241m=\u001B[39m \u001B[43mrec_sys\u001B[49m\u001B[38;5;241;43m.\u001B[39;49m\u001B[43mmake_rec\u001B[49m(model, user_id, item_ids, movie_names, matrix)\n\u001B[1;32m      6\u001B[0m \u001B[38;5;28;01mfor\u001B[39;00m rating \u001B[38;5;129;01min\u001B[39;00m user_ratings:\n\u001B[1;32m      7\u001B[0m     \u001B[38;5;28mprint\u001B[39m(\u001B[38;5;124m\"\u001B[39m\u001B[38;5;124mMovie:\u001B[39m\u001B[38;5;124m\"\u001B[39m, rating[\u001B[38;5;124m'\u001B[39m\u001B[38;5;124mmovie_name\u001B[39m\u001B[38;5;124m'\u001B[39m])\n",
      "\u001B[0;31mAttributeError\u001B[0m: 'RecSys' object has no attribute 'make_rec'"
     ]
    }
   ],
   "execution_count": 46
  }
 ],
 "metadata": {
  "kernelspec": {
   "display_name": "Python 3",
   "language": "python",
   "name": "python3"
  },
  "language_info": {
   "codemirror_mode": {
    "name": "ipython",
    "version": 2
   },
   "file_extension": ".py",
   "mimetype": "text/x-python",
   "name": "python",
   "nbconvert_exporter": "python",
   "pygments_lexer": "ipython2",
   "version": "2.7.6"
  }
 },
 "nbformat": 4,
 "nbformat_minor": 5
}
