{
 "cells": [
  {
   "metadata": {
    "ExecuteTime": {
     "end_time": "2024-04-24T16:49:33.685158Z",
     "start_time": "2024-04-24T16:49:32.124470Z"
    }
   },
   "cell_type": "code",
   "source": [
    "import matplotlib.pyplot as plt\n",
    "import matplotlib_inline.backend_inline\n",
    "import numpy as np\n",
    "import pandas as pd\n",
    "import torch\n",
    "from collections import defaultdict\n",
    "from sklearn.cluster import KMeans\n",
    "from sklearn.metrics import f1_score, precision_score, recall_score\n",
    "from sklearn.preprocessing import StandardScaler, LabelEncoder\n",
    "from torch import nn, optim\n",
    "from torch.utils.data import TensorDataset, DataLoader\n",
    "from sklearn.model_selection import train_test_split\n",
    "\n",
    "matplotlib_inline.backend_inline.set_matplotlib_formats('svg')\n",
    "\n",
    "device = torch.device('cuda' if torch.cuda.is_available() else 'cpu')"
   ],
   "id": "a5c319ca0fcfad60",
   "outputs": [],
   "execution_count": 3
  },
  {
   "metadata": {
    "ExecuteTime": {
     "end_time": "2024-04-24T16:49:33.732021Z",
     "start_time": "2024-04-24T16:49:33.689176Z"
    }
   },
   "cell_type": "code",
   "source": [
    "df_ratings = pd.read_csv('/home/eduardoferreira/PycharmProjects/Rec_Sys/dataset/ml-latest-small/ratings.csv', sep=',')\n",
    "df_movies = pd.read_csv('/home/eduardoferreira/PycharmProjects/Rec_Sys/dataset/ml-latest-small//movies.csv')"
   ],
   "id": "eee7b40899e459bc",
   "outputs": [],
   "execution_count": 4
  },
  {
   "metadata": {
    "ExecuteTime": {
     "end_time": "2024-04-24T16:49:33.743613Z",
     "start_time": "2024-04-24T16:49:33.732954Z"
    }
   },
   "cell_type": "code",
   "source": "df_user_item = pd.merge(df_ratings, df_movies, on='movieId', how='inner')",
   "id": "b7ea23c65ccef7a6",
   "outputs": [],
   "execution_count": 5
  },
  {
   "metadata": {
    "ExecuteTime": {
     "end_time": "2024-04-24T16:49:33.758432Z",
     "start_time": "2024-04-24T16:49:33.744832Z"
    }
   },
   "cell_type": "code",
   "source": [
    "d = defaultdict(LabelEncoder)\n",
    "cols_cat = ['userId', 'movieId']\n",
    "for c in cols_cat:\n",
    "    d[c].fit(df_user_item[c].unique())\n",
    "    df_user_item[c] = d[c].transform(df_user_item[c])"
   ],
   "id": "d718cb6e272db585",
   "outputs": [],
   "execution_count": 6
  },
  {
   "metadata": {
    "ExecuteTime": {
     "end_time": "2024-04-24T16:49:33.778381Z",
     "start_time": "2024-04-24T16:49:33.760032Z"
    }
   },
   "cell_type": "code",
   "source": [
    "df_train = df_user_item.groupby('userId').head(-5).reset_index(drop=True)\n",
    "df_val = df_user_item.groupby('userId').tail(5).reset_index(drop=True)"
   ],
   "id": "e93578664c5a65a9",
   "outputs": [],
   "execution_count": 7
  },
  {
   "metadata": {
    "ExecuteTime": {
     "end_time": "2024-04-24T16:49:33.857706Z",
     "start_time": "2024-04-24T16:49:33.779328Z"
    }
   },
   "cell_type": "code",
   "source": [
    "matrix = df_user_item[['userId', 'movieId', 'rating']]\n",
    "X = list(zip(matrix.userId.values, matrix.movieId.values))\n",
    "y = matrix.rating.values\n",
    "data_t = torch.tensor(X)\n",
    "labels = torch.tensor(y)\n",
    "# labels = labels[:, None]"
   ],
   "id": "b85d8c84abf2ee16",
   "outputs": [],
   "execution_count": 8
  },
  {
   "metadata": {
    "ExecuteTime": {
     "end_time": "2024-04-24T17:02:20.553914Z",
     "start_time": "2024-04-24T17:02:20.543820Z"
    }
   },
   "cell_type": "code",
   "source": [
    "batch_size = 64\n",
    "\n",
    "# split the data\n",
    "train_data, test_data, train_labels, test_labels = train_test_split(data_t, labels, test_size=.1)\n",
    "\n",
    "#convert to a pytorch \n",
    "train_dataDataset = TensorDataset(train_data, train_labels)\n",
    "test_dataDataset = TensorDataset(test_data, test_labels)\n",
    "\n",
    "# train and test dataloaders\n",
    "train_loader = DataLoader(train_dataDataset, batch_size=batch_size, shuffle=True, drop_last=True)\n",
    "test_loader = DataLoader(test_dataDataset, batch_size=test_dataDataset.tensors[0].shape[0])"
   ],
   "id": "f0492d847c3b234c",
   "outputs": [],
   "execution_count": 25
  },
  {
   "metadata": {
    "ExecuteTime": {
     "end_time": "2024-04-24T16:49:39.152064Z",
     "start_time": "2024-04-24T16:49:39.147387Z"
    }
   },
   "cell_type": "code",
   "source": "train_labels.shape",
   "id": "24fb7dd22275e183",
   "outputs": [
    {
     "data": {
      "text/plain": [
       "torch.Size([90752])"
      ]
     },
     "execution_count": 11,
     "metadata": {},
     "output_type": "execute_result"
    }
   ],
   "execution_count": 11
  },
  {
   "metadata": {
    "ExecuteTime": {
     "end_time": "2024-04-24T16:52:32.032836Z",
     "start_time": "2024-04-24T16:52:32.022281Z"
    }
   },
   "cell_type": "code",
   "source": [
    "class MF(nn.Module):\n",
    "\n",
    "    def __init__(self, num_users, num_items, emb_dim, init):\n",
    "        super().__init__()\n",
    "        self.user_emb = nn.Embedding(num_embeddings=num_users, embedding_dim=emb_dim)\n",
    "        self.item_emb = nn.Embedding(num_embeddings=num_items, embedding_dim=emb_dim)\n",
    "\n",
    "        self.fc1 = nn.Linear(emb_dim, emb_dim * 4)\n",
    "        self.fc2 = nn.Linear(emb_dim * 4, emb_dim * 2)\n",
    "        self.fc3 = nn.Linear(emb_dim * 2, 1)\n",
    "        self.relu = nn.ReLU()\n",
    "        self.sigmoid = nn.Sigmoid()\n",
    "\n",
    "        # add bias\n",
    "        self.user_bias = nn.Parameter(torch.zeros(num_users))\n",
    "        self.item_bias = nn.Parameter(torch.zeros(num_items))\n",
    "        self.offset = nn.Parameter(torch.zeros(1))\n",
    "\n",
    "        if init:\n",
    "            self.user_emb.weight.data.uniform_(0., 0.5)\n",
    "            self.item_emb.weight.data.uniform_(0., 0.5)\n",
    "\n",
    "    def forward(self, user, item):\n",
    "        user_emb = self.user_emb(user)\n",
    "        item_emb = self.item_emb(item)\n",
    "        element_product = (user_emb * item_emb).sum(1)\n",
    "\n",
    "        # Reshape element_product to match the input size of self.fc1\n",
    "        element_product = element_product.unsqueeze(1)  # Add an extra dimension\n",
    "        element_product = element_product.expand(-1,self.fc1.in_features)  # Expand along the second dimension to match fc1 input size\n",
    "\n",
    "        x = self.relu(self.fc1(element_product))\n",
    "        x = self.relu(self.fc2(x))\n",
    "        x = self.sigmoid(self.fc3(x))\n",
    "\n",
    "        user_b = self.user_bias[user]\n",
    "        item_b = self.item_bias[item]\n",
    "        # element_product += user_b + item_b + self.offset\n",
    "\n",
    "        return x.squeeze() + user_b + item_b + self.offset\n",
    "\n",
    "\n",
    "n_users = len(df_user_item.userId.unique())\n",
    "n_items = len(df_user_item.movieId.unique())\n",
    "mf_model = MF(n_users, n_items, emb_dim=32, init=True)\n",
    "mf_model.to(device)\n",
    "print(mf_model)"
   ],
   "id": "6de97c8a38fc68f8",
   "outputs": [
    {
     "name": "stdout",
     "output_type": "stream",
     "text": [
      "MF(\n",
      "  (user_emb): Embedding(610, 32)\n",
      "  (item_emb): Embedding(9724, 32)\n",
      "  (fc1): Linear(in_features=32, out_features=128, bias=True)\n",
      "  (fc2): Linear(in_features=128, out_features=64, bias=True)\n",
      "  (fc3): Linear(in_features=64, out_features=1, bias=True)\n",
      "  (relu): ReLU()\n",
      "  (sigmoid): Sigmoid()\n",
      ")\n"
     ]
    }
   ],
   "execution_count": 16
  },
  {
   "metadata": {
    "ExecuteTime": {
     "end_time": "2024-04-24T17:55:13.303518Z",
     "start_time": "2024-04-24T17:55:13.296964Z"
    }
   },
   "cell_type": "code",
   "source": [
    "# train the model\n",
    "def train_model(num_epochs):\n",
    "    loss_fun = nn.MSELoss()\n",
    "    optimizer = optim.Adam(mf_model.parameters(), lr=.01)\n",
    "    # initialize accuracies as empties\n",
    "    train_losses = []\n",
    "    val_losses = []\n",
    "\n",
    "    # loop over epochs\n",
    "    for epoch in range(num_epochs):\n",
    "\n",
    "        # activate training mode\n",
    "        mf_model.train()\n",
    "\n",
    "        # loop over training data batches\n",
    "        batch_loss = []\n",
    "        for X, y in train_loader:\n",
    "            # forward pass and loss\n",
    "            user, item = X[:, 0], X[:, 1]\n",
    "            y_rating = y.to(device, dtype=torch.float)\n",
    "            y_hat = mf_model(user, item)\n",
    "            loss = loss_fun(y_hat, y_rating)\n",
    "\n",
    "            # backprop\n",
    "            optimizer.zero_grad()\n",
    "            loss.backward()\n",
    "            optimizer.step()\n",
    "\n",
    "            batch_loss.append(loss.item())\n",
    "\n",
    "        # append the batch loss \n",
    "        train_losses.append(np.mean(loss.item()))\n",
    "        print(f'epoch {epoch + 1} loss batch: {np.mean(batch_loss)}')\n",
    "        # activate testing mode\n",
    "        mf_model.eval()\n",
    "\n",
    "        # extract X,y from test dataloadermore reliable than gradient descent algorithms and their variants, and it reaches convergence at a higher speed.\n",
    "        X, y = next(iter(test_loader))\n",
    "        user_val, item_val = X[:, 0], X[:, 1]\n",
    "        with torch.no_grad():\n",
    "            y_hat = mf_model(user_val, item_val)\n",
    "            loss = loss_fun(y_hat, y)\n",
    "        val_losses.append(loss)\n",
    "\n",
    "    return train_losses, val_losses\n"
   ],
   "id": "2880a41e8abfd723",
   "outputs": [],
   "execution_count": 32
  },
  {
   "metadata": {
    "ExecuteTime": {
     "end_time": "2024-04-24T17:58:40.673568Z",
     "start_time": "2024-04-24T17:55:16.406857Z"
    }
   },
   "cell_type": "code",
   "source": "train_losses, val_losses = train_model(num_epochs=50)",
   "id": "bc7bf88441af8a93",
   "outputs": [
    {
     "name": "stdout",
     "output_type": "stream",
     "text": [
      "epoch 1 loss batch: 0.6728309083766763\n",
      "epoch 2 loss batch: 0.6727746597928624\n",
      "epoch 3 loss batch: 0.6716653652520711\n",
      "epoch 4 loss batch: 0.6717485474010112\n",
      "epoch 5 loss batch: 0.6710282233143054\n",
      "epoch 6 loss batch: 0.6710399628021821\n",
      "epoch 7 loss batch: 0.671176732784434\n",
      "epoch 8 loss batch: 0.671170912735553\n",
      "epoch 9 loss batch: 0.6713455743110398\n",
      "epoch 10 loss batch: 0.6709950043595224\n",
      "epoch 11 loss batch: 0.6707278635715396\n",
      "epoch 12 loss batch: 0.6710133705345969\n",
      "epoch 13 loss batch: 0.6711502281163408\n",
      "epoch 14 loss batch: 0.6712276395016228\n",
      "epoch 15 loss batch: 0.6706276588530735\n",
      "epoch 16 loss batch: 0.6711820957943145\n",
      "epoch 17 loss batch: 0.6708902055016693\n",
      "epoch 18 loss batch: 0.6711085352137663\n",
      "epoch 19 loss batch: 0.6708293412358872\n",
      "epoch 20 loss batch: 0.6711000665412803\n",
      "epoch 21 loss batch: 0.671095932215158\n",
      "epoch 22 loss batch: 0.6709081819556832\n",
      "epoch 23 loss batch: 0.6711398279675308\n",
      "epoch 24 loss batch: 0.6710814969201686\n",
      "epoch 25 loss batch: 0.67158181427312\n",
      "epoch 26 loss batch: 0.6704008570006603\n",
      "epoch 27 loss batch: 0.6717113279363164\n",
      "epoch 28 loss batch: 0.6716541519075926\n",
      "epoch 29 loss batch: 0.6712072743221129\n",
      "epoch 30 loss batch: 0.671027340278639\n",
      "epoch 31 loss batch: 0.6701841913846719\n",
      "epoch 32 loss batch: 0.6711447331397591\n",
      "epoch 33 loss batch: 0.6709918916351536\n",
      "epoch 34 loss batch: 0.6714306169823968\n",
      "epoch 35 loss batch: 0.6709426582195863\n",
      "epoch 36 loss batch: 0.6708395626338144\n",
      "epoch 37 loss batch: 0.6709015912078163\n",
      "epoch 38 loss batch: 0.6714107267064672\n",
      "epoch 39 loss batch: 0.6715417221840077\n",
      "epoch 40 loss batch: 0.6714120605390398\n",
      "epoch 41 loss batch: 0.6712240367203068\n",
      "epoch 42 loss batch: 0.6712574123579625\n",
      "epoch 43 loss batch: 0.671470962895661\n",
      "epoch 44 loss batch: 0.6707975983157313\n",
      "epoch 45 loss batch: 0.6717807032451643\n",
      "epoch 46 loss batch: 0.6710694515696701\n",
      "epoch 47 loss batch: 0.6710405857926195\n",
      "epoch 48 loss batch: 0.6707978977681215\n",
      "epoch 49 loss batch: 0.6711546136184539\n",
      "epoch 50 loss batch: 0.6714427774858743\n"
     ]
    }
   ],
   "execution_count": 33
  },
  {
   "metadata": {
    "ExecuteTime": {
     "end_time": "2024-04-24T17:59:52.770890Z",
     "start_time": "2024-04-24T17:59:52.642600Z"
    }
   },
   "cell_type": "code",
   "source": [
    "plt.figure(figsize=(8, 4))\n",
    "plt.plot(train_losses, label='Train')\n",
    "plt.plot(val_losses, label='Val')\n",
    "plt.title('Loss vs Epoch')\n",
    "plt.xlabel('Epoch')\n",
    "plt.ylabel('Loss')\n",
    "plt.grid()\n",
    "plt.legend();\n"
   ],
   "id": "455d353ff84c4749",
   "outputs": [
    {
     "data": {
      "text/plain": [
       "<Figure size 800x400 with 1 Axes>"
      ],
      "image/svg+xml": "<?xml version=\"1.0\" encoding=\"utf-8\" standalone=\"no\"?>\n<!DOCTYPE svg PUBLIC \"-//W3C//DTD SVG 1.1//EN\"\n  \"http://www.w3.org/Graphics/SVG/1.1/DTD/svg11.dtd\">\n<svg xmlns:xlink=\"http://www.w3.org/1999/xlink\" width=\"497.38125pt\" height=\"281.634375pt\" viewBox=\"0 0 497.38125 281.634375\" xmlns=\"http://www.w3.org/2000/svg\" version=\"1.1\">\n <metadata>\n  <rdf:RDF xmlns:dc=\"http://purl.org/dc/elements/1.1/\" xmlns:cc=\"http://creativecommons.org/ns#\" xmlns:rdf=\"http://www.w3.org/1999/02/22-rdf-syntax-ns#\">\n   <cc:Work>\n    <dc:type rdf:resource=\"http://purl.org/dc/dcmitype/StillImage\"/>\n    <dc:date>2024-04-24T14:59:52.744333</dc:date>\n    <dc:format>image/svg+xml</dc:format>\n    <dc:creator>\n     <cc:Agent>\n      <dc:title>Matplotlib v3.8.4, https://matplotlib.org/</dc:title>\n     </cc:Agent>\n    </dc:creator>\n   </cc:Work>\n  </rdf:RDF>\n </metadata>\n <defs>\n  <style type=\"text/css\">*{stroke-linejoin: round; stroke-linecap: butt}</style>\n </defs>\n <g id=\"figure_1\">\n  <g id=\"patch_1\">\n   <path d=\"M 0 281.634375 \nL 497.38125 281.634375 \nL 497.38125 0 \nL 0 0 \nz\n\" style=\"fill: #ffffff\"/>\n  </g>\n  <g id=\"axes_1\">\n   <g id=\"patch_2\">\n    <path d=\"M 43.78125 244.078125 \nL 490.18125 244.078125 \nL 490.18125 22.318125 \nL 43.78125 22.318125 \nz\n\" style=\"fill: #ffffff\"/>\n   </g>\n   <g id=\"matplotlib.axis_1\">\n    <g id=\"xtick_1\">\n     <g id=\"line2d_1\">\n      <path d=\"M 64.072159 244.078125 \nL 64.072159 22.318125 \n\" clip-path=\"url(#pbbc35a8eed)\" style=\"fill: none; stroke: #b0b0b0; stroke-width: 0.8; stroke-linecap: square\"/>\n     </g>\n     <g id=\"line2d_2\">\n      <defs>\n       <path id=\"maa9d1790d9\" d=\"M 0 0 \nL 0 3.5 \n\" style=\"stroke: #000000; stroke-width: 0.8\"/>\n      </defs>\n      <g>\n       <use xlink:href=\"#maa9d1790d9\" x=\"64.072159\" y=\"244.078125\" style=\"stroke: #000000; stroke-width: 0.8\"/>\n      </g>\n     </g>\n     <g id=\"text_1\">\n      <!-- 0 -->\n      <g transform=\"translate(60.890909 258.676562) scale(0.1 -0.1)\">\n       <defs>\n        <path id=\"DejaVuSans-30\" d=\"M 2034 4250 \nQ 1547 4250 1301 3770 \nQ 1056 3291 1056 2328 \nQ 1056 1369 1301 889 \nQ 1547 409 2034 409 \nQ 2525 409 2770 889 \nQ 3016 1369 3016 2328 \nQ 3016 3291 2770 3770 \nQ 2525 4250 2034 4250 \nz\nM 2034 4750 \nQ 2819 4750 3233 4129 \nQ 3647 3509 3647 2328 \nQ 3647 1150 3233 529 \nQ 2819 -91 2034 -91 \nQ 1250 -91 836 529 \nQ 422 1150 422 2328 \nQ 422 3509 836 4129 \nQ 1250 4750 2034 4750 \nz\n\" transform=\"scale(0.015625)\"/>\n       </defs>\n       <use xlink:href=\"#DejaVuSans-30\"/>\n      </g>\n     </g>\n    </g>\n    <g id=\"xtick_2\">\n     <g id=\"line2d_3\">\n      <path d=\"M 146.892196 244.078125 \nL 146.892196 22.318125 \n\" clip-path=\"url(#pbbc35a8eed)\" style=\"fill: none; stroke: #b0b0b0; stroke-width: 0.8; stroke-linecap: square\"/>\n     </g>\n     <g id=\"line2d_4\">\n      <g>\n       <use xlink:href=\"#maa9d1790d9\" x=\"146.892196\" y=\"244.078125\" style=\"stroke: #000000; stroke-width: 0.8\"/>\n      </g>\n     </g>\n     <g id=\"text_2\">\n      <!-- 10 -->\n      <g transform=\"translate(140.529696 258.676562) scale(0.1 -0.1)\">\n       <defs>\n        <path id=\"DejaVuSans-31\" d=\"M 794 531 \nL 1825 531 \nL 1825 4091 \nL 703 3866 \nL 703 4441 \nL 1819 4666 \nL 2450 4666 \nL 2450 531 \nL 3481 531 \nL 3481 0 \nL 794 0 \nL 794 531 \nz\n\" transform=\"scale(0.015625)\"/>\n       </defs>\n       <use xlink:href=\"#DejaVuSans-31\"/>\n       <use xlink:href=\"#DejaVuSans-30\" x=\"63.623047\"/>\n      </g>\n     </g>\n    </g>\n    <g id=\"xtick_3\">\n     <g id=\"line2d_5\">\n      <path d=\"M 229.712233 244.078125 \nL 229.712233 22.318125 \n\" clip-path=\"url(#pbbc35a8eed)\" style=\"fill: none; stroke: #b0b0b0; stroke-width: 0.8; stroke-linecap: square\"/>\n     </g>\n     <g id=\"line2d_6\">\n      <g>\n       <use xlink:href=\"#maa9d1790d9\" x=\"229.712233\" y=\"244.078125\" style=\"stroke: #000000; stroke-width: 0.8\"/>\n      </g>\n     </g>\n     <g id=\"text_3\">\n      <!-- 20 -->\n      <g transform=\"translate(223.349733 258.676562) scale(0.1 -0.1)\">\n       <defs>\n        <path id=\"DejaVuSans-32\" d=\"M 1228 531 \nL 3431 531 \nL 3431 0 \nL 469 0 \nL 469 531 \nQ 828 903 1448 1529 \nQ 2069 2156 2228 2338 \nQ 2531 2678 2651 2914 \nQ 2772 3150 2772 3378 \nQ 2772 3750 2511 3984 \nQ 2250 4219 1831 4219 \nQ 1534 4219 1204 4116 \nQ 875 4013 500 3803 \nL 500 4441 \nQ 881 4594 1212 4672 \nQ 1544 4750 1819 4750 \nQ 2544 4750 2975 4387 \nQ 3406 4025 3406 3419 \nQ 3406 3131 3298 2873 \nQ 3191 2616 2906 2266 \nQ 2828 2175 2409 1742 \nQ 1991 1309 1228 531 \nz\n\" transform=\"scale(0.015625)\"/>\n       </defs>\n       <use xlink:href=\"#DejaVuSans-32\"/>\n       <use xlink:href=\"#DejaVuSans-30\" x=\"63.623047\"/>\n      </g>\n     </g>\n    </g>\n    <g id=\"xtick_4\">\n     <g id=\"line2d_7\">\n      <path d=\"M 312.53227 244.078125 \nL 312.53227 22.318125 \n\" clip-path=\"url(#pbbc35a8eed)\" style=\"fill: none; stroke: #b0b0b0; stroke-width: 0.8; stroke-linecap: square\"/>\n     </g>\n     <g id=\"line2d_8\">\n      <g>\n       <use xlink:href=\"#maa9d1790d9\" x=\"312.53227\" y=\"244.078125\" style=\"stroke: #000000; stroke-width: 0.8\"/>\n      </g>\n     </g>\n     <g id=\"text_4\">\n      <!-- 30 -->\n      <g transform=\"translate(306.16977 258.676562) scale(0.1 -0.1)\">\n       <defs>\n        <path id=\"DejaVuSans-33\" d=\"M 2597 2516 \nQ 3050 2419 3304 2112 \nQ 3559 1806 3559 1356 \nQ 3559 666 3084 287 \nQ 2609 -91 1734 -91 \nQ 1441 -91 1130 -33 \nQ 819 25 488 141 \nL 488 750 \nQ 750 597 1062 519 \nQ 1375 441 1716 441 \nQ 2309 441 2620 675 \nQ 2931 909 2931 1356 \nQ 2931 1769 2642 2001 \nQ 2353 2234 1838 2234 \nL 1294 2234 \nL 1294 2753 \nL 1863 2753 \nQ 2328 2753 2575 2939 \nQ 2822 3125 2822 3475 \nQ 2822 3834 2567 4026 \nQ 2313 4219 1838 4219 \nQ 1578 4219 1281 4162 \nQ 984 4106 628 3988 \nL 628 4550 \nQ 988 4650 1302 4700 \nQ 1616 4750 1894 4750 \nQ 2613 4750 3031 4423 \nQ 3450 4097 3450 3541 \nQ 3450 3153 3228 2886 \nQ 3006 2619 2597 2516 \nz\n\" transform=\"scale(0.015625)\"/>\n       </defs>\n       <use xlink:href=\"#DejaVuSans-33\"/>\n       <use xlink:href=\"#DejaVuSans-30\" x=\"63.623047\"/>\n      </g>\n     </g>\n    </g>\n    <g id=\"xtick_5\">\n     <g id=\"line2d_9\">\n      <path d=\"M 395.352308 244.078125 \nL 395.352308 22.318125 \n\" clip-path=\"url(#pbbc35a8eed)\" style=\"fill: none; stroke: #b0b0b0; stroke-width: 0.8; stroke-linecap: square\"/>\n     </g>\n     <g id=\"line2d_10\">\n      <g>\n       <use xlink:href=\"#maa9d1790d9\" x=\"395.352308\" y=\"244.078125\" style=\"stroke: #000000; stroke-width: 0.8\"/>\n      </g>\n     </g>\n     <g id=\"text_5\">\n      <!-- 40 -->\n      <g transform=\"translate(388.989808 258.676562) scale(0.1 -0.1)\">\n       <defs>\n        <path id=\"DejaVuSans-34\" d=\"M 2419 4116 \nL 825 1625 \nL 2419 1625 \nL 2419 4116 \nz\nM 2253 4666 \nL 3047 4666 \nL 3047 1625 \nL 3713 1625 \nL 3713 1100 \nL 3047 1100 \nL 3047 0 \nL 2419 0 \nL 2419 1100 \nL 313 1100 \nL 313 1709 \nL 2253 4666 \nz\n\" transform=\"scale(0.015625)\"/>\n       </defs>\n       <use xlink:href=\"#DejaVuSans-34\"/>\n       <use xlink:href=\"#DejaVuSans-30\" x=\"63.623047\"/>\n      </g>\n     </g>\n    </g>\n    <g id=\"xtick_6\">\n     <g id=\"line2d_11\">\n      <path d=\"M 478.172345 244.078125 \nL 478.172345 22.318125 \n\" clip-path=\"url(#pbbc35a8eed)\" style=\"fill: none; stroke: #b0b0b0; stroke-width: 0.8; stroke-linecap: square\"/>\n     </g>\n     <g id=\"line2d_12\">\n      <g>\n       <use xlink:href=\"#maa9d1790d9\" x=\"478.172345\" y=\"244.078125\" style=\"stroke: #000000; stroke-width: 0.8\"/>\n      </g>\n     </g>\n     <g id=\"text_6\">\n      <!-- 50 -->\n      <g transform=\"translate(471.809845 258.676562) scale(0.1 -0.1)\">\n       <defs>\n        <path id=\"DejaVuSans-35\" d=\"M 691 4666 \nL 3169 4666 \nL 3169 4134 \nL 1269 4134 \nL 1269 2991 \nQ 1406 3038 1543 3061 \nQ 1681 3084 1819 3084 \nQ 2600 3084 3056 2656 \nQ 3513 2228 3513 1497 \nQ 3513 744 3044 326 \nQ 2575 -91 1722 -91 \nQ 1428 -91 1123 -41 \nQ 819 9 494 109 \nL 494 744 \nQ 775 591 1075 516 \nQ 1375 441 1709 441 \nQ 2250 441 2565 725 \nQ 2881 1009 2881 1497 \nQ 2881 1984 2565 2268 \nQ 2250 2553 1709 2553 \nQ 1456 2553 1204 2497 \nQ 953 2441 691 2322 \nL 691 4666 \nz\n\" transform=\"scale(0.015625)\"/>\n       </defs>\n       <use xlink:href=\"#DejaVuSans-35\"/>\n       <use xlink:href=\"#DejaVuSans-30\" x=\"63.623047\"/>\n      </g>\n     </g>\n    </g>\n    <g id=\"text_7\">\n     <!-- Epoch -->\n     <g transform=\"translate(251.670312 272.354687) scale(0.1 -0.1)\">\n      <defs>\n       <path id=\"DejaVuSans-45\" d=\"M 628 4666 \nL 3578 4666 \nL 3578 4134 \nL 1259 4134 \nL 1259 2753 \nL 3481 2753 \nL 3481 2222 \nL 1259 2222 \nL 1259 531 \nL 3634 531 \nL 3634 0 \nL 628 0 \nL 628 4666 \nz\n\" transform=\"scale(0.015625)\"/>\n       <path id=\"DejaVuSans-70\" d=\"M 1159 525 \nL 1159 -1331 \nL 581 -1331 \nL 581 3500 \nL 1159 3500 \nL 1159 2969 \nQ 1341 3281 1617 3432 \nQ 1894 3584 2278 3584 \nQ 2916 3584 3314 3078 \nQ 3713 2572 3713 1747 \nQ 3713 922 3314 415 \nQ 2916 -91 2278 -91 \nQ 1894 -91 1617 61 \nQ 1341 213 1159 525 \nz\nM 3116 1747 \nQ 3116 2381 2855 2742 \nQ 2594 3103 2138 3103 \nQ 1681 3103 1420 2742 \nQ 1159 2381 1159 1747 \nQ 1159 1113 1420 752 \nQ 1681 391 2138 391 \nQ 2594 391 2855 752 \nQ 3116 1113 3116 1747 \nz\n\" transform=\"scale(0.015625)\"/>\n       <path id=\"DejaVuSans-6f\" d=\"M 1959 3097 \nQ 1497 3097 1228 2736 \nQ 959 2375 959 1747 \nQ 959 1119 1226 758 \nQ 1494 397 1959 397 \nQ 2419 397 2687 759 \nQ 2956 1122 2956 1747 \nQ 2956 2369 2687 2733 \nQ 2419 3097 1959 3097 \nz\nM 1959 3584 \nQ 2709 3584 3137 3096 \nQ 3566 2609 3566 1747 \nQ 3566 888 3137 398 \nQ 2709 -91 1959 -91 \nQ 1206 -91 779 398 \nQ 353 888 353 1747 \nQ 353 2609 779 3096 \nQ 1206 3584 1959 3584 \nz\n\" transform=\"scale(0.015625)\"/>\n       <path id=\"DejaVuSans-63\" d=\"M 3122 3366 \nL 3122 2828 \nQ 2878 2963 2633 3030 \nQ 2388 3097 2138 3097 \nQ 1578 3097 1268 2742 \nQ 959 2388 959 1747 \nQ 959 1106 1268 751 \nQ 1578 397 2138 397 \nQ 2388 397 2633 464 \nQ 2878 531 3122 666 \nL 3122 134 \nQ 2881 22 2623 -34 \nQ 2366 -91 2075 -91 \nQ 1284 -91 818 406 \nQ 353 903 353 1747 \nQ 353 2603 823 3093 \nQ 1294 3584 2113 3584 \nQ 2378 3584 2631 3529 \nQ 2884 3475 3122 3366 \nz\n\" transform=\"scale(0.015625)\"/>\n       <path id=\"DejaVuSans-68\" d=\"M 3513 2113 \nL 3513 0 \nL 2938 0 \nL 2938 2094 \nQ 2938 2591 2744 2837 \nQ 2550 3084 2163 3084 \nQ 1697 3084 1428 2787 \nQ 1159 2491 1159 1978 \nL 1159 0 \nL 581 0 \nL 581 4863 \nL 1159 4863 \nL 1159 2956 \nQ 1366 3272 1645 3428 \nQ 1925 3584 2291 3584 \nQ 2894 3584 3203 3211 \nQ 3513 2838 3513 2113 \nz\n\" transform=\"scale(0.015625)\"/>\n      </defs>\n      <use xlink:href=\"#DejaVuSans-45\"/>\n      <use xlink:href=\"#DejaVuSans-70\" x=\"63.183594\"/>\n      <use xlink:href=\"#DejaVuSans-6f\" x=\"126.660156\"/>\n      <use xlink:href=\"#DejaVuSans-63\" x=\"187.841797\"/>\n      <use xlink:href=\"#DejaVuSans-68\" x=\"242.822266\"/>\n     </g>\n    </g>\n   </g>\n   <g id=\"matplotlib.axis_2\">\n    <g id=\"ytick_1\">\n     <g id=\"line2d_13\">\n      <path d=\"M 43.78125 198.902014 \nL 490.18125 198.902014 \n\" clip-path=\"url(#pbbc35a8eed)\" style=\"fill: none; stroke: #b0b0b0; stroke-width: 0.8; stroke-linecap: square\"/>\n     </g>\n     <g id=\"line2d_14\">\n      <defs>\n       <path id=\"mbc27b39b72\" d=\"M 0 0 \nL -3.5 0 \n\" style=\"stroke: #000000; stroke-width: 0.8\"/>\n      </defs>\n      <g>\n       <use xlink:href=\"#mbc27b39b72\" x=\"43.78125\" y=\"198.902014\" style=\"stroke: #000000; stroke-width: 0.8\"/>\n      </g>\n     </g>\n     <g id=\"text_8\">\n      <!-- 0.6 -->\n      <g transform=\"translate(20.878125 202.701232) scale(0.1 -0.1)\">\n       <defs>\n        <path id=\"DejaVuSans-2e\" d=\"M 684 794 \nL 1344 794 \nL 1344 0 \nL 684 0 \nL 684 794 \nz\n\" transform=\"scale(0.015625)\"/>\n        <path id=\"DejaVuSans-36\" d=\"M 2113 2584 \nQ 1688 2584 1439 2293 \nQ 1191 2003 1191 1497 \nQ 1191 994 1439 701 \nQ 1688 409 2113 409 \nQ 2538 409 2786 701 \nQ 3034 994 3034 1497 \nQ 3034 2003 2786 2293 \nQ 2538 2584 2113 2584 \nz\nM 3366 4563 \nL 3366 3988 \nQ 3128 4100 2886 4159 \nQ 2644 4219 2406 4219 \nQ 1781 4219 1451 3797 \nQ 1122 3375 1075 2522 \nQ 1259 2794 1537 2939 \nQ 1816 3084 2150 3084 \nQ 2853 3084 3261 2657 \nQ 3669 2231 3669 1497 \nQ 3669 778 3244 343 \nQ 2819 -91 2113 -91 \nQ 1303 -91 875 529 \nQ 447 1150 447 2328 \nQ 447 3434 972 4092 \nQ 1497 4750 2381 4750 \nQ 2619 4750 2861 4703 \nQ 3103 4656 3366 4563 \nz\n\" transform=\"scale(0.015625)\"/>\n       </defs>\n       <use xlink:href=\"#DejaVuSans-30\"/>\n       <use xlink:href=\"#DejaVuSans-2e\" x=\"63.623047\"/>\n       <use xlink:href=\"#DejaVuSans-36\" x=\"95.410156\"/>\n      </g>\n     </g>\n    </g>\n    <g id=\"ytick_2\">\n     <g id=\"line2d_15\">\n      <path d=\"M 43.78125 152.5861 \nL 490.18125 152.5861 \n\" clip-path=\"url(#pbbc35a8eed)\" style=\"fill: none; stroke: #b0b0b0; stroke-width: 0.8; stroke-linecap: square\"/>\n     </g>\n     <g id=\"line2d_16\">\n      <g>\n       <use xlink:href=\"#mbc27b39b72\" x=\"43.78125\" y=\"152.5861\" style=\"stroke: #000000; stroke-width: 0.8\"/>\n      </g>\n     </g>\n     <g id=\"text_9\">\n      <!-- 0.8 -->\n      <g transform=\"translate(20.878125 156.385319) scale(0.1 -0.1)\">\n       <defs>\n        <path id=\"DejaVuSans-38\" d=\"M 2034 2216 \nQ 1584 2216 1326 1975 \nQ 1069 1734 1069 1313 \nQ 1069 891 1326 650 \nQ 1584 409 2034 409 \nQ 2484 409 2743 651 \nQ 3003 894 3003 1313 \nQ 3003 1734 2745 1975 \nQ 2488 2216 2034 2216 \nz\nM 1403 2484 \nQ 997 2584 770 2862 \nQ 544 3141 544 3541 \nQ 544 4100 942 4425 \nQ 1341 4750 2034 4750 \nQ 2731 4750 3128 4425 \nQ 3525 4100 3525 3541 \nQ 3525 3141 3298 2862 \nQ 3072 2584 2669 2484 \nQ 3125 2378 3379 2068 \nQ 3634 1759 3634 1313 \nQ 3634 634 3220 271 \nQ 2806 -91 2034 -91 \nQ 1263 -91 848 271 \nQ 434 634 434 1313 \nQ 434 1759 690 2068 \nQ 947 2378 1403 2484 \nz\nM 1172 3481 \nQ 1172 3119 1398 2916 \nQ 1625 2713 2034 2713 \nQ 2441 2713 2670 2916 \nQ 2900 3119 2900 3481 \nQ 2900 3844 2670 4047 \nQ 2441 4250 2034 4250 \nQ 1625 4250 1398 4047 \nQ 1172 3844 1172 3481 \nz\n\" transform=\"scale(0.015625)\"/>\n       </defs>\n       <use xlink:href=\"#DejaVuSans-30\"/>\n       <use xlink:href=\"#DejaVuSans-2e\" x=\"63.623047\"/>\n       <use xlink:href=\"#DejaVuSans-38\" x=\"95.410156\"/>\n      </g>\n     </g>\n    </g>\n    <g id=\"ytick_3\">\n     <g id=\"line2d_17\">\n      <path d=\"M 43.78125 106.270186 \nL 490.18125 106.270186 \n\" clip-path=\"url(#pbbc35a8eed)\" style=\"fill: none; stroke: #b0b0b0; stroke-width: 0.8; stroke-linecap: square\"/>\n     </g>\n     <g id=\"line2d_18\">\n      <g>\n       <use xlink:href=\"#mbc27b39b72\" x=\"43.78125\" y=\"106.270186\" style=\"stroke: #000000; stroke-width: 0.8\"/>\n      </g>\n     </g>\n     <g id=\"text_10\">\n      <!-- 1.0 -->\n      <g transform=\"translate(20.878125 110.069405) scale(0.1 -0.1)\">\n       <use xlink:href=\"#DejaVuSans-31\"/>\n       <use xlink:href=\"#DejaVuSans-2e\" x=\"63.623047\"/>\n       <use xlink:href=\"#DejaVuSans-30\" x=\"95.410156\"/>\n      </g>\n     </g>\n    </g>\n    <g id=\"ytick_4\">\n     <g id=\"line2d_19\">\n      <path d=\"M 43.78125 59.954273 \nL 490.18125 59.954273 \n\" clip-path=\"url(#pbbc35a8eed)\" style=\"fill: none; stroke: #b0b0b0; stroke-width: 0.8; stroke-linecap: square\"/>\n     </g>\n     <g id=\"line2d_20\">\n      <g>\n       <use xlink:href=\"#mbc27b39b72\" x=\"43.78125\" y=\"59.954273\" style=\"stroke: #000000; stroke-width: 0.8\"/>\n      </g>\n     </g>\n     <g id=\"text_11\">\n      <!-- 1.2 -->\n      <g transform=\"translate(20.878125 63.753492) scale(0.1 -0.1)\">\n       <use xlink:href=\"#DejaVuSans-31\"/>\n       <use xlink:href=\"#DejaVuSans-2e\" x=\"63.623047\"/>\n       <use xlink:href=\"#DejaVuSans-32\" x=\"95.410156\"/>\n      </g>\n     </g>\n    </g>\n    <g id=\"text_12\">\n     <!-- Loss -->\n     <g transform=\"translate(14.798438 144.165312) rotate(-90) scale(0.1 -0.1)\">\n      <defs>\n       <path id=\"DejaVuSans-4c\" d=\"M 628 4666 \nL 1259 4666 \nL 1259 531 \nL 3531 531 \nL 3531 0 \nL 628 0 \nL 628 4666 \nz\n\" transform=\"scale(0.015625)\"/>\n       <path id=\"DejaVuSans-73\" d=\"M 2834 3397 \nL 2834 2853 \nQ 2591 2978 2328 3040 \nQ 2066 3103 1784 3103 \nQ 1356 3103 1142 2972 \nQ 928 2841 928 2578 \nQ 928 2378 1081 2264 \nQ 1234 2150 1697 2047 \nL 1894 2003 \nQ 2506 1872 2764 1633 \nQ 3022 1394 3022 966 \nQ 3022 478 2636 193 \nQ 2250 -91 1575 -91 \nQ 1294 -91 989 -36 \nQ 684 19 347 128 \nL 347 722 \nQ 666 556 975 473 \nQ 1284 391 1588 391 \nQ 1994 391 2212 530 \nQ 2431 669 2431 922 \nQ 2431 1156 2273 1281 \nQ 2116 1406 1581 1522 \nL 1381 1569 \nQ 847 1681 609 1914 \nQ 372 2147 372 2553 \nQ 372 3047 722 3315 \nQ 1072 3584 1716 3584 \nQ 2034 3584 2315 3537 \nQ 2597 3491 2834 3397 \nz\n\" transform=\"scale(0.015625)\"/>\n      </defs>\n      <use xlink:href=\"#DejaVuSans-4c\"/>\n      <use xlink:href=\"#DejaVuSans-6f\" x=\"53.962891\"/>\n      <use xlink:href=\"#DejaVuSans-73\" x=\"115.144531\"/>\n      <use xlink:href=\"#DejaVuSans-73\" x=\"167.244141\"/>\n     </g>\n    </g>\n   </g>\n   <g id=\"line2d_21\">\n    <path d=\"M 64.072159 93.53404 \nL 72.354163 195.969349 \nL 80.636167 190.096411 \nL 88.91817 233.998125 \nL 97.200174 180.979896 \nL 105.482178 179.00518 \nL 113.764181 169.501527 \nL 122.046185 227.071594 \nL 130.328189 166.867859 \nL 138.610192 201.802809 \nL 146.892196 146.74078 \nL 155.1742 159.029867 \nL 163.456204 116.858207 \nL 171.738207 148.430556 \nL 180.020211 226.979334 \nL 188.302215 164.094406 \nL 196.584218 154.540177 \nL 204.866222 131.70343 \nL 213.148226 191.071719 \nL 221.43023 176.442751 \nL 229.712233 176.58422 \nL 237.994237 168.940923 \nL 246.276241 174.360618 \nL 254.558244 222.675111 \nL 262.840248 102.791279 \nL 271.122252 224.178916 \nL 279.404256 206.132368 \nL 287.686259 178.740448 \nL 295.968263 136.325534 \nL 304.250267 178.441194 \nL 312.53227 228.069118 \nL 320.814274 32.398125 \nL 329.096278 213.582973 \nL 337.378282 131.147588 \nL 345.660285 172.479309 \nL 353.942289 149.013686 \nL 362.224293 196.10785 \nL 370.506296 166.906315 \nL 378.7883 171.330232 \nL 387.070304 174.535063 \nL 395.352308 182.519825 \nL 403.634311 128.284897 \nL 411.916315 197.422607 \nL 420.198319 162.894713 \nL 428.480322 163.532228 \nL 436.762326 165.017952 \nL 445.04433 188.452944 \nL 453.326333 170.392414 \nL 461.608337 135.463965 \nL 469.890341 158.577011 \n\" clip-path=\"url(#pbbc35a8eed)\" style=\"fill: none; stroke: #1f77b4; stroke-width: 1.5; stroke-linecap: square\"/>\n   </g>\n   <g id=\"line2d_22\">\n    <path d=\"M 64.072159 157.033982 \nL 72.354163 155.545068 \nL 80.636167 155.4245 \nL 88.91817 156.017488 \nL 97.200174 154.070243 \nL 105.482178 154.422216 \nL 113.764181 153.746346 \nL 122.046185 154.291278 \nL 130.328189 154.128978 \nL 138.610192 153.787646 \nL 146.892196 154.829359 \nL 155.1742 154.954617 \nL 163.456204 154.786921 \nL 171.738207 155.076996 \nL 180.020211 154.110698 \nL 188.302215 153.751778 \nL 196.584218 154.325444 \nL 204.866222 154.8233 \nL 213.148226 153.901073 \nL 221.43023 154.410073 \nL 229.712233 153.831769 \nL 237.994237 154.760615 \nL 246.276241 153.742489 \nL 254.558244 154.072757 \nL 262.840248 155.766201 \nL 271.122252 153.490085 \nL 279.404256 155.337999 \nL 287.686259 153.964338 \nL 295.968263 154.343756 \nL 304.250267 153.943146 \nL 312.53227 153.784655 \nL 320.814274 153.719733 \nL 329.096278 154.345098 \nL 337.378282 153.176876 \nL 345.660285 153.605686 \nL 353.942289 153.628643 \nL 362.224293 154.207 \nL 370.506296 154.520966 \nL 378.7883 153.927977 \nL 387.070304 154.161714 \nL 395.352308 154.122733 \nL 403.634311 154.057075 \nL 411.916315 153.564166 \nL 420.198319 153.339185 \nL 428.480322 154.042004 \nL 436.762326 154.180181 \nL 445.04433 153.608526 \nL 453.326333 153.625992 \nL 461.608337 153.78644 \nL 469.890341 153.632929 \n\" clip-path=\"url(#pbbc35a8eed)\" style=\"fill: none; stroke: #ff7f0e; stroke-width: 1.5; stroke-linecap: square\"/>\n   </g>\n   <g id=\"patch_3\">\n    <path d=\"M 43.78125 244.078125 \nL 43.78125 22.318125 \n\" style=\"fill: none; stroke: #000000; stroke-width: 0.8; stroke-linejoin: miter; stroke-linecap: square\"/>\n   </g>\n   <g id=\"patch_4\">\n    <path d=\"M 490.18125 244.078125 \nL 490.18125 22.318125 \n\" style=\"fill: none; stroke: #000000; stroke-width: 0.8; stroke-linejoin: miter; stroke-linecap: square\"/>\n   </g>\n   <g id=\"patch_5\">\n    <path d=\"M 43.78125 244.078125 \nL 490.18125 244.078125 \n\" style=\"fill: none; stroke: #000000; stroke-width: 0.8; stroke-linejoin: miter; stroke-linecap: square\"/>\n   </g>\n   <g id=\"patch_6\">\n    <path d=\"M 43.78125 22.318125 \nL 490.18125 22.318125 \n\" style=\"fill: none; stroke: #000000; stroke-width: 0.8; stroke-linejoin: miter; stroke-linecap: square\"/>\n   </g>\n   <g id=\"text_13\">\n    <!-- Loss vs Epoch -->\n    <g transform=\"translate(224.956875 16.318125) scale(0.12 -0.12)\">\n     <defs>\n      <path id=\"DejaVuSans-20\" transform=\"scale(0.015625)\"/>\n      <path id=\"DejaVuSans-76\" d=\"M 191 3500 \nL 800 3500 \nL 1894 563 \nL 2988 3500 \nL 3597 3500 \nL 2284 0 \nL 1503 0 \nL 191 3500 \nz\n\" transform=\"scale(0.015625)\"/>\n     </defs>\n     <use xlink:href=\"#DejaVuSans-4c\"/>\n     <use xlink:href=\"#DejaVuSans-6f\" x=\"53.962891\"/>\n     <use xlink:href=\"#DejaVuSans-73\" x=\"115.144531\"/>\n     <use xlink:href=\"#DejaVuSans-73\" x=\"167.244141\"/>\n     <use xlink:href=\"#DejaVuSans-20\" x=\"219.34375\"/>\n     <use xlink:href=\"#DejaVuSans-76\" x=\"251.130859\"/>\n     <use xlink:href=\"#DejaVuSans-73\" x=\"310.310547\"/>\n     <use xlink:href=\"#DejaVuSans-20\" x=\"362.410156\"/>\n     <use xlink:href=\"#DejaVuSans-45\" x=\"394.197266\"/>\n     <use xlink:href=\"#DejaVuSans-70\" x=\"457.380859\"/>\n     <use xlink:href=\"#DejaVuSans-6f\" x=\"520.857422\"/>\n     <use xlink:href=\"#DejaVuSans-63\" x=\"582.039062\"/>\n     <use xlink:href=\"#DejaVuSans-68\" x=\"637.019531\"/>\n    </g>\n   </g>\n   <g id=\"legend_1\">\n    <g id=\"patch_7\">\n     <path d=\"M 427.19375 59.674375 \nL 483.18125 59.674375 \nQ 485.18125 59.674375 485.18125 57.674375 \nL 485.18125 29.318125 \nQ 485.18125 27.318125 483.18125 27.318125 \nL 427.19375 27.318125 \nQ 425.19375 27.318125 425.19375 29.318125 \nL 425.19375 57.674375 \nQ 425.19375 59.674375 427.19375 59.674375 \nz\n\" style=\"fill: #ffffff; opacity: 0.8; stroke: #cccccc; stroke-linejoin: miter\"/>\n    </g>\n    <g id=\"line2d_23\">\n     <path d=\"M 429.19375 35.416562 \nL 439.19375 35.416562 \nL 449.19375 35.416562 \n\" style=\"fill: none; stroke: #1f77b4; stroke-width: 1.5; stroke-linecap: square\"/>\n    </g>\n    <g id=\"text_14\">\n     <!-- Train -->\n     <g transform=\"translate(457.19375 38.916562) scale(0.1 -0.1)\">\n      <defs>\n       <path id=\"DejaVuSans-54\" d=\"M -19 4666 \nL 3928 4666 \nL 3928 4134 \nL 2272 4134 \nL 2272 0 \nL 1638 0 \nL 1638 4134 \nL -19 4134 \nL -19 4666 \nz\n\" transform=\"scale(0.015625)\"/>\n       <path id=\"DejaVuSans-72\" d=\"M 2631 2963 \nQ 2534 3019 2420 3045 \nQ 2306 3072 2169 3072 \nQ 1681 3072 1420 2755 \nQ 1159 2438 1159 1844 \nL 1159 0 \nL 581 0 \nL 581 3500 \nL 1159 3500 \nL 1159 2956 \nQ 1341 3275 1631 3429 \nQ 1922 3584 2338 3584 \nQ 2397 3584 2469 3576 \nQ 2541 3569 2628 3553 \nL 2631 2963 \nz\n\" transform=\"scale(0.015625)\"/>\n       <path id=\"DejaVuSans-61\" d=\"M 2194 1759 \nQ 1497 1759 1228 1600 \nQ 959 1441 959 1056 \nQ 959 750 1161 570 \nQ 1363 391 1709 391 \nQ 2188 391 2477 730 \nQ 2766 1069 2766 1631 \nL 2766 1759 \nL 2194 1759 \nz\nM 3341 1997 \nL 3341 0 \nL 2766 0 \nL 2766 531 \nQ 2569 213 2275 61 \nQ 1981 -91 1556 -91 \nQ 1019 -91 701 211 \nQ 384 513 384 1019 \nQ 384 1609 779 1909 \nQ 1175 2209 1959 2209 \nL 2766 2209 \nL 2766 2266 \nQ 2766 2663 2505 2880 \nQ 2244 3097 1772 3097 \nQ 1472 3097 1187 3025 \nQ 903 2953 641 2809 \nL 641 3341 \nQ 956 3463 1253 3523 \nQ 1550 3584 1831 3584 \nQ 2591 3584 2966 3190 \nQ 3341 2797 3341 1997 \nz\n\" transform=\"scale(0.015625)\"/>\n       <path id=\"DejaVuSans-69\" d=\"M 603 3500 \nL 1178 3500 \nL 1178 0 \nL 603 0 \nL 603 3500 \nz\nM 603 4863 \nL 1178 4863 \nL 1178 4134 \nL 603 4134 \nL 603 4863 \nz\n\" transform=\"scale(0.015625)\"/>\n       <path id=\"DejaVuSans-6e\" d=\"M 3513 2113 \nL 3513 0 \nL 2938 0 \nL 2938 2094 \nQ 2938 2591 2744 2837 \nQ 2550 3084 2163 3084 \nQ 1697 3084 1428 2787 \nQ 1159 2491 1159 1978 \nL 1159 0 \nL 581 0 \nL 581 3500 \nL 1159 3500 \nL 1159 2956 \nQ 1366 3272 1645 3428 \nQ 1925 3584 2291 3584 \nQ 2894 3584 3203 3211 \nQ 3513 2838 3513 2113 \nz\n\" transform=\"scale(0.015625)\"/>\n      </defs>\n      <use xlink:href=\"#DejaVuSans-54\"/>\n      <use xlink:href=\"#DejaVuSans-72\" x=\"46.333984\"/>\n      <use xlink:href=\"#DejaVuSans-61\" x=\"87.447266\"/>\n      <use xlink:href=\"#DejaVuSans-69\" x=\"148.726562\"/>\n      <use xlink:href=\"#DejaVuSans-6e\" x=\"176.509766\"/>\n     </g>\n    </g>\n    <g id=\"line2d_24\">\n     <path d=\"M 429.19375 50.094687 \nL 439.19375 50.094687 \nL 449.19375 50.094687 \n\" style=\"fill: none; stroke: #ff7f0e; stroke-width: 1.5; stroke-linecap: square\"/>\n    </g>\n    <g id=\"text_15\">\n     <!-- Val -->\n     <g transform=\"translate(457.19375 53.594687) scale(0.1 -0.1)\">\n      <defs>\n       <path id=\"DejaVuSans-56\" d=\"M 1831 0 \nL 50 4666 \nL 709 4666 \nL 2188 738 \nL 3669 4666 \nL 4325 4666 \nL 2547 0 \nL 1831 0 \nz\n\" transform=\"scale(0.015625)\"/>\n       <path id=\"DejaVuSans-6c\" d=\"M 603 4863 \nL 1178 4863 \nL 1178 0 \nL 603 0 \nL 603 4863 \nz\n\" transform=\"scale(0.015625)\"/>\n      </defs>\n      <use xlink:href=\"#DejaVuSans-56\"/>\n      <use xlink:href=\"#DejaVuSans-61\" x=\"60.658203\"/>\n      <use xlink:href=\"#DejaVuSans-6c\" x=\"121.9375\"/>\n     </g>\n    </g>\n   </g>\n  </g>\n </g>\n <defs>\n  <clipPath id=\"pbbc35a8eed\">\n   <rect x=\"43.78125\" y=\"22.318125\" width=\"446.4\" height=\"221.76\"/>\n  </clipPath>\n </defs>\n</svg>\n"
     },
     "metadata": {},
     "output_type": "display_data"
    }
   ],
   "execution_count": 34
  },
  {
   "metadata": {
    "ExecuteTime": {
     "end_time": "2024-04-24T19:05:21.328726Z",
     "start_time": "2024-04-24T19:05:21.187561Z"
    }
   },
   "cell_type": "code",
   "source": [
    "user_emb_min_w = mf_model.user_emb.weight.min().item()\n",
    "user_emb_max_w = mf_model.user_emb.weight.max().item()\n",
    "item_emb_min_w = mf_model.item_emb.weight.min().item()\n",
    "item_emb_max_w = mf_model.item_emb.weight.max().item()\n",
    "\n",
    "print(f'Emb user min/max w: {user_emb_min_w:0.3f} / {user_emb_max_w:0.3f}')\n",
    "print(f'Emb item min/max w: {item_emb_min_w:0.3f} / {item_emb_max_w:0.3f}')\n",
    "print(f'Preds min/max: {y_ratings.min().item():0.2f} / {y_hat.max().item():0.2f}')\n",
    "print(f'Rating min/max: {yRatings.min().item():0.2f} / {yRatings.max().item():0.2f}')\n",
    "print(preds.detach().cpu().numpy()[:6])\n",
    "print(y_ratings.detach().cpu().numpy()[:6])"
   ],
   "id": "dd4fd62d4a90fed3",
   "outputs": [
    {
     "ename": "NameError",
     "evalue": "name 'mf_model' is not defined",
     "output_type": "error",
     "traceback": [
      "\u001B[0;31m---------------------------------------------------------------------------\u001B[0m",
      "\u001B[0;31mNameError\u001B[0m                                 Traceback (most recent call last)",
      "Cell \u001B[0;32mIn[1], line 1\u001B[0m\n\u001B[0;32m----> 1\u001B[0m user_emb_min_w \u001B[38;5;241m=\u001B[39m \u001B[43mmf_model\u001B[49m\u001B[38;5;241m.\u001B[39muser_emb\u001B[38;5;241m.\u001B[39mweight\u001B[38;5;241m.\u001B[39mmin()\u001B[38;5;241m.\u001B[39mitem()\n\u001B[1;32m      2\u001B[0m user_emb_max_w \u001B[38;5;241m=\u001B[39m mf_model\u001B[38;5;241m.\u001B[39muser_emb\u001B[38;5;241m.\u001B[39mweight\u001B[38;5;241m.\u001B[39mmax()\u001B[38;5;241m.\u001B[39mitem()\n\u001B[1;32m      3\u001B[0m item_emb_min_w \u001B[38;5;241m=\u001B[39m mf_model\u001B[38;5;241m.\u001B[39mitem_emb\u001B[38;5;241m.\u001B[39mweight\u001B[38;5;241m.\u001B[39mmin()\u001B[38;5;241m.\u001B[39mitem()\n",
      "\u001B[0;31mNameError\u001B[0m: name 'mf_model' is not defined"
     ]
    }
   ],
   "execution_count": 1
  },
  {
   "metadata": {},
   "cell_type": "code",
   "outputs": [],
   "execution_count": null,
   "source": "",
   "id": "876bcd6b995a32bd"
  }
 ],
 "metadata": {
  "kernelspec": {
   "display_name": "Python 3",
   "language": "python",
   "name": "python3"
  },
  "language_info": {
   "codemirror_mode": {
    "name": "ipython",
    "version": 2
   },
   "file_extension": ".py",
   "mimetype": "text/x-python",
   "name": "python",
   "nbconvert_exporter": "python",
   "pygments_lexer": "ipython2",
   "version": "2.7.6"
  }
 },
 "nbformat": 4,
 "nbformat_minor": 5
}
