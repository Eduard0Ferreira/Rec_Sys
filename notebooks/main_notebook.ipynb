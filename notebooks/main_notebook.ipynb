{
 "cells": [
  {
   "metadata": {
    "ExecuteTime": {
     "end_time": "2024-05-03T19:45:40.789754Z",
     "start_time": "2024-05-03T19:45:39.520239Z"
    }
   },
   "cell_type": "code",
   "source": [
    "import torch\n",
    "import matplotlib.pyplot as plt\n",
    "import matplotlib_inline.backend_inline\n",
    "\n",
    "matplotlib_inline.backend_inline.set_matplotlib_formats('svg')\n",
    "\n",
    "device = torch.device('cuda' if torch.cuda.is_available() else 'cpu')"
   ],
   "id": "a5c319ca0fcfad60",
   "execution_count": 1,
   "outputs": []
  },
  {
   "metadata": {
    "ExecuteTime": {
     "end_time": "2024-05-03T19:45:41.194068Z",
     "start_time": "2024-05-03T19:45:40.791388Z"
    }
   },
   "cell_type": "code",
   "source": [
    "# Classes create for preprocessing and models\n",
    "from preprocess.preprocess import MovieLens\n",
    "from models.matrix_factorization import MF\n",
    "from rec_sys.recsys import RecSys"
   ],
   "id": "480e0f92b8422c4a",
   "execution_count": 2,
   "outputs": []
  },
  {
   "metadata": {
    "ExecuteTime": {
     "end_time": "2024-05-03T19:45:41.227164Z",
     "start_time": "2024-05-03T19:45:41.194977Z"
    }
   },
   "cell_type": "code",
   "source": "ml = MovieLens()",
   "id": "24fb7dd22275e183",
   "execution_count": 3,
   "outputs": []
  },
  {
   "metadata": {
    "ExecuteTime": {
     "end_time": "2024-05-03T19:45:41.245544Z",
     "start_time": "2024-05-03T19:45:41.228321Z"
    }
   },
   "cell_type": "code",
   "source": [
    "n_users, n_items = ml.num_user_item()\n",
    "model = MF(n_users, n_items, emb_dim=128, init=True)\n",
    "model.to(device)\n",
    "print(model)"
   ],
   "id": "1ef3d8187c83a37c",
   "execution_count": 4,
   "outputs": []
  },
  {
   "metadata": {
    "ExecuteTime": {
     "end_time": "2024-05-03T19:45:41.355256Z",
     "start_time": "2024-05-03T19:45:41.248184Z"
    }
   },
   "cell_type": "code",
   "source": "train_loader, test_loader = ml.dataset(batch_size=32)",
   "id": "93c9c1ee0f4bffcf",
   "execution_count": 5,
   "outputs": []
  },
  {
   "metadata": {
    "ExecuteTime": {
     "end_time": "2024-05-03T19:55:39.182629Z",
     "start_time": "2024-05-03T19:47:58.208321Z"
    }
   },
   "cell_type": "code",
   "source": "train_losses, val_losses = model.fit(num_epochs=20, train_loader=train_loader, test_loader=test_loader)",
   "id": "bc7bf88441af8a93",
   "execution_count": 13,
   "outputs": []
  },
  {
   "metadata": {
    "ExecuteTime": {
     "end_time": "2024-05-03T19:55:39.338248Z",
     "start_time": "2024-05-03T19:55:39.184067Z"
    }
   },
   "cell_type": "code",
   "source": [
    "plt.figure(figsize=(8, 4))\n",
    "plt.plot(train_losses, label='Train')\n",
    "plt.plot(val_losses, label='Val')\n",
    "plt.title('Loss vs Epoch')\n",
    "plt.xlabel('Epoch')\n",
    "plt.ylabel('Loss')\n",
    "plt.grid()\n",
    "plt.legend();"
   ],
   "id": "455d353ff84c4749",
   "execution_count": 14,
   "outputs": []
  },
  {
   "metadata": {
    "ExecuteTime": {
     "end_time": "2024-05-03T19:55:39.343911Z",
     "start_time": "2024-05-03T19:55:39.339266Z"
    }
   },
   "cell_type": "code",
   "source": [
    "user_emb_min_w = model.user_emb.weight.min().item()\n",
    "user_emb_max_w = model.user_emb.weight.max().item()\n",
    "item_emb_min_w = model.item_emb.weight.min().item()\n",
    "item_emb_max_w = model.item_emb.weight.max().item()\n",
    "\n",
    "print(f'Emb user min/max w: {user_emb_min_w:0.3f} / {user_emb_max_w:0.3f}')\n",
    "print(f'Emb item min/max w: {item_emb_min_w:0.3f} / {item_emb_max_w:0.3f}')\n",
    "# print(f'Preds min/max: {y_ratings.min().item():0.2f} / {y_hat.max().item():0.2f}')\n",
    "# print(f'Rating min/max: {yRatings.min().item():0.2f} / {yRatings.max().item():0.2f}')\n",
    "# print(preds.detach().cpu().numpy()[:6])\n",
    "# print(y_ratings.detach().cpu().numpy()[:6])"
   ],
   "id": "dd4fd62d4a90fed3",
   "execution_count": 15,
   "outputs": []
  },
  {
   "metadata": {
    "ExecuteTime": {
     "end_time": "2024-05-03T19:57:43.343480Z",
     "start_time": "2024-05-03T19:57:43.288777Z"
    }
   },
   "cell_type": "code",
   "source": [
    "matrix = ml.get_matrix()\n",
    "movies = ml.get_movies()\n",
    "matrix.shape"
   ],
   "id": "4ae130f66bb9a70d",
   "execution_count": 20,
   "outputs": []
  },
  {
   "metadata": {
    "ExecuteTime": {
     "end_time": "2024-05-03T19:57:43.676012Z",
     "start_time": "2024-05-03T19:57:43.643983Z"
    }
   },
   "cell_type": "code",
   "source": [
    "user_ids, item_ids = ml.get_ids()\n",
    "\n",
    "user_id = 5\n",
    "rec_sys = RecSys(model, matrix, user_ids, item_ids, movies)\n",
    "list_movies = rec_sys.make_recommendations(user_id)\n"
   ],
   "id": "68e4fd9fd6b78707",
   "execution_count": 21,
   "outputs": []
  },
  {
   "metadata": {
    "ExecuteTime": {
     "end_time": "2024-05-03T19:57:44.804834Z",
     "start_time": "2024-05-03T19:57:44.797325Z"
    }
   },
   "cell_type": "code",
   "source": [
    "print(\"Rank of recommendations for user: \", user_id)\n",
    "for movie in list_movies:    \n",
    "    print(\"Title: \" + movie['movie_name'] + \" Rating: \" + str(movie['predicted_rating'].detach().cpu().numpy()))"
   ],
   "id": "4b1cb96e37586e1a",
   "execution_count": 22,
   "outputs": []
  },
  {
   "metadata": {
    "ExecuteTime": {
     "end_time": "2024-05-03T19:57:46.303961Z",
     "start_time": "2024-05-03T19:57:46.158007Z"
    }
   },
   "cell_type": "code",
   "source": [
    "rmse = model.calculate_rmse(test_loader)\n",
    "print(f\"RMSE: {rmse}\")"
   ],
   "id": "b667aac16803c88a",
   "execution_count": 23,
   "outputs": []
  },
  {
   "metadata": {
    "jupyter": {
     "is_executing": true
    }
   },
   "cell_type": "code",
   "source": "print('test')",
   "id": "4c92430ca6de42e8",
   "outputs": [],
   "execution_count": null
  },
  {
   "metadata": {},
   "cell_type": "code",
   "outputs": [],
   "execution_count": null,
   "source": "",
   "id": "3530665db4971945"
  }
 ],
 "metadata": {
  "kernelspec": {
   "display_name": "Python 3",
   "language": "python",
   "name": "python3"
  },
  "language_info": {
   "codemirror_mode": {
    "name": "ipython",
    "version": 2
   },
   "file_extension": ".py",
   "mimetype": "text/x-python",
   "name": "python",
   "nbconvert_exporter": "python",
   "pygments_lexer": "ipython2",
   "version": "2.7.6"
  }
 },
 "nbformat": 4,
 "nbformat_minor": 5
}
