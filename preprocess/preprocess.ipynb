{
 "cells": [
  {
   "cell_type": "code",
   "id": "initial_id",
   "metadata": {
    "collapsed": true,
    "ExecuteTime": {
     "end_time": "2024-05-03T00:56:25.418109Z",
     "start_time": "2024-05-03T00:56:24.900978Z"
    }
   },
   "source": [
    "import numpy as np\n",
    "import pandas as pd\n",
    "import scipy.stats as stats\n",
    "from collections import defaultdict\n",
    "from sklearn.preprocessing import LabelEncoder\n",
    "from sklearn.cluster import KMeans"
   ],
   "execution_count": 1,
   "outputs": []
  },
  {
   "metadata": {
    "ExecuteTime": {
     "end_time": "2024-05-03T00:56:32.614069Z",
     "start_time": "2024-05-03T00:56:32.566518Z"
    }
   },
   "cell_type": "code",
   "source": [
    "df = pd.read_csv('../dataset/ml-latest-small/ratings.csv')\n",
    "df = df[['userId', 'movieId', 'rating']]\n",
    "df.head()"
   ],
   "id": "83cfdead9ce50a15",
   "execution_count": 2,
   "outputs": []
  },
  {
   "metadata": {
    "ExecuteTime": {
     "end_time": "2024-04-18T10:48:49.069973Z",
     "start_time": "2024-04-18T10:48:49.065696Z"
    }
   },
   "cell_type": "code",
   "source": "df.values",
   "id": "ba40d056b5f55ab4",
   "execution_count": 4,
   "outputs": []
  },
  {
   "metadata": {
    "ExecuteTime": {
     "end_time": "2024-04-18T11:16:13.274872Z",
     "start_time": "2024-04-18T11:16:12.964623Z"
    }
   },
   "cell_type": "code",
   "source": [
    "df = pd.read_csv('../dataset/ml-latest-small/ratings.csv')\n",
    "df = df.pivot_table(index=df['userId'], columns='movieId', values='rating').fillna(0)\n",
    "\n",
    "sparse_matrix = csr_matrix(df)\n",
    "dense_array = sparse_matrix.toarray()\n",
    "\n",
    "\n",
    "kmeans = KMeans(n_clusters=4)\n",
    "kmeans.fit(dense_array)\n",
    "\n",
    "centers = kmeans.cluster_centers_\n",
    "labels = kmeans.labels_"
   ],
   "id": "de2733cdc233300f",
   "execution_count": 28,
   "outputs": []
  },
  {
   "metadata": {
    "ExecuteTime": {
     "end_time": "2024-04-18T11:16:13.839025Z",
     "start_time": "2024-04-18T11:16:13.675196Z"
    }
   },
   "cell_type": "code",
   "source": [
    "# Extract x, y coordinates and values from the matrix\n",
    "x_coords = dense_array[:, 0]\n",
    "y_coords = dense_array[:, 1]\n",
    "values = dense_array[:, 2]\n",
    "\n",
    "# Plot the data points with cluster assignments\n",
    "plt.scatter(x_coords, y_coords, c=labels, cmap='viridis')\n",
    "plt.scatter(centers[:, 0], centers[:, 1], marker='X', s=100, c='red', label='Cluster Centers')\n",
    "plt.xlabel('X Coordinate')\n",
    "plt.ylabel('Y Coordinate')\n",
    "plt.title('KMeans Clustering of User-Item Interactions')\n",
    "plt.colorbar(label='Cluster Label')\n",
    "plt.legend()\n",
    "plt.grid(True)\n",
    "plt.show()"
   ],
   "id": "e001ba873f994681",
   "execution_count": 29,
   "outputs": []
  },
  {
   "metadata": {},
   "cell_type": "code",
   "outputs": [],
   "execution_count": null,
   "source": "",
   "id": "39ad5c12d77e40b0"
  },
  {
   "metadata": {
    "ExecuteTime": {
     "end_time": "2024-04-18T11:19:02.461038Z",
     "start_time": "2024-04-18T11:19:02.457290Z"
    }
   },
   "cell_type": "code",
   "source": "dense_array[0:5]",
   "id": "a1325ee15c3b2794",
   "execution_count": 35,
   "outputs": []
  },
  {
   "metadata": {
    "ExecuteTime": {
     "end_time": "2024-04-18T11:23:58.364901Z",
     "start_time": "2024-04-18T11:23:57.998511Z"
    }
   },
   "cell_type": "code",
   "source": [
    "\n",
    "# Plot the sparse matrix as a heatmap\n",
    "plt.figure(figsize=(8, 6))\n",
    "plt.imshow(sparse_matrix.toarray(), cmap='viridis', aspect='auto')\n",
    "plt.colorbar(label='Rating')main\n",
    "plt.xlabel('Item Index')\n",
    "plt.ylabel('User Index')\n",
    "plt.title('Sparse Matrix Visualization')\n",
    "plt.show()"
   ],
   "id": "b210a9d348574303",
   "execution_count": 36,
   "outputs": []
  },
  {
   "metadata": {},
   "cell_type": "code",
   "execution_count": null,
   "source": "",
   "id": "740b8764059952f3",
   "outputs": []
  }
 ],
 "metadata": {
  "kernelspec": {
   "display_name": "Python 3",
   "language": "python",
   "name": "python3"
  },
  "language_info": {
   "codemirror_mode": {
    "name": "ipython",
    "version": 2
   },
   "file_extension": ".py",
   "mimetype": "text/x-python",
   "name": "python",
   "nbconvert_exporter": "python",
   "pygments_lexer": "ipython2",
   "version": "2.7.6"
  }
 },
 "nbformat": 4,
 "nbformat_minor": 5
}
