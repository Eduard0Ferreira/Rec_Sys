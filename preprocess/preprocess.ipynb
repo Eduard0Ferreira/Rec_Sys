{
 "cells": [
  {
   "metadata": {
    "ExecuteTime": {
     "end_time": "2024-05-10T23:22:47.778240Z",
     "start_time": "2024-05-10T23:22:46.253267Z"
    }
   },
   "cell_type": "code",
   "source": [
    "import pandas as pd\n",
    "\n",
    "from preprocess import Tags_Movielens, ProcessReviews\n",
    "\n",
    "tag = Tags_Movielens()\n",
    "# tag.preprocess()"
   ],
   "id": "740b8764059952f3",
   "outputs": [],
   "execution_count": 1
  },
  {
   "metadata": {
    "ExecuteTime": {
     "end_time": "2024-05-10T23:23:00.670818Z",
     "start_time": "2024-05-10T23:22:47.779340Z"
    }
   },
   "cell_type": "code",
   "source": [
    "reviews = ProcessReviews()\n",
    "reviews.start()"
   ],
   "id": "604732da3cd02b1b",
   "outputs": [],
   "execution_count": 2
  },
  {
   "metadata": {},
   "cell_type": "code",
   "source": "print(\"urls_neg\")",
   "id": "32d0feb35b0d1c0b",
   "outputs": [],
   "execution_count": null
  },
  {
   "metadata": {
    "ExecuteTime": {
     "end_time": "2024-05-10T22:56:27.539888Z",
     "start_time": "2024-05-10T22:56:27.536544Z"
    }
   },
   "cell_type": "code",
   "source": [
    "file =  [\"test\", \"urls_pos\"]\n",
    "path = f'../../../Dataset/aclImdb/{file[0]}/{file[1]}.txt'\n",
    "print(path)"
   ],
   "id": "a11927374a6745d8",
   "outputs": [
    {
     "name": "stdout",
     "output_type": "stream",
     "text": [
      "../../../Dataset/aclImdb/test/urls_pos.txt\n"
     ]
    }
   ],
   "execution_count": 6
  },
  {
   "metadata": {
    "ExecuteTime": {
     "end_time": "2024-05-10T22:56:28.711587Z",
     "start_time": "2024-05-10T22:56:28.696260Z"
    }
   },
   "cell_type": "code",
   "source": [
    "x = pd.read_csv(path)\n",
    "df_url_ = pd.read_csv(path, sep='\\t', names=['url'])\n"
   ],
   "id": "1ab48fd8e8e9f65f",
   "outputs": [],
   "execution_count": 7
  },
  {
   "metadata": {
    "ExecuteTime": {
     "end_time": "2024-05-10T22:56:30.386964Z",
     "start_time": "2024-05-10T22:56:30.372430Z"
    }
   },
   "cell_type": "code",
   "source": "df_url = df_url_.url.str.split(r\"http://www.imdb.com/title/|/usercomments\", expand=True)",
   "id": "e36f2cabc6aa9621",
   "outputs": [],
   "execution_count": 8
  },
  {
   "metadata": {
    "ExecuteTime": {
     "end_time": "2024-05-10T22:56:32.021989Z",
     "start_time": "2024-05-10T22:56:32.011824Z"
    }
   },
   "cell_type": "code",
   "source": "df_url",
   "id": "95821e98c0acc918",
   "outputs": [
    {
     "data": {
      "text/plain": [
       "      0           1 2 \n",
       "0         tt0406816   \n",
       "1         tt0406816   \n",
       "2         tt0406816   \n",
       "3         tt0406816   \n",
       "4         tt0406816   \n",
       "...   ..        ... ..\n",
       "12495     tt0450357   \n",
       "12496     tt0450357   \n",
       "12497     tt0450357   \n",
       "12498     tt0450357   \n",
       "12499     tt0450357   \n",
       "\n",
       "[12500 rows x 3 columns]"
      ],
      "text/html": [
       "<div>\n",
       "<style scoped>\n",
       "    .dataframe tbody tr th:only-of-type {\n",
       "        vertical-align: middle;\n",
       "    }\n",
       "\n",
       "    .dataframe tbody tr th {\n",
       "        vertical-align: top;\n",
       "    }\n",
       "\n",
       "    .dataframe thead th {\n",
       "        text-align: right;\n",
       "    }\n",
       "</style>\n",
       "<table border=\"1\" class=\"dataframe\">\n",
       "  <thead>\n",
       "    <tr style=\"text-align: right;\">\n",
       "      <th></th>\n",
       "      <th>0</th>\n",
       "      <th>1</th>\n",
       "      <th>2</th>\n",
       "    </tr>\n",
       "  </thead>\n",
       "  <tbody>\n",
       "    <tr>\n",
       "      <th>0</th>\n",
       "      <td></td>\n",
       "      <td>tt0406816</td>\n",
       "      <td></td>\n",
       "    </tr>\n",
       "    <tr>\n",
       "      <th>1</th>\n",
       "      <td></td>\n",
       "      <td>tt0406816</td>\n",
       "      <td></td>\n",
       "    </tr>\n",
       "    <tr>\n",
       "      <th>2</th>\n",
       "      <td></td>\n",
       "      <td>tt0406816</td>\n",
       "      <td></td>\n",
       "    </tr>\n",
       "    <tr>\n",
       "      <th>3</th>\n",
       "      <td></td>\n",
       "      <td>tt0406816</td>\n",
       "      <td></td>\n",
       "    </tr>\n",
       "    <tr>\n",
       "      <th>4</th>\n",
       "      <td></td>\n",
       "      <td>tt0406816</td>\n",
       "      <td></td>\n",
       "    </tr>\n",
       "    <tr>\n",
       "      <th>...</th>\n",
       "      <td>...</td>\n",
       "      <td>...</td>\n",
       "      <td>...</td>\n",
       "    </tr>\n",
       "    <tr>\n",
       "      <th>12495</th>\n",
       "      <td></td>\n",
       "      <td>tt0450357</td>\n",
       "      <td></td>\n",
       "    </tr>\n",
       "    <tr>\n",
       "      <th>12496</th>\n",
       "      <td></td>\n",
       "      <td>tt0450357</td>\n",
       "      <td></td>\n",
       "    </tr>\n",
       "    <tr>\n",
       "      <th>12497</th>\n",
       "      <td></td>\n",
       "      <td>tt0450357</td>\n",
       "      <td></td>\n",
       "    </tr>\n",
       "    <tr>\n",
       "      <th>12498</th>\n",
       "      <td></td>\n",
       "      <td>tt0450357</td>\n",
       "      <td></td>\n",
       "    </tr>\n",
       "    <tr>\n",
       "      <th>12499</th>\n",
       "      <td></td>\n",
       "      <td>tt0450357</td>\n",
       "      <td></td>\n",
       "    </tr>\n",
       "  </tbody>\n",
       "</table>\n",
       "<p>12500 rows × 3 columns</p>\n",
       "</div>"
      ]
     },
     "execution_count": 9,
     "metadata": {},
     "output_type": "execute_result"
    }
   ],
   "execution_count": 9
  },
  {
   "metadata": {
    "ExecuteTime": {
     "end_time": "2024-05-10T23:20:14.970407Z",
     "start_time": "2024-05-10T23:20:14.959665Z"
    }
   },
   "cell_type": "code",
   "source": "test",
   "id": "78ab5cd3e1821389",
   "outputs": [
    {
     "data": {
      "text/plain": [
       "      imdbId                                                tag\n",
       "0     100150                                              Mafia\n",
       "1     100157  claustrophobic, horror, scary, stephen king, s...\n",
       "2     100211                                              Nazis\n",
       "3     100212                                              Mafia\n",
       "4     100263                                            hit men\n",
       "...      ...                                                ...\n",
       "1567   99726                                        Shakespeare\n",
       "1568   99776                            Holocaust, World War II\n",
       "1569   99785                                          christmas\n",
       "1570   99810                                         Tom Clancy\n",
       "1571   99851                      fairy tales, In Netflix queue\n",
       "\n",
       "[1572 rows x 2 columns]"
      ],
      "text/html": [
       "<div>\n",
       "<style scoped>\n",
       "    .dataframe tbody tr th:only-of-type {\n",
       "        vertical-align: middle;\n",
       "    }\n",
       "\n",
       "    .dataframe tbody tr th {\n",
       "        vertical-align: top;\n",
       "    }\n",
       "\n",
       "    .dataframe thead th {\n",
       "        text-align: right;\n",
       "    }\n",
       "</style>\n",
       "<table border=\"1\" class=\"dataframe\">\n",
       "  <thead>\n",
       "    <tr style=\"text-align: right;\">\n",
       "      <th></th>\n",
       "      <th>imdbId</th>\n",
       "      <th>tag</th>\n",
       "    </tr>\n",
       "  </thead>\n",
       "  <tbody>\n",
       "    <tr>\n",
       "      <th>0</th>\n",
       "      <td>100150</td>\n",
       "      <td>Mafia</td>\n",
       "    </tr>\n",
       "    <tr>\n",
       "      <th>1</th>\n",
       "      <td>100157</td>\n",
       "      <td>claustrophobic, horror, scary, stephen king, s...</td>\n",
       "    </tr>\n",
       "    <tr>\n",
       "      <th>2</th>\n",
       "      <td>100211</td>\n",
       "      <td>Nazis</td>\n",
       "    </tr>\n",
       "    <tr>\n",
       "      <th>3</th>\n",
       "      <td>100212</td>\n",
       "      <td>Mafia</td>\n",
       "    </tr>\n",
       "    <tr>\n",
       "      <th>4</th>\n",
       "      <td>100263</td>\n",
       "      <td>hit men</td>\n",
       "    </tr>\n",
       "    <tr>\n",
       "      <th>...</th>\n",
       "      <td>...</td>\n",
       "      <td>...</td>\n",
       "    </tr>\n",
       "    <tr>\n",
       "      <th>1567</th>\n",
       "      <td>99726</td>\n",
       "      <td>Shakespeare</td>\n",
       "    </tr>\n",
       "    <tr>\n",
       "      <th>1568</th>\n",
       "      <td>99776</td>\n",
       "      <td>Holocaust, World War II</td>\n",
       "    </tr>\n",
       "    <tr>\n",
       "      <th>1569</th>\n",
       "      <td>99785</td>\n",
       "      <td>christmas</td>\n",
       "    </tr>\n",
       "    <tr>\n",
       "      <th>1570</th>\n",
       "      <td>99810</td>\n",
       "      <td>Tom Clancy</td>\n",
       "    </tr>\n",
       "    <tr>\n",
       "      <th>1571</th>\n",
       "      <td>99851</td>\n",
       "      <td>fairy tales, In Netflix queue</td>\n",
       "    </tr>\n",
       "  </tbody>\n",
       "</table>\n",
       "<p>1572 rows × 2 columns</p>\n",
       "</div>"
      ]
     },
     "execution_count": 4,
     "metadata": {},
     "output_type": "execute_result"
    }
   ],
   "execution_count": 4
  },
  {
   "metadata": {
    "ExecuteTime": {
     "end_time": "2024-05-10T23:31:59.487383Z",
     "start_time": "2024-05-10T23:31:59.024744Z"
    }
   },
   "cell_type": "code",
   "source": [
    "rev = pd.read_csv('../dataset/processed/imdb_reviews.csv', sep=',')\n",
    "rev['review'].describe"
   ],
   "id": "643aac2d23d13cb3",
   "outputs": [
    {
     "data": {
      "text/plain": [
       "<bound method NDFrame.describe of 0        I wasn't so impressed with this film, finding ...\n",
       "1        Worth the entertainment value of a rental, esp...\n",
       "2        Abysmal pulp adventure exploitation in the jun...\n",
       "3        I'm at a loss. This entire movie made absolute...\n",
       "4        Why would anyone make a film like this? Why wo...\n",
       "                               ...                        \n",
       "49995    Very sweet pilot. The show reeks of Tim Burton...\n",
       "49996    The true story of a bunch of junkies robbing a...\n",
       "49997    An imagination is a terrible thing to waste .....\n",
       "49998    Just a comment on New Orleans accents...<br />...\n",
       "49999    This movie really surprised me. I had my doubt...\n",
       "Name: review, Length: 50000, dtype: object>"
      ]
     },
     "execution_count": 7,
     "metadata": {},
     "output_type": "execute_result"
    }
   ],
   "execution_count": 7
  },
  {
   "metadata": {},
   "cell_type": "code",
   "outputs": [],
   "execution_count": null,
   "source": "",
   "id": "191beda0ca8af5cf"
  }
 ],
 "metadata": {
  "kernelspec": {
   "display_name": "Python 3",
   "language": "python",
   "name": "python3"
  },
  "language_info": {
   "codemirror_mode": {
    "name": "ipython",
    "version": 2
   },
   "file_extension": ".py",
   "mimetype": "text/x-python",
   "name": "python",
   "nbconvert_exporter": "python",
   "pygments_lexer": "ipython2",
   "version": "2.7.6"
  }
 },
 "nbformat": 4,
 "nbformat_minor": 5
}
